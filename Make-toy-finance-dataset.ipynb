{
 "cells": [
  {
   "cell_type": "code",
   "execution_count": 1,
   "metadata": {},
   "outputs": [],
   "source": [
    "import random\n",
    "\n",
    "import pandas as pd\n",
    "import numpy as np\n",
    "\n",
    "import matplotlib.pyplot as plt"
   ]
  },
  {
   "cell_type": "code",
   "execution_count": 2,
   "metadata": {},
   "outputs": [
    {
     "data": {
      "text/html": [
       "<div>\n",
       "<style scoped>\n",
       "    .dataframe tbody tr th:only-of-type {\n",
       "        vertical-align: middle;\n",
       "    }\n",
       "\n",
       "    .dataframe tbody tr th {\n",
       "        vertical-align: top;\n",
       "    }\n",
       "\n",
       "    .dataframe thead th {\n",
       "        text-align: right;\n",
       "    }\n",
       "</style>\n",
       "<table border=\"1\" class=\"dataframe\">\n",
       "  <thead>\n",
       "    <tr style=\"text-align: right;\">\n",
       "      <th></th>\n",
       "      <th>id</th>\n",
       "      <th>loan_amnt</th>\n",
       "      <th>int_rate</th>\n",
       "      <th>grade</th>\n",
       "      <th>emp_title</th>\n",
       "      <th>emp_length</th>\n",
       "      <th>home_ownership</th>\n",
       "      <th>annual_inc</th>\n",
       "      <th>issue_d</th>\n",
       "      <th>loan_status</th>\n",
       "      <th>purpose</th>\n",
       "      <th>open_acc</th>\n",
       "      <th>last_pymnt_d</th>\n",
       "      <th>open_il_12m</th>\n",
       "    </tr>\n",
       "  </thead>\n",
       "  <tbody>\n",
       "    <tr>\n",
       "      <th>131079</th>\n",
       "      <td>5554979</td>\n",
       "      <td>23675.0</td>\n",
       "      <td>15.80</td>\n",
       "      <td>C</td>\n",
       "      <td>Fairmont Hotel</td>\n",
       "      <td>1 year</td>\n",
       "      <td>RENT</td>\n",
       "      <td>90000.0</td>\n",
       "      <td>Jun-2013</td>\n",
       "      <td>Current</td>\n",
       "      <td>debt_consolidation</td>\n",
       "      <td>4.0</td>\n",
       "      <td>Jan-2016</td>\n",
       "      <td>NaN</td>\n",
       "    </tr>\n",
       "    <tr>\n",
       "      <th>384935</th>\n",
       "      <td>16552323</td>\n",
       "      <td>7500.0</td>\n",
       "      <td>11.67</td>\n",
       "      <td>B</td>\n",
       "      <td>Electrician</td>\n",
       "      <td>1 year</td>\n",
       "      <td>OWN</td>\n",
       "      <td>102000.0</td>\n",
       "      <td>May-2014</td>\n",
       "      <td>Current</td>\n",
       "      <td>car</td>\n",
       "      <td>11.0</td>\n",
       "      <td>Jan-2016</td>\n",
       "      <td>NaN</td>\n",
       "    </tr>\n",
       "    <tr>\n",
       "      <th>73585</th>\n",
       "      <td>8185454</td>\n",
       "      <td>11150.0</td>\n",
       "      <td>9.25</td>\n",
       "      <td>A</td>\n",
       "      <td>Product Manager</td>\n",
       "      <td>2 years</td>\n",
       "      <td>RENT</td>\n",
       "      <td>72000.0</td>\n",
       "      <td>Oct-2013</td>\n",
       "      <td>Fully Paid</td>\n",
       "      <td>credit_card</td>\n",
       "      <td>6.0</td>\n",
       "      <td>Sep-2014</td>\n",
       "      <td>NaN</td>\n",
       "    </tr>\n",
       "    <tr>\n",
       "      <th>660814</th>\n",
       "      <td>56180166</td>\n",
       "      <td>8000.0</td>\n",
       "      <td>6.24</td>\n",
       "      <td>A</td>\n",
       "      <td>Manufacturing Manager</td>\n",
       "      <td>5 years</td>\n",
       "      <td>RENT</td>\n",
       "      <td>101400.0</td>\n",
       "      <td>Aug-2015</td>\n",
       "      <td>Current</td>\n",
       "      <td>debt_consolidation</td>\n",
       "      <td>20.0</td>\n",
       "      <td>Jan-2016</td>\n",
       "      <td>NaN</td>\n",
       "    </tr>\n",
       "    <tr>\n",
       "      <th>349757</th>\n",
       "      <td>16772363</td>\n",
       "      <td>34000.0</td>\n",
       "      <td>19.52</td>\n",
       "      <td>E</td>\n",
       "      <td>ASSISTANT PENSION ADMINISTRATOR</td>\n",
       "      <td>10+ years</td>\n",
       "      <td>RENT</td>\n",
       "      <td>99000.0</td>\n",
       "      <td>Jul-2014</td>\n",
       "      <td>Current</td>\n",
       "      <td>credit_card</td>\n",
       "      <td>12.0</td>\n",
       "      <td>Jan-2016</td>\n",
       "      <td>NaN</td>\n",
       "    </tr>\n",
       "  </tbody>\n",
       "</table>\n",
       "</div>"
      ],
      "text/plain": [
       "              id  loan_amnt  int_rate grade                        emp_title  \\\n",
       "131079   5554979    23675.0     15.80     C                   Fairmont Hotel   \n",
       "384935  16552323     7500.0     11.67     B                      Electrician   \n",
       "73585    8185454    11150.0      9.25     A                  Product Manager   \n",
       "660814  56180166     8000.0      6.24     A            Manufacturing Manager   \n",
       "349757  16772363    34000.0     19.52     E  ASSISTANT PENSION ADMINISTRATOR   \n",
       "\n",
       "       emp_length home_ownership  annual_inc   issue_d loan_status  \\\n",
       "131079     1 year           RENT     90000.0  Jun-2013     Current   \n",
       "384935     1 year            OWN    102000.0  May-2014     Current   \n",
       "73585     2 years           RENT     72000.0  Oct-2013  Fully Paid   \n",
       "660814    5 years           RENT    101400.0  Aug-2015     Current   \n",
       "349757  10+ years           RENT     99000.0  Jul-2014     Current   \n",
       "\n",
       "                   purpose  open_acc last_pymnt_d  open_il_12m  \n",
       "131079  debt_consolidation       4.0     Jan-2016          NaN  \n",
       "384935                 car      11.0     Jan-2016          NaN  \n",
       "73585          credit_card       6.0     Sep-2014          NaN  \n",
       "660814  debt_consolidation      20.0     Jan-2016          NaN  \n",
       "349757         credit_card      12.0     Jan-2016          NaN  "
      ]
     },
     "execution_count": 2,
     "metadata": {},
     "output_type": "execute_result"
    }
   ],
   "source": [
    "use_cols = [\n",
    "    'id', 'loan_amnt', 'int_rate', 'grade','issue_d', 'purpose',\n",
    "    'home_ownership', 'annual_inc', 'open_acc', 'open_il_12m',\n",
    "    'last_pymnt_d', 'loan_status', 'emp_title', 'emp_length'\n",
    "]\n",
    "\n",
    "data = pd.read_csv('lending_club.csv', usecols=use_cols).sample(\n",
    "    10000, random_state=44)  # set a seed for reproducibility\n",
    "\n",
    "data.head()"
   ]
  },
  {
   "cell_type": "code",
   "execution_count": 3,
   "metadata": {},
   "outputs": [
    {
     "data": {
      "text/plain": [
       "{'id': 'customer_id',\n",
       " 'loan_amnt': 'disbursed_amount',\n",
       " 'int_rate': 'interest',\n",
       " 'grade': 'market',\n",
       " 'issue_d': 'date_issued',\n",
       " 'purpose': 'loan_purpose',\n",
       " 'home_ownership': 'householder',\n",
       " 'annual_inc': 'income',\n",
       " 'open_acc': 'number_open_accounts',\n",
       " 'open_il_12m': 'number_credit_lines_12',\n",
       " 'last_pymnt_d': 'date_last_payment',\n",
       " 'loan_status': 'target',\n",
       " 'emp_title': 'employment',\n",
       " 'emp_length': 'time_employed'}"
      ]
     },
     "execution_count": 3,
     "metadata": {},
     "output_type": "execute_result"
    }
   ],
   "source": [
    "new_cols = [\n",
    "    'customer_id', 'disbursed_amount', 'interest', 'market','date_issued', 'loan_purpose',\n",
    "    'householder', 'income', 'number_open_accounts', 'number_credit_lines_12',\n",
    "    'date_last_payment', 'target', 'employment', 'time_employed'\n",
    "]\n",
    "\n",
    "rename_dict = dict(zip(use_cols, new_cols))\n",
    "rename_dict"
   ]
  },
  {
   "cell_type": "code",
   "execution_count": 4,
   "metadata": {},
   "outputs": [
    {
     "data": {
      "text/html": [
       "<div>\n",
       "<style scoped>\n",
       "    .dataframe tbody tr th:only-of-type {\n",
       "        vertical-align: middle;\n",
       "    }\n",
       "\n",
       "    .dataframe tbody tr th {\n",
       "        vertical-align: top;\n",
       "    }\n",
       "\n",
       "    .dataframe thead th {\n",
       "        text-align: right;\n",
       "    }\n",
       "</style>\n",
       "<table border=\"1\" class=\"dataframe\">\n",
       "  <thead>\n",
       "    <tr style=\"text-align: right;\">\n",
       "      <th></th>\n",
       "      <th>customer_id</th>\n",
       "      <th>disbursed_amount</th>\n",
       "      <th>interest</th>\n",
       "      <th>market</th>\n",
       "      <th>employment</th>\n",
       "      <th>time_employed</th>\n",
       "      <th>householder</th>\n",
       "      <th>income</th>\n",
       "      <th>date_issued</th>\n",
       "      <th>target</th>\n",
       "      <th>loan_purpose</th>\n",
       "      <th>number_open_accounts</th>\n",
       "      <th>date_last_payment</th>\n",
       "      <th>number_credit_lines_12</th>\n",
       "    </tr>\n",
       "  </thead>\n",
       "  <tbody>\n",
       "    <tr>\n",
       "      <th>131079</th>\n",
       "      <td>5554979</td>\n",
       "      <td>23675.0</td>\n",
       "      <td>15.80</td>\n",
       "      <td>C</td>\n",
       "      <td>Fairmont Hotel</td>\n",
       "      <td>1 year</td>\n",
       "      <td>RENT</td>\n",
       "      <td>90000.0</td>\n",
       "      <td>Jun-2013</td>\n",
       "      <td>Current</td>\n",
       "      <td>debt_consolidation</td>\n",
       "      <td>4.0</td>\n",
       "      <td>Jan-2016</td>\n",
       "      <td>NaN</td>\n",
       "    </tr>\n",
       "    <tr>\n",
       "      <th>384935</th>\n",
       "      <td>16552323</td>\n",
       "      <td>7500.0</td>\n",
       "      <td>11.67</td>\n",
       "      <td>B</td>\n",
       "      <td>Electrician</td>\n",
       "      <td>1 year</td>\n",
       "      <td>OWN</td>\n",
       "      <td>102000.0</td>\n",
       "      <td>May-2014</td>\n",
       "      <td>Current</td>\n",
       "      <td>car</td>\n",
       "      <td>11.0</td>\n",
       "      <td>Jan-2016</td>\n",
       "      <td>NaN</td>\n",
       "    </tr>\n",
       "    <tr>\n",
       "      <th>73585</th>\n",
       "      <td>8185454</td>\n",
       "      <td>11150.0</td>\n",
       "      <td>9.25</td>\n",
       "      <td>A</td>\n",
       "      <td>Product Manager</td>\n",
       "      <td>2 years</td>\n",
       "      <td>RENT</td>\n",
       "      <td>72000.0</td>\n",
       "      <td>Oct-2013</td>\n",
       "      <td>Fully Paid</td>\n",
       "      <td>credit_card</td>\n",
       "      <td>6.0</td>\n",
       "      <td>Sep-2014</td>\n",
       "      <td>NaN</td>\n",
       "    </tr>\n",
       "    <tr>\n",
       "      <th>660814</th>\n",
       "      <td>56180166</td>\n",
       "      <td>8000.0</td>\n",
       "      <td>6.24</td>\n",
       "      <td>A</td>\n",
       "      <td>Manufacturing Manager</td>\n",
       "      <td>5 years</td>\n",
       "      <td>RENT</td>\n",
       "      <td>101400.0</td>\n",
       "      <td>Aug-2015</td>\n",
       "      <td>Current</td>\n",
       "      <td>debt_consolidation</td>\n",
       "      <td>20.0</td>\n",
       "      <td>Jan-2016</td>\n",
       "      <td>NaN</td>\n",
       "    </tr>\n",
       "    <tr>\n",
       "      <th>349757</th>\n",
       "      <td>16772363</td>\n",
       "      <td>34000.0</td>\n",
       "      <td>19.52</td>\n",
       "      <td>E</td>\n",
       "      <td>ASSISTANT PENSION ADMINISTRATOR</td>\n",
       "      <td>10+ years</td>\n",
       "      <td>RENT</td>\n",
       "      <td>99000.0</td>\n",
       "      <td>Jul-2014</td>\n",
       "      <td>Current</td>\n",
       "      <td>credit_card</td>\n",
       "      <td>12.0</td>\n",
       "      <td>Jan-2016</td>\n",
       "      <td>NaN</td>\n",
       "    </tr>\n",
       "  </tbody>\n",
       "</table>\n",
       "</div>"
      ],
      "text/plain": [
       "        customer_id  disbursed_amount  interest market  \\\n",
       "131079      5554979           23675.0     15.80      C   \n",
       "384935     16552323            7500.0     11.67      B   \n",
       "73585       8185454           11150.0      9.25      A   \n",
       "660814     56180166            8000.0      6.24      A   \n",
       "349757     16772363           34000.0     19.52      E   \n",
       "\n",
       "                             employment time_employed householder    income  \\\n",
       "131079                   Fairmont Hotel        1 year        RENT   90000.0   \n",
       "384935                      Electrician        1 year         OWN  102000.0   \n",
       "73585                   Product Manager       2 years        RENT   72000.0   \n",
       "660814            Manufacturing Manager       5 years        RENT  101400.0   \n",
       "349757  ASSISTANT PENSION ADMINISTRATOR     10+ years        RENT   99000.0   \n",
       "\n",
       "       date_issued      target        loan_purpose  number_open_accounts  \\\n",
       "131079    Jun-2013     Current  debt_consolidation                   4.0   \n",
       "384935    May-2014     Current                 car                  11.0   \n",
       "73585     Oct-2013  Fully Paid         credit_card                   6.0   \n",
       "660814    Aug-2015     Current  debt_consolidation                  20.0   \n",
       "349757    Jul-2014     Current         credit_card                  12.0   \n",
       "\n",
       "       date_last_payment  number_credit_lines_12  \n",
       "131079          Jan-2016                     NaN  \n",
       "384935          Jan-2016                     NaN  \n",
       "73585           Sep-2014                     NaN  \n",
       "660814          Jan-2016                     NaN  \n",
       "349757          Jan-2016                     NaN  "
      ]
     },
     "execution_count": 4,
     "metadata": {},
     "output_type": "execute_result"
    }
   ],
   "source": [
    "data.rename(columns=rename_dict, inplace=True)\n",
    "data.head()"
   ]
  },
  {
   "cell_type": "code",
   "execution_count": 5,
   "metadata": {},
   "outputs": [
    {
     "data": {
      "text/html": [
       "<div>\n",
       "<style scoped>\n",
       "    .dataframe tbody tr th:only-of-type {\n",
       "        vertical-align: middle;\n",
       "    }\n",
       "\n",
       "    .dataframe tbody tr th {\n",
       "        vertical-align: top;\n",
       "    }\n",
       "\n",
       "    .dataframe thead th {\n",
       "        text-align: right;\n",
       "    }\n",
       "</style>\n",
       "<table border=\"1\" class=\"dataframe\">\n",
       "  <thead>\n",
       "    <tr style=\"text-align: right;\">\n",
       "      <th></th>\n",
       "      <th>customer_id</th>\n",
       "      <th>disbursed_amount</th>\n",
       "      <th>interest</th>\n",
       "      <th>market</th>\n",
       "      <th>employment</th>\n",
       "      <th>time_employed</th>\n",
       "      <th>householder</th>\n",
       "      <th>income</th>\n",
       "      <th>date_issued</th>\n",
       "      <th>target</th>\n",
       "      <th>loan_purpose</th>\n",
       "      <th>number_open_accounts</th>\n",
       "      <th>date_last_payment</th>\n",
       "      <th>number_credit_lines_12</th>\n",
       "    </tr>\n",
       "  </thead>\n",
       "  <tbody>\n",
       "    <tr>\n",
       "      <th>0</th>\n",
       "      <td>5554979</td>\n",
       "      <td>23675.0</td>\n",
       "      <td>15.80</td>\n",
       "      <td>C</td>\n",
       "      <td>Fairmont Hotel</td>\n",
       "      <td>1 year</td>\n",
       "      <td>RENT</td>\n",
       "      <td>90000.0</td>\n",
       "      <td>Jun-2013</td>\n",
       "      <td>Current</td>\n",
       "      <td>debt_consolidation</td>\n",
       "      <td>4.0</td>\n",
       "      <td>Jan-2016</td>\n",
       "      <td>NaN</td>\n",
       "    </tr>\n",
       "    <tr>\n",
       "      <th>1</th>\n",
       "      <td>16552323</td>\n",
       "      <td>7500.0</td>\n",
       "      <td>11.67</td>\n",
       "      <td>B</td>\n",
       "      <td>Electrician</td>\n",
       "      <td>1 year</td>\n",
       "      <td>OWN</td>\n",
       "      <td>102000.0</td>\n",
       "      <td>May-2014</td>\n",
       "      <td>Current</td>\n",
       "      <td>car</td>\n",
       "      <td>11.0</td>\n",
       "      <td>Jan-2016</td>\n",
       "      <td>NaN</td>\n",
       "    </tr>\n",
       "    <tr>\n",
       "      <th>2</th>\n",
       "      <td>8185454</td>\n",
       "      <td>11150.0</td>\n",
       "      <td>9.25</td>\n",
       "      <td>A</td>\n",
       "      <td>Product Manager</td>\n",
       "      <td>2 years</td>\n",
       "      <td>RENT</td>\n",
       "      <td>72000.0</td>\n",
       "      <td>Oct-2013</td>\n",
       "      <td>Fully Paid</td>\n",
       "      <td>credit_card</td>\n",
       "      <td>6.0</td>\n",
       "      <td>Sep-2014</td>\n",
       "      <td>NaN</td>\n",
       "    </tr>\n",
       "    <tr>\n",
       "      <th>3</th>\n",
       "      <td>56180166</td>\n",
       "      <td>8000.0</td>\n",
       "      <td>6.24</td>\n",
       "      <td>A</td>\n",
       "      <td>Manufacturing Manager</td>\n",
       "      <td>5 years</td>\n",
       "      <td>RENT</td>\n",
       "      <td>101400.0</td>\n",
       "      <td>Aug-2015</td>\n",
       "      <td>Current</td>\n",
       "      <td>debt_consolidation</td>\n",
       "      <td>20.0</td>\n",
       "      <td>Jan-2016</td>\n",
       "      <td>NaN</td>\n",
       "    </tr>\n",
       "    <tr>\n",
       "      <th>4</th>\n",
       "      <td>16772363</td>\n",
       "      <td>34000.0</td>\n",
       "      <td>19.52</td>\n",
       "      <td>E</td>\n",
       "      <td>ASSISTANT PENSION ADMINISTRATOR</td>\n",
       "      <td>10+ years</td>\n",
       "      <td>RENT</td>\n",
       "      <td>99000.0</td>\n",
       "      <td>Jul-2014</td>\n",
       "      <td>Current</td>\n",
       "      <td>credit_card</td>\n",
       "      <td>12.0</td>\n",
       "      <td>Jan-2016</td>\n",
       "      <td>NaN</td>\n",
       "    </tr>\n",
       "  </tbody>\n",
       "</table>\n",
       "</div>"
      ],
      "text/plain": [
       "   customer_id  disbursed_amount  interest market  \\\n",
       "0      5554979           23675.0     15.80      C   \n",
       "1     16552323            7500.0     11.67      B   \n",
       "2      8185454           11150.0      9.25      A   \n",
       "3     56180166            8000.0      6.24      A   \n",
       "4     16772363           34000.0     19.52      E   \n",
       "\n",
       "                        employment time_employed householder    income  \\\n",
       "0                   Fairmont Hotel        1 year        RENT   90000.0   \n",
       "1                      Electrician        1 year         OWN  102000.0   \n",
       "2                  Product Manager       2 years        RENT   72000.0   \n",
       "3            Manufacturing Manager       5 years        RENT  101400.0   \n",
       "4  ASSISTANT PENSION ADMINISTRATOR     10+ years        RENT   99000.0   \n",
       "\n",
       "  date_issued      target        loan_purpose  number_open_accounts  \\\n",
       "0    Jun-2013     Current  debt_consolidation                   4.0   \n",
       "1    May-2014     Current                 car                  11.0   \n",
       "2    Oct-2013  Fully Paid         credit_card                   6.0   \n",
       "3    Aug-2015     Current  debt_consolidation                  20.0   \n",
       "4    Jul-2014     Current         credit_card                  12.0   \n",
       "\n",
       "  date_last_payment  number_credit_lines_12  \n",
       "0          Jan-2016                     NaN  \n",
       "1          Jan-2016                     NaN  \n",
       "2          Sep-2014                     NaN  \n",
       "3          Jan-2016                     NaN  \n",
       "4          Jan-2016                     NaN  "
      ]
     },
     "execution_count": 5,
     "metadata": {},
     "output_type": "execute_result"
    }
   ],
   "source": [
    "# reset_index\n",
    "data.reset_index(drop=True, inplace=True)\n",
    "data.head()"
   ]
  },
  {
   "cell_type": "code",
   "execution_count": 6,
   "metadata": {},
   "outputs": [
    {
     "data": {
      "text/plain": [
       "0    9983\n",
       "1      17\n",
       "Name: target, dtype: int64"
      ]
     },
     "execution_count": 6,
     "metadata": {},
     "output_type": "execute_result"
    }
   ],
   "source": [
    "# target\n",
    "data['target'] = np.where(data.target.isin(['Default']), 1, 0)\n",
    "data['target'].value_counts()"
   ]
  },
  {
   "cell_type": "code",
   "execution_count": 7,
   "metadata": {},
   "outputs": [
    {
     "data": {
      "text/plain": [
       "(9999, 0)"
      ]
     },
     "execution_count": 7,
     "metadata": {},
     "output_type": "execute_result"
    }
   ],
   "source": [
    "data.index.max(),data.index.min()"
   ]
  },
  {
   "cell_type": "code",
   "execution_count": 8,
   "metadata": {},
   "outputs": [
    {
     "data": {
      "text/plain": [
       "0    9883\n",
       "1     117\n",
       "Name: target, dtype: int64"
      ]
     },
     "execution_count": 8,
     "metadata": {},
     "output_type": "execute_result"
    }
   ],
   "source": [
    "# add a few defaulted\n",
    "data.loc[np.random.randint(0,9999,100), 'target'] = 1\n",
    "data['target'].value_counts()"
   ]
  },
  {
   "cell_type": "code",
   "execution_count": 9,
   "metadata": {},
   "outputs": [],
   "source": [
    "# add a few lines of credit\n",
    "for col in ['number_open_accounts', 'number_credit_lines_12']:\n",
    "    data[col] = data[col] + np.random.randint(0,3,len(data))    "
   ]
  },
  {
   "cell_type": "code",
   "execution_count": 10,
   "metadata": {},
   "outputs": [
    {
     "data": {
      "text/plain": [
       "max    49.0\n",
       "min     1.0\n",
       "Name: number_open_accounts, dtype: float64"
      ]
     },
     "execution_count": 10,
     "metadata": {},
     "output_type": "execute_result"
    }
   ],
   "source": [
    "data['number_open_accounts'].agg(['max', 'min'])"
   ]
  },
  {
   "cell_type": "code",
   "execution_count": 11,
   "metadata": {},
   "outputs": [
    {
     "data": {
      "text/plain": [
       "<matplotlib.axes._subplots.AxesSubplot at 0xe078e9bd60>"
      ]
     },
     "execution_count": 11,
     "metadata": {},
     "output_type": "execute_result"
    },
    {
     "data": {
      "image/png": "[encoded data removed]",
      "text/plain": [
       "<Figure size 432x288 with 1 Axes>"
      ]
     },
     "metadata": {
      "needs_background": "light"
     },
     "output_type": "display_data"
    }
   ],
   "source": [
    "data['number_open_accounts'].hist(bins=100)"
   ]
  },
  {
   "cell_type": "code",
   "execution_count": 12,
   "metadata": {},
   "outputs": [
    {
     "data": {
      "text/plain": [
       "max    6.0\n",
       "min    0.0\n",
       "Name: number_credit_lines_12, dtype: float64"
      ]
     },
     "execution_count": 12,
     "metadata": {},
     "output_type": "execute_result"
    }
   ],
   "source": [
    "data['number_credit_lines_12'].agg(['max', 'min'])"
   ]
  },
  {
   "cell_type": "code",
   "execution_count": 13,
   "metadata": {},
   "outputs": [
    {
     "data": {
      "text/plain": [
       "<matplotlib.axes._subplots.AxesSubplot at 0xe0721c9eb0>"
      ]
     },
     "execution_count": 13,
     "metadata": {},
     "output_type": "execute_result"
    },
    {
     "data": {
      "image/png": "[encoded data removed]",
      "text/plain": [
       "<Figure size 432x288 with 1 Axes>"
      ]
     },
     "metadata": {
      "needs_background": "light"
     },
     "output_type": "display_data"
    }
   ],
   "source": [
    "data['number_credit_lines_12'].hist()"
   ]
  },
  {
   "cell_type": "code",
   "execution_count": 14,
   "metadata": {},
   "outputs": [
    {
     "data": {
      "image/png": "[encoded data removed]",
      "text/plain": [
       "<Figure size 432x288 with 1 Axes>"
      ]
     },
     "metadata": {
      "needs_background": "light"
     },
     "output_type": "display_data"
    },
    {
     "data": {
      "image/png": "[encoded data removed]",
      "text/plain": [
       "<Figure size 432x288 with 1 Axes>"
      ]
     },
     "metadata": {
      "needs_background": "light"
     },
     "output_type": "display_data"
    },
    {
     "data": {
      "image/png": "[encoded data removed]",
      "text/plain": [
       "<Figure size 432x288 with 1 Axes>"
      ]
     },
     "metadata": {
      "needs_background": "light"
     },
     "output_type": "display_data"
    }
   ],
   "source": [
    "for col in ['disbursed_amount','income', 'interest']:\n",
    "    data[col] = data[col] - data[col]*(np.random.randint(0,10,len(data))/100)\n",
    "    data[col].hist(bins=100)\n",
    "    plt.show()"
   ]
  },
  {
   "cell_type": "code",
   "execution_count": 15,
   "metadata": {},
   "outputs": [
    {
     "data": {
      "text/plain": [
       "B    2846\n",
       "C    2730\n",
       "A    1673\n",
       "D    1577\n",
       "E     828\n",
       "F     269\n",
       "G      77\n",
       "Name: market, dtype: int64"
      ]
     },
     "execution_count": 15,
     "metadata": {},
     "output_type": "execute_result"
    }
   ],
   "source": [
    "data['market'].value_counts()"
   ]
  },
  {
   "cell_type": "code",
   "execution_count": 16,
   "metadata": {},
   "outputs": [
    {
     "data": {
      "text/plain": [
       "B    2846\n",
       "C    2730\n",
       "A    1673\n",
       "D    1577\n",
       "E    1174\n",
       "Name: market, dtype: int64"
      ]
     },
     "execution_count": 16,
     "metadata": {},
     "output_type": "execute_result"
    }
   ],
   "source": [
    "data['market'] = np.where(data['market'].isin(['G', 'F']), 'E', data['market'])\n",
    "data['market'].value_counts()"
   ]
  },
  {
   "cell_type": "code",
   "execution_count": 17,
   "metadata": {},
   "outputs": [
    {
     "data": {
      "text/plain": [
       "array(['debt_consolidation', 'car', 'credit_card', 'small_business',\n",
       "       'house', 'moving', 'other', 'home_improvement', 'medical',\n",
       "       'major_purchase', 'vacation', 'educational', 'wedding',\n",
       "       'renewable_energy'], dtype=object)"
      ]
     },
     "execution_count": 17,
     "metadata": {},
     "output_type": "execute_result"
    }
   ],
   "source": [
    "data['loan_purpose'].unique()"
   ]
  },
  {
   "cell_type": "code",
   "execution_count": 18,
   "metadata": {},
   "outputs": [
    {
     "data": {
      "text/plain": [
       "Debt consolidation    8214\n",
       "Other                  880\n",
       "Home improvements      615\n",
       "Car purchase            90\n",
       "Health                  87\n",
       "Holidays                48\n",
       "Moving home             47\n",
       "Wedding                 19\n",
       "Name: loan_purpose, dtype: int64"
      ]
     },
     "execution_count": 18,
     "metadata": {},
     "output_type": "execute_result"
    }
   ],
   "source": [
    "replacement_dict = {\n",
    "    'debt_consolidation': 'Debt consolidation',\n",
    "    'credit_card': 'Debt consolidation',\n",
    "    'car':'Car purchase',\n",
    "    'small_business': 'Other',\n",
    "    'house': 'Home improvements',\n",
    "    'home_improvement': 'Home improvements',\n",
    "    'medical': 'Health',\n",
    "    'moving': 'Moving home',\n",
    "    'other': 'Other', \n",
    "    'major_purchase': 'Other',\n",
    "    'vacation': 'Holidays',\n",
    "    'educational':'Other',\n",
    "    'wedding': 'Wedding',\n",
    "    'renewable_energy':'Other'\n",
    "}\n",
    "\n",
    "data['loan_purpose'] = data['loan_purpose'].map(replacement_dict)\n",
    "data['loan_purpose'].value_counts()"
   ]
  },
  {
   "cell_type": "code",
   "execution_count": 19,
   "metadata": {},
   "outputs": [
    {
     "data": {
      "text/plain": [
       "MORTGAGE    4957\n",
       "RENT        4055\n",
       "OWN          986\n",
       "OTHER          2\n",
       "Name: householder, dtype: int64"
      ]
     },
     "execution_count": 19,
     "metadata": {},
     "output_type": "execute_result"
    }
   ],
   "source": [
    "data['householder'].value_counts()"
   ]
  },
  {
   "cell_type": "code",
   "execution_count": 20,
   "metadata": {},
   "outputs": [
    {
     "data": {
      "text/plain": [
       "MORTGAGE    4957\n",
       "RENT        4055\n",
       "OWNER        988\n",
       "Name: householder, dtype: int64"
      ]
     },
     "execution_count": 20,
     "metadata": {},
     "output_type": "execute_result"
    }
   ],
   "source": [
    "data['householder'] = np.where(data['householder'].isin(['OWN', 'OTHER']), 'OWNER', data['householder'])\n",
    "data['householder'].value_counts()"
   ]
  },
  {
   "cell_type": "code",
   "execution_count": 21,
   "metadata": {},
   "outputs": [
    {
     "data": {
      "text/plain": [
       "date_issued            0\n",
       "date_last_payment    192\n",
       "dtype: int64"
      ]
     },
     "execution_count": 21,
     "metadata": {},
     "output_type": "execute_result"
    }
   ],
   "source": [
    "data[['date_issued', 'date_last_payment']].isnull().sum()"
   ]
  },
  {
   "cell_type": "code",
   "execution_count": 22,
   "metadata": {},
   "outputs": [
    {
     "data": {
      "text/plain": [
       "date_issued          0\n",
       "date_last_payment    0\n",
       "dtype: int64"
      ]
     },
     "execution_count": 22,
     "metadata": {},
     "output_type": "execute_result"
    }
   ],
   "source": [
    "from feature_engine.missing_data_imputers import RandomSampleImputer\n",
    "\n",
    "imputer = RandomSampleImputer(variables='date_last_payment')\n",
    "data = imputer.fit_transform(data)\n",
    "\n",
    "data[['date_issued', 'date_last_payment']].isnull().sum()"
   ]
  },
  {
   "cell_type": "code",
   "execution_count": 23,
   "metadata": {},
   "outputs": [
    {
     "data": {
      "text/html": [
       "<div>\n",
       "<style scoped>\n",
       "    .dataframe tbody tr th:only-of-type {\n",
       "        vertical-align: middle;\n",
       "    }\n",
       "\n",
       "    .dataframe tbody tr th {\n",
       "        vertical-align: top;\n",
       "    }\n",
       "\n",
       "    .dataframe thead th {\n",
       "        text-align: right;\n",
       "    }\n",
       "</style>\n",
       "<table border=\"1\" class=\"dataframe\">\n",
       "  <thead>\n",
       "    <tr style=\"text-align: right;\">\n",
       "      <th></th>\n",
       "      <th>date_issued</th>\n",
       "      <th>date_last_payment</th>\n",
       "    </tr>\n",
       "  </thead>\n",
       "  <tbody>\n",
       "    <tr>\n",
       "      <th>0</th>\n",
       "      <td>2013-06-11</td>\n",
       "      <td>2016-01-14</td>\n",
       "    </tr>\n",
       "    <tr>\n",
       "      <th>1</th>\n",
       "      <td>2014-05-08</td>\n",
       "      <td>2016-01-25</td>\n",
       "    </tr>\n",
       "    <tr>\n",
       "      <th>2</th>\n",
       "      <td>2013-10-26</td>\n",
       "      <td>2014-09-26</td>\n",
       "    </tr>\n",
       "    <tr>\n",
       "      <th>3</th>\n",
       "      <td>2015-08-20</td>\n",
       "      <td>2016-01-26</td>\n",
       "    </tr>\n",
       "    <tr>\n",
       "      <th>4</th>\n",
       "      <td>2014-07-22</td>\n",
       "      <td>2016-01-11</td>\n",
       "    </tr>\n",
       "    <tr>\n",
       "      <th>5</th>\n",
       "      <td>2013-08-21</td>\n",
       "      <td>2015-01-10</td>\n",
       "    </tr>\n",
       "    <tr>\n",
       "      <th>6</th>\n",
       "      <td>2015-09-27</td>\n",
       "      <td>2016-01-02</td>\n",
       "    </tr>\n",
       "    <tr>\n",
       "      <th>7</th>\n",
       "      <td>2015-03-20</td>\n",
       "      <td>2016-01-10</td>\n",
       "    </tr>\n",
       "    <tr>\n",
       "      <th>8</th>\n",
       "      <td>2014-02-14</td>\n",
       "      <td>2015-08-01</td>\n",
       "    </tr>\n",
       "    <tr>\n",
       "      <th>9</th>\n",
       "      <td>2013-12-25</td>\n",
       "      <td>2016-01-08</td>\n",
       "    </tr>\n",
       "  </tbody>\n",
       "</table>\n",
       "</div>"
      ],
      "text/plain": [
       "  date_issued date_last_payment\n",
       "0  2013-06-11        2016-01-14\n",
       "1  2014-05-08        2016-01-25\n",
       "2  2013-10-26        2014-09-26\n",
       "3  2015-08-20        2016-01-26\n",
       "4  2014-07-22        2016-01-11\n",
       "5  2013-08-21        2015-01-10\n",
       "6  2015-09-27        2016-01-02\n",
       "7  2015-03-20        2016-01-10\n",
       "8  2014-02-14        2015-08-01\n",
       "9  2013-12-25        2016-01-08"
      ]
     },
     "execution_count": 23,
     "metadata": {},
     "output_type": "execute_result"
    }
   ],
   "source": [
    "for col in ['date_issued', 'date_last_payment']:\n",
    "\n",
    "    # create days at random\n",
    "    days = np.random.randint(0, 27, len(data))\n",
    "    \n",
    "    # add dates to the date variable\n",
    "    tmp = pd.to_datetime(data[col]) + pd.to_timedelta(days, unit=\"D\")\n",
    "    \n",
    "    # recast as strings\n",
    "    data[col] = tmp.apply(lambda x: x.strftime('%Y-%m-%d'))\n",
    "\n",
    "data[['date_issued', 'date_last_payment']].head(10)"
   ]
  },
  {
   "cell_type": "code",
   "execution_count": 24,
   "metadata": {},
   "outputs": [
    {
     "data": {
      "text/plain": [
       "date_issued          object\n",
       "date_last_payment    object\n",
       "dtype: object"
      ]
     },
     "execution_count": 24,
     "metadata": {},
     "output_type": "execute_result"
    }
   ],
   "source": [
    "data[['date_issued', 'date_last_payment']].dtypes"
   ]
  },
  {
   "cell_type": "code",
   "execution_count": 25,
   "metadata": {},
   "outputs": [
    {
     "data": {
      "text/plain": [
       "10+ years    3202\n",
       "2 years       901\n",
       "< 1 year      815\n",
       "3 years       803\n",
       "1 year        667\n",
       "5 years       632\n",
       "4 years       596\n",
       "7 years       532\n",
       "8 years       506\n",
       "6 years       473\n",
       "9 years       344\n",
       "Name: time_employed, dtype: int64"
      ]
     },
     "execution_count": 25,
     "metadata": {},
     "output_type": "execute_result"
    }
   ],
   "source": [
    "data['time_employed'].value_counts()"
   ]
  },
  {
   "cell_type": "code",
   "execution_count": 26,
   "metadata": {},
   "outputs": [
    {
     "data": {
      "text/plain": [
       "529"
      ]
     },
     "execution_count": 26,
     "metadata": {},
     "output_type": "execute_result"
    }
   ],
   "source": [
    "data['time_employed'].isnull().sum()"
   ]
  },
  {
   "cell_type": "code",
   "execution_count": 27,
   "metadata": {},
   "outputs": [
    {
     "data": {
      "text/plain": [
       "array(['1 year', '2 years', '5 years', '10+ years', '3 years', '8 years',\n",
       "       nan, '< 1 year', '6 years', '7 years', '9 years', '4 years'],\n",
       "      dtype=object)"
      ]
     },
     "execution_count": 27,
     "metadata": {},
     "output_type": "execute_result"
    }
   ],
   "source": [
    "data['time_employed'].unique()"
   ]
  },
  {
   "cell_type": "code",
   "execution_count": 28,
   "metadata": {},
   "outputs": [
    {
     "data": {
      "text/plain": [
       "529"
      ]
     },
     "execution_count": 28,
     "metadata": {},
     "output_type": "execute_result"
    }
   ],
   "source": [
    "data.loc[data['time_employed'].isin([\n",
    "    '1 year', '2 years', '5 years', '3 years', '< 1 year', '4 years']), 'time_employed'] = '<=5 years'\n",
    "\n",
    "data.loc[data['time_employed'].isin([\n",
    "    '10+ years', '8 years','6 years', '7 years', '9 years',]), 'time_employed'] = '>5 years'\n",
    "\n",
    "data['time_employed'].isnull().sum()"
   ]
  },
  {
   "cell_type": "code",
   "execution_count": 29,
   "metadata": {},
   "outputs": [
    {
     "data": {
      "text/plain": [
       ">5 years     5057\n",
       "<=5 years    4414\n",
       "Name: time_employed, dtype: int64"
      ]
     },
     "execution_count": 29,
     "metadata": {},
     "output_type": "execute_result"
    }
   ],
   "source": [
    "data['time_employed'].value_counts()"
   ]
  },
  {
   "cell_type": "code",
   "execution_count": 30,
   "metadata": {},
   "outputs": [
    {
     "data": {
      "text/plain": [
       "611"
      ]
     },
     "execution_count": 30,
     "metadata": {},
     "output_type": "execute_result"
    }
   ],
   "source": [
    "data['employment'].isnull().sum()"
   ]
  },
  {
   "cell_type": "code",
   "execution_count": 31,
   "metadata": {},
   "outputs": [],
   "source": [
    "employment_list = ['Accountant', 'Taxi driver', 'Nurse', 'Teacher', 'Software developer', 'Secretary',\n",
    "                  'Statistician', 'Dentist', 'Civil Servant', 'Bus driver', 'Other']"
   ]
  },
  {
   "cell_type": "code",
   "execution_count": 32,
   "metadata": {},
   "outputs": [],
   "source": [
    "for index, row in data.loc[~data['employment'].isnull()].iterrows():\n",
    "    data.loc[index, 'employment'] = random.choice(employment_list)"
   ]
  },
  {
   "cell_type": "code",
   "execution_count": 33,
   "metadata": {},
   "outputs": [
    {
     "data": {
      "text/plain": [
       "611"
      ]
     },
     "execution_count": 33,
     "metadata": {},
     "output_type": "execute_result"
    }
   ],
   "source": [
    "data['employment'].isnull().sum()"
   ]
  },
  {
   "cell_type": "code",
   "execution_count": 34,
   "metadata": {},
   "outputs": [
    {
     "data": {
      "text/plain": [
       "Civil Servant         884\n",
       "Nurse                 880\n",
       "Bus driver            874\n",
       "Other                 863\n",
       "Teacher               861\n",
       "Statistician          852\n",
       "Accountant            852\n",
       "Secretary             846\n",
       "Dentist               844\n",
       "Taxi driver           825\n",
       "Software developer    808\n",
       "Name: employment, dtype: int64"
      ]
     },
     "execution_count": 34,
     "metadata": {},
     "output_type": "execute_result"
    }
   ],
   "source": [
    "data['employment'].value_counts()"
   ]
  },
  {
   "cell_type": "code",
   "execution_count": 35,
   "metadata": {},
   "outputs": [],
   "source": [
    "data['customer_id'] = data.index"
   ]
  },
  {
   "cell_type": "code",
   "execution_count": 36,
   "metadata": {},
   "outputs": [],
   "source": [
    "data.to_csv('loan.csv', index=False)"
   ]
  },
  {
   "cell_type": "code",
   "execution_count": null,
   "metadata": {},
   "outputs": [],
   "source": []
  }
 ],
 "metadata": {
  "kernelspec": {
   "display_name": "feml",
   "language": "python",
   "name": "feml"
  },
  "language_info": {
   "codemirror_mode": {
    "name": "ipython",
    "version": 3
   },
   "file_extension": ".py",
   "mimetype": "text/x-python",
   "name": "python",
   "nbconvert_exporter": "python",
   "pygments_lexer": "ipython3",
   "version": "3.8.2"
  },
  "toc": {
   "base_numbering": 1,
   "nav_menu": {},
   "number_sections": true,
   "sideBar": true,
   "skip_h1_title": false,
   "title_cell": "Table of Contents",
   "title_sidebar": "Contents",
   "toc_cell": false,
   "toc_position": {},
   "toc_section_display": true,
   "toc_window_display": false
  }
 },
 "nbformat": 4,
 "nbformat_minor": 4
}
