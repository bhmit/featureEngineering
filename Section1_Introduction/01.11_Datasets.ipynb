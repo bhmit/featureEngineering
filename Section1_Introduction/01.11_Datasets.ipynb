{
 "cells": [
  {
   "cell_type": "markdown",
   "metadata": {},
   "source": [
    "\n",
    "## Example 1: Peer-to-Peer Lending (Finance)\n",
    "\n",
    "### The Business Model\n",
    "\n",
    "Peer-to-peer lending (abbreviated P2P) occurs when investors lend money directly to individuals or businesses through an online service. The online server provider matches lenders with borrowers, and conducts the analysis required to determine the loan interest rate to be charged to the borrower and the risk incurred by the lender. There is usually a lower operating cost to peer-to-peer lending, therefore investors tend to get higher returns and borrowers lower loan rates, although this is now always the case.\n",
    "\n",
    "### Company: Lending Club\n",
    "\n",
    "**Lending Club** is a peer-to-peer Lending company based in the US. Lending Club matches people looking to invest money with people looking to borrow money. When investors invest their money through Lending Club, the money is passed onto borrowers, and when borrowers pay their loans back, the capital plus the interest passes on back to the investors. This product is called unsecured personal loans. To learn more about Lending Club visit their [website](https://www.lendingclub.com/).\n",
    "\n",
    "### The Dataset\n",
    "\n",
    "The Lending Club dataset contains complete loan data for all loans issued through 2007-2015, including the current loan status (Current, Late, Fully Paid, etc.) and latest payment information. Features include credit scores, number of finance inquiries, address including zip codes and state, and collections among others. Collections indicates whether the customer has missed one or more payments and the team is trying to recover the money.\n",
    "\n",
    "The dataset contains about 890 thousand observations and 75 variables. More detail on this dataset can be found in [Kaggle's website](https://www.kaggle.com/wendykan/lending-club-loan-data)\n",
    "\n",
    "### Download and save\n",
    "\n",
    "To download the dataset:\n",
    "\n",
    "- Go to the [Kaggle Website](https://www.kaggle.com/wendykan/lending-club-loan-data)\n",
    "- Scroll down and click on the file \"loan.csv\"\n",
    "- Click the \"Download\" button at the top of the screen\n",
    "- Unzip the file\n",
    "- Keep the dataset name as \"loan.csv\"\n",
    "- Save the file in the parent directory of the folder where you store your notebooks\n",
    "\n",
    "**Note the following:**\n",
    "- You need to be logged in to Kaggle to download the dataset.\n",
    "- You need may need to accept terms and conditions\n",
    "- Save the dataset where it is indicated by the \"SAVE_DATASETS_HERE.txt\" file in the Jupyter Notebooks folder"
   ]
  },
  {
   "cell_type": "code",
   "execution_count": null,
   "metadata": {},
   "outputs": [],
   "source": []
  }
 ],
 "metadata": {
  "kernelspec": {
   "display_name": "Python 3",
   "language": "python",
   "name": "python3"
  },
  "language_info": {
   "codemirror_mode": {
    "name": "ipython",
    "version": 3
   },
   "file_extension": ".py",
   "mimetype": "text/x-python",
   "name": "python",
   "nbconvert_exporter": "python",
   "pygments_lexer": "ipython3",
   "version": "3.7.3"
  },
  "toc": {
   "base_numbering": 1,
   "nav_menu": {},
   "number_sections": true,
   "sideBar": true,
   "skip_h1_title": false,
   "title_cell": "Table of Contents",
   "title_sidebar": "Contents",
   "toc_cell": false,
   "toc_position": {},
   "toc_section_display": true,
   "toc_window_display": true
  }
 },
 "nbformat": 4,
 "nbformat_minor": 2
}
