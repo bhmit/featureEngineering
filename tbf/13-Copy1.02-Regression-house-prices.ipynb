{
 "cells": [
  {
   "cell_type": "markdown",
   "metadata": {},
   "source": [
    "## Regression\n",
    "\n",
    "In this lecture, I will bring together various techniques for feature engineering that we have covered in this course to tackle a regression problem. This would give you an idea of the end-to-end pipeline to build machine learning algorithms for regression.\n",
    "\n",
    "I will:\n",
    "- build a lasso\n",
    "- use Scikit-learn for the feature engineering steps\n",
    "\n",
    "===================================================================================================\n",
    "\n",
    "## Real Life example: \n",
    "\n",
    "### Predicting Sale Price of Houses\n",
    "\n",
    "The problem at hand aims to predict the final sale price of homes based on different explanatory variables describing aspects of residential homes. Predicting house prices is useful to identify fruitful investments, or to determine whether the price advertised for a house is over or underestimated, before making a buying judgment.\n",
    "\n",
    "To download the House Price dataset go this website:\n",
    "https://www.kaggle.com/c/house-prices-advanced-regression-techniques/data\n",
    "\n",
    "Scroll down to the bottom of the page, and click on the link 'train.csv', and then click the 'download' blue button towards the right of the screen, to download the dataset.\n",
    "Save it to a directory of your choice.\n",
    "\n",
    "For the Kaggle submission, download also the 'test.csv' file, which is the one we need to score and submit to Kaggle. Rename the file to 'house_price_submission.csv'\n",
    "\n",
    "**Note that you need to be logged in to Kaggle in order to download the datasets**.\n",
    "\n",
    "If you save it in the same directory from which you are running this notebook and name the file 'houseprice.csv' then you can load it the same way I will load it below.\n",
    "\n",
    "===================================================================================================="
   ]
  },
  {
   "cell_type": "markdown",
   "metadata": {},
   "source": [
    "## House Prices dataset"
   ]
  },
  {
   "cell_type": "code",
   "execution_count": 1,
   "metadata": {},
   "outputs": [],
   "source": [
    "# to handle datasets\n",
    "from math import sqrt\n",
    "import pandas as pd\n",
    "import numpy as np\n",
    "import matplotlib.pyplot as plt\n",
    "\n",
    "# to divide train and test set\n",
    "from sklearn.compose import ColumnTransformer\n",
    "from sklearn.pipeline import Pipeline\n",
    "from sklearn.impute import SimpleImputer\n",
    "from sklearn.preprocessing import StandardScaler, OneHotEncoder\n",
    "from sklearn.linear_model import Lasso\n",
    "from sklearn.model_selection import train_test_split, GridSearchCV\n",
    "from sklearn.metrics import mean_squared_error\n",
    "\n",
    "pd.pandas.set_option('display.max_columns', None)"
   ]
  },
  {
   "cell_type": "markdown",
   "metadata": {},
   "source": [
    "### Load Datasets"
   ]
  },
  {
   "cell_type": "code",
   "execution_count": 2,
   "metadata": {},
   "outputs": [
    {
     "name": "stdout",
     "output_type": "stream",
     "text": [
      "(1460, 81)\n"
     ]
    },
    {
     "data": {
      "text/html": [
       "<div>\n",
       "<style scoped>\n",
       "    .dataframe tbody tr th:only-of-type {\n",
       "        vertical-align: middle;\n",
       "    }\n",
       "\n",
       "    .dataframe tbody tr th {\n",
       "        vertical-align: top;\n",
       "    }\n",
       "\n",
       "    .dataframe thead th {\n",
       "        text-align: right;\n",
       "    }\n",
       "</style>\n",
       "<table border=\"1\" class=\"dataframe\">\n",
       "  <thead>\n",
       "    <tr style=\"text-align: right;\">\n",
       "      <th></th>\n",
       "      <th>Id</th>\n",
       "      <th>MSSubClass</th>\n",
       "      <th>MSZoning</th>\n",
       "      <th>LotFrontage</th>\n",
       "      <th>LotArea</th>\n",
       "      <th>Street</th>\n",
       "      <th>Alley</th>\n",
       "      <th>LotShape</th>\n",
       "      <th>LandContour</th>\n",
       "      <th>Utilities</th>\n",
       "      <th>LotConfig</th>\n",
       "      <th>LandSlope</th>\n",
       "      <th>Neighborhood</th>\n",
       "      <th>Condition1</th>\n",
       "      <th>Condition2</th>\n",
       "      <th>BldgType</th>\n",
       "      <th>HouseStyle</th>\n",
       "      <th>OverallQual</th>\n",
       "      <th>OverallCond</th>\n",
       "      <th>YearBuilt</th>\n",
       "      <th>YearRemodAdd</th>\n",
       "      <th>RoofStyle</th>\n",
       "      <th>RoofMatl</th>\n",
       "      <th>Exterior1st</th>\n",
       "      <th>Exterior2nd</th>\n",
       "      <th>MasVnrType</th>\n",
       "      <th>MasVnrArea</th>\n",
       "      <th>ExterQual</th>\n",
       "      <th>ExterCond</th>\n",
       "      <th>Foundation</th>\n",
       "      <th>BsmtQual</th>\n",
       "      <th>BsmtCond</th>\n",
       "      <th>BsmtExposure</th>\n",
       "      <th>BsmtFinType1</th>\n",
       "      <th>BsmtFinSF1</th>\n",
       "      <th>BsmtFinType2</th>\n",
       "      <th>BsmtFinSF2</th>\n",
       "      <th>BsmtUnfSF</th>\n",
       "      <th>TotalBsmtSF</th>\n",
       "      <th>Heating</th>\n",
       "      <th>HeatingQC</th>\n",
       "      <th>CentralAir</th>\n",
       "      <th>Electrical</th>\n",
       "      <th>1stFlrSF</th>\n",
       "      <th>2ndFlrSF</th>\n",
       "      <th>LowQualFinSF</th>\n",
       "      <th>GrLivArea</th>\n",
       "      <th>BsmtFullBath</th>\n",
       "      <th>BsmtHalfBath</th>\n",
       "      <th>FullBath</th>\n",
       "      <th>HalfBath</th>\n",
       "      <th>BedroomAbvGr</th>\n",
       "      <th>KitchenAbvGr</th>\n",
       "      <th>KitchenQual</th>\n",
       "      <th>TotRmsAbvGrd</th>\n",
       "      <th>Functional</th>\n",
       "      <th>Fireplaces</th>\n",
       "      <th>FireplaceQu</th>\n",
       "      <th>GarageType</th>\n",
       "      <th>GarageYrBlt</th>\n",
       "      <th>GarageFinish</th>\n",
       "      <th>GarageCars</th>\n",
       "      <th>GarageArea</th>\n",
       "      <th>GarageQual</th>\n",
       "      <th>GarageCond</th>\n",
       "      <th>PavedDrive</th>\n",
       "      <th>WoodDeckSF</th>\n",
       "      <th>OpenPorchSF</th>\n",
       "      <th>EnclosedPorch</th>\n",
       "      <th>3SsnPorch</th>\n",
       "      <th>ScreenPorch</th>\n",
       "      <th>PoolArea</th>\n",
       "      <th>PoolQC</th>\n",
       "      <th>Fence</th>\n",
       "      <th>MiscFeature</th>\n",
       "      <th>MiscVal</th>\n",
       "      <th>MoSold</th>\n",
       "      <th>YrSold</th>\n",
       "      <th>SaleType</th>\n",
       "      <th>SaleCondition</th>\n",
       "      <th>SalePrice</th>\n",
       "    </tr>\n",
       "  </thead>\n",
       "  <tbody>\n",
       "    <tr>\n",
       "      <th>0</th>\n",
       "      <td>1</td>\n",
       "      <td>60</td>\n",
       "      <td>RL</td>\n",
       "      <td>65.0</td>\n",
       "      <td>8450</td>\n",
       "      <td>Pave</td>\n",
       "      <td>NaN</td>\n",
       "      <td>Reg</td>\n",
       "      <td>Lvl</td>\n",
       "      <td>AllPub</td>\n",
       "      <td>Inside</td>\n",
       "      <td>Gtl</td>\n",
       "      <td>CollgCr</td>\n",
       "      <td>Norm</td>\n",
       "      <td>Norm</td>\n",
       "      <td>1Fam</td>\n",
       "      <td>2Story</td>\n",
       "      <td>7</td>\n",
       "      <td>5</td>\n",
       "      <td>2003</td>\n",
       "      <td>2003</td>\n",
       "      <td>Gable</td>\n",
       "      <td>CompShg</td>\n",
       "      <td>VinylSd</td>\n",
       "      <td>VinylSd</td>\n",
       "      <td>BrkFace</td>\n",
       "      <td>196.0</td>\n",
       "      <td>Gd</td>\n",
       "      <td>TA</td>\n",
       "      <td>PConc</td>\n",
       "      <td>Gd</td>\n",
       "      <td>TA</td>\n",
       "      <td>No</td>\n",
       "      <td>GLQ</td>\n",
       "      <td>706</td>\n",
       "      <td>Unf</td>\n",
       "      <td>0</td>\n",
       "      <td>150</td>\n",
       "      <td>856</td>\n",
       "      <td>GasA</td>\n",
       "      <td>Ex</td>\n",
       "      <td>Y</td>\n",
       "      <td>SBrkr</td>\n",
       "      <td>856</td>\n",
       "      <td>854</td>\n",
       "      <td>0</td>\n",
       "      <td>1710</td>\n",
       "      <td>1</td>\n",
       "      <td>0</td>\n",
       "      <td>2</td>\n",
       "      <td>1</td>\n",
       "      <td>3</td>\n",
       "      <td>1</td>\n",
       "      <td>Gd</td>\n",
       "      <td>8</td>\n",
       "      <td>Typ</td>\n",
       "      <td>0</td>\n",
       "      <td>NaN</td>\n",
       "      <td>Attchd</td>\n",
       "      <td>2003.0</td>\n",
       "      <td>RFn</td>\n",
       "      <td>2</td>\n",
       "      <td>548</td>\n",
       "      <td>TA</td>\n",
       "      <td>TA</td>\n",
       "      <td>Y</td>\n",
       "      <td>0</td>\n",
       "      <td>61</td>\n",
       "      <td>0</td>\n",
       "      <td>0</td>\n",
       "      <td>0</td>\n",
       "      <td>0</td>\n",
       "      <td>NaN</td>\n",
       "      <td>NaN</td>\n",
       "      <td>NaN</td>\n",
       "      <td>0</td>\n",
       "      <td>2</td>\n",
       "      <td>2008</td>\n",
       "      <td>WD</td>\n",
       "      <td>Normal</td>\n",
       "      <td>208500</td>\n",
       "    </tr>\n",
       "    <tr>\n",
       "      <th>1</th>\n",
       "      <td>2</td>\n",
       "      <td>20</td>\n",
       "      <td>RL</td>\n",
       "      <td>80.0</td>\n",
       "      <td>9600</td>\n",
       "      <td>Pave</td>\n",
       "      <td>NaN</td>\n",
       "      <td>Reg</td>\n",
       "      <td>Lvl</td>\n",
       "      <td>AllPub</td>\n",
       "      <td>FR2</td>\n",
       "      <td>Gtl</td>\n",
       "      <td>Veenker</td>\n",
       "      <td>Feedr</td>\n",
       "      <td>Norm</td>\n",
       "      <td>1Fam</td>\n",
       "      <td>1Story</td>\n",
       "      <td>6</td>\n",
       "      <td>8</td>\n",
       "      <td>1976</td>\n",
       "      <td>1976</td>\n",
       "      <td>Gable</td>\n",
       "      <td>CompShg</td>\n",
       "      <td>MetalSd</td>\n",
       "      <td>MetalSd</td>\n",
       "      <td>None</td>\n",
       "      <td>0.0</td>\n",
       "      <td>TA</td>\n",
       "      <td>TA</td>\n",
       "      <td>CBlock</td>\n",
       "      <td>Gd</td>\n",
       "      <td>TA</td>\n",
       "      <td>Gd</td>\n",
       "      <td>ALQ</td>\n",
       "      <td>978</td>\n",
       "      <td>Unf</td>\n",
       "      <td>0</td>\n",
       "      <td>284</td>\n",
       "      <td>1262</td>\n",
       "      <td>GasA</td>\n",
       "      <td>Ex</td>\n",
       "      <td>Y</td>\n",
       "      <td>SBrkr</td>\n",
       "      <td>1262</td>\n",
       "      <td>0</td>\n",
       "      <td>0</td>\n",
       "      <td>1262</td>\n",
       "      <td>0</td>\n",
       "      <td>1</td>\n",
       "      <td>2</td>\n",
       "      <td>0</td>\n",
       "      <td>3</td>\n",
       "      <td>1</td>\n",
       "      <td>TA</td>\n",
       "      <td>6</td>\n",
       "      <td>Typ</td>\n",
       "      <td>1</td>\n",
       "      <td>TA</td>\n",
       "      <td>Attchd</td>\n",
       "      <td>1976.0</td>\n",
       "      <td>RFn</td>\n",
       "      <td>2</td>\n",
       "      <td>460</td>\n",
       "      <td>TA</td>\n",
       "      <td>TA</td>\n",
       "      <td>Y</td>\n",
       "      <td>298</td>\n",
       "      <td>0</td>\n",
       "      <td>0</td>\n",
       "      <td>0</td>\n",
       "      <td>0</td>\n",
       "      <td>0</td>\n",
       "      <td>NaN</td>\n",
       "      <td>NaN</td>\n",
       "      <td>NaN</td>\n",
       "      <td>0</td>\n",
       "      <td>5</td>\n",
       "      <td>2007</td>\n",
       "      <td>WD</td>\n",
       "      <td>Normal</td>\n",
       "      <td>181500</td>\n",
       "    </tr>\n",
       "    <tr>\n",
       "      <th>2</th>\n",
       "      <td>3</td>\n",
       "      <td>60</td>\n",
       "      <td>RL</td>\n",
       "      <td>68.0</td>\n",
       "      <td>11250</td>\n",
       "      <td>Pave</td>\n",
       "      <td>NaN</td>\n",
       "      <td>IR1</td>\n",
       "      <td>Lvl</td>\n",
       "      <td>AllPub</td>\n",
       "      <td>Inside</td>\n",
       "      <td>Gtl</td>\n",
       "      <td>CollgCr</td>\n",
       "      <td>Norm</td>\n",
       "      <td>Norm</td>\n",
       "      <td>1Fam</td>\n",
       "      <td>2Story</td>\n",
       "      <td>7</td>\n",
       "      <td>5</td>\n",
       "      <td>2001</td>\n",
       "      <td>2002</td>\n",
       "      <td>Gable</td>\n",
       "      <td>CompShg</td>\n",
       "      <td>VinylSd</td>\n",
       "      <td>VinylSd</td>\n",
       "      <td>BrkFace</td>\n",
       "      <td>162.0</td>\n",
       "      <td>Gd</td>\n",
       "      <td>TA</td>\n",
       "      <td>PConc</td>\n",
       "      <td>Gd</td>\n",
       "      <td>TA</td>\n",
       "      <td>Mn</td>\n",
       "      <td>GLQ</td>\n",
       "      <td>486</td>\n",
       "      <td>Unf</td>\n",
       "      <td>0</td>\n",
       "      <td>434</td>\n",
       "      <td>920</td>\n",
       "      <td>GasA</td>\n",
       "      <td>Ex</td>\n",
       "      <td>Y</td>\n",
       "      <td>SBrkr</td>\n",
       "      <td>920</td>\n",
       "      <td>866</td>\n",
       "      <td>0</td>\n",
       "      <td>1786</td>\n",
       "      <td>1</td>\n",
       "      <td>0</td>\n",
       "      <td>2</td>\n",
       "      <td>1</td>\n",
       "      <td>3</td>\n",
       "      <td>1</td>\n",
       "      <td>Gd</td>\n",
       "      <td>6</td>\n",
       "      <td>Typ</td>\n",
       "      <td>1</td>\n",
       "      <td>TA</td>\n",
       "      <td>Attchd</td>\n",
       "      <td>2001.0</td>\n",
       "      <td>RFn</td>\n",
       "      <td>2</td>\n",
       "      <td>608</td>\n",
       "      <td>TA</td>\n",
       "      <td>TA</td>\n",
       "      <td>Y</td>\n",
       "      <td>0</td>\n",
       "      <td>42</td>\n",
       "      <td>0</td>\n",
       "      <td>0</td>\n",
       "      <td>0</td>\n",
       "      <td>0</td>\n",
       "      <td>NaN</td>\n",
       "      <td>NaN</td>\n",
       "      <td>NaN</td>\n",
       "      <td>0</td>\n",
       "      <td>9</td>\n",
       "      <td>2008</td>\n",
       "      <td>WD</td>\n",
       "      <td>Normal</td>\n",
       "      <td>223500</td>\n",
       "    </tr>\n",
       "    <tr>\n",
       "      <th>3</th>\n",
       "      <td>4</td>\n",
       "      <td>70</td>\n",
       "      <td>RL</td>\n",
       "      <td>60.0</td>\n",
       "      <td>9550</td>\n",
       "      <td>Pave</td>\n",
       "      <td>NaN</td>\n",
       "      <td>IR1</td>\n",
       "      <td>Lvl</td>\n",
       "      <td>AllPub</td>\n",
       "      <td>Corner</td>\n",
       "      <td>Gtl</td>\n",
       "      <td>Crawfor</td>\n",
       "      <td>Norm</td>\n",
       "      <td>Norm</td>\n",
       "      <td>1Fam</td>\n",
       "      <td>2Story</td>\n",
       "      <td>7</td>\n",
       "      <td>5</td>\n",
       "      <td>1915</td>\n",
       "      <td>1970</td>\n",
       "      <td>Gable</td>\n",
       "      <td>CompShg</td>\n",
       "      <td>Wd Sdng</td>\n",
       "      <td>Wd Shng</td>\n",
       "      <td>None</td>\n",
       "      <td>0.0</td>\n",
       "      <td>TA</td>\n",
       "      <td>TA</td>\n",
       "      <td>BrkTil</td>\n",
       "      <td>TA</td>\n",
       "      <td>Gd</td>\n",
       "      <td>No</td>\n",
       "      <td>ALQ</td>\n",
       "      <td>216</td>\n",
       "      <td>Unf</td>\n",
       "      <td>0</td>\n",
       "      <td>540</td>\n",
       "      <td>756</td>\n",
       "      <td>GasA</td>\n",
       "      <td>Gd</td>\n",
       "      <td>Y</td>\n",
       "      <td>SBrkr</td>\n",
       "      <td>961</td>\n",
       "      <td>756</td>\n",
       "      <td>0</td>\n",
       "      <td>1717</td>\n",
       "      <td>1</td>\n",
       "      <td>0</td>\n",
       "      <td>1</td>\n",
       "      <td>0</td>\n",
       "      <td>3</td>\n",
       "      <td>1</td>\n",
       "      <td>Gd</td>\n",
       "      <td>7</td>\n",
       "      <td>Typ</td>\n",
       "      <td>1</td>\n",
       "      <td>Gd</td>\n",
       "      <td>Detchd</td>\n",
       "      <td>1998.0</td>\n",
       "      <td>Unf</td>\n",
       "      <td>3</td>\n",
       "      <td>642</td>\n",
       "      <td>TA</td>\n",
       "      <td>TA</td>\n",
       "      <td>Y</td>\n",
       "      <td>0</td>\n",
       "      <td>35</td>\n",
       "      <td>272</td>\n",
       "      <td>0</td>\n",
       "      <td>0</td>\n",
       "      <td>0</td>\n",
       "      <td>NaN</td>\n",
       "      <td>NaN</td>\n",
       "      <td>NaN</td>\n",
       "      <td>0</td>\n",
       "      <td>2</td>\n",
       "      <td>2006</td>\n",
       "      <td>WD</td>\n",
       "      <td>Abnorml</td>\n",
       "      <td>140000</td>\n",
       "    </tr>\n",
       "    <tr>\n",
       "      <th>4</th>\n",
       "      <td>5</td>\n",
       "      <td>60</td>\n",
       "      <td>RL</td>\n",
       "      <td>84.0</td>\n",
       "      <td>14260</td>\n",
       "      <td>Pave</td>\n",
       "      <td>NaN</td>\n",
       "      <td>IR1</td>\n",
       "      <td>Lvl</td>\n",
       "      <td>AllPub</td>\n",
       "      <td>FR2</td>\n",
       "      <td>Gtl</td>\n",
       "      <td>NoRidge</td>\n",
       "      <td>Norm</td>\n",
       "      <td>Norm</td>\n",
       "      <td>1Fam</td>\n",
       "      <td>2Story</td>\n",
       "      <td>8</td>\n",
       "      <td>5</td>\n",
       "      <td>2000</td>\n",
       "      <td>2000</td>\n",
       "      <td>Gable</td>\n",
       "      <td>CompShg</td>\n",
       "      <td>VinylSd</td>\n",
       "      <td>VinylSd</td>\n",
       "      <td>BrkFace</td>\n",
       "      <td>350.0</td>\n",
       "      <td>Gd</td>\n",
       "      <td>TA</td>\n",
       "      <td>PConc</td>\n",
       "      <td>Gd</td>\n",
       "      <td>TA</td>\n",
       "      <td>Av</td>\n",
       "      <td>GLQ</td>\n",
       "      <td>655</td>\n",
       "      <td>Unf</td>\n",
       "      <td>0</td>\n",
       "      <td>490</td>\n",
       "      <td>1145</td>\n",
       "      <td>GasA</td>\n",
       "      <td>Ex</td>\n",
       "      <td>Y</td>\n",
       "      <td>SBrkr</td>\n",
       "      <td>1145</td>\n",
       "      <td>1053</td>\n",
       "      <td>0</td>\n",
       "      <td>2198</td>\n",
       "      <td>1</td>\n",
       "      <td>0</td>\n",
       "      <td>2</td>\n",
       "      <td>1</td>\n",
       "      <td>4</td>\n",
       "      <td>1</td>\n",
       "      <td>Gd</td>\n",
       "      <td>9</td>\n",
       "      <td>Typ</td>\n",
       "      <td>1</td>\n",
       "      <td>TA</td>\n",
       "      <td>Attchd</td>\n",
       "      <td>2000.0</td>\n",
       "      <td>RFn</td>\n",
       "      <td>3</td>\n",
       "      <td>836</td>\n",
       "      <td>TA</td>\n",
       "      <td>TA</td>\n",
       "      <td>Y</td>\n",
       "      <td>192</td>\n",
       "      <td>84</td>\n",
       "      <td>0</td>\n",
       "      <td>0</td>\n",
       "      <td>0</td>\n",
       "      <td>0</td>\n",
       "      <td>NaN</td>\n",
       "      <td>NaN</td>\n",
       "      <td>NaN</td>\n",
       "      <td>0</td>\n",
       "      <td>12</td>\n",
       "      <td>2008</td>\n",
       "      <td>WD</td>\n",
       "      <td>Normal</td>\n",
       "      <td>250000</td>\n",
       "    </tr>\n",
       "  </tbody>\n",
       "</table>\n",
       "</div>"
      ],
      "text/plain": [
       "   Id  MSSubClass MSZoning  LotFrontage  LotArea Street Alley LotShape  \\\n",
       "0   1          60       RL         65.0     8450   Pave   NaN      Reg   \n",
       "1   2          20       RL         80.0     9600   Pave   NaN      Reg   \n",
       "2   3          60       RL         68.0    11250   Pave   NaN      IR1   \n",
       "3   4          70       RL         60.0     9550   Pave   NaN      IR1   \n",
       "4   5          60       RL         84.0    14260   Pave   NaN      IR1   \n",
       "\n",
       "  LandContour Utilities LotConfig LandSlope Neighborhood Condition1  \\\n",
       "0         Lvl    AllPub    Inside       Gtl      CollgCr       Norm   \n",
       "1         Lvl    AllPub       FR2       Gtl      Veenker      Feedr   \n",
       "2         Lvl    AllPub    Inside       Gtl      CollgCr       Norm   \n",
       "3         Lvl    AllPub    Corner       Gtl      Crawfor       Norm   \n",
       "4         Lvl    AllPub       FR2       Gtl      NoRidge       Norm   \n",
       "\n",
       "  Condition2 BldgType HouseStyle  OverallQual  OverallCond  YearBuilt  \\\n",
       "0       Norm     1Fam     2Story            7            5       2003   \n",
       "1       Norm     1Fam     1Story            6            8       1976   \n",
       "2       Norm     1Fam     2Story            7            5       2001   \n",
       "3       Norm     1Fam     2Story            7            5       1915   \n",
       "4       Norm     1Fam     2Story            8            5       2000   \n",
       "\n",
       "   YearRemodAdd RoofStyle RoofMatl Exterior1st Exterior2nd MasVnrType  \\\n",
       "0          2003     Gable  CompShg     VinylSd     VinylSd    BrkFace   \n",
       "1          1976     Gable  CompShg     MetalSd     MetalSd       None   \n",
       "2          2002     Gable  CompShg     VinylSd     VinylSd    BrkFace   \n",
       "3          1970     Gable  CompShg     Wd Sdng     Wd Shng       None   \n",
       "4          2000     Gable  CompShg     VinylSd     VinylSd    BrkFace   \n",
       "\n",
       "   MasVnrArea ExterQual ExterCond Foundation BsmtQual BsmtCond BsmtExposure  \\\n",
       "0       196.0        Gd        TA      PConc       Gd       TA           No   \n",
       "1         0.0        TA        TA     CBlock       Gd       TA           Gd   \n",
       "2       162.0        Gd        TA      PConc       Gd       TA           Mn   \n",
       "3         0.0        TA        TA     BrkTil       TA       Gd           No   \n",
       "4       350.0        Gd        TA      PConc       Gd       TA           Av   \n",
       "\n",
       "  BsmtFinType1  BsmtFinSF1 BsmtFinType2  BsmtFinSF2  BsmtUnfSF  TotalBsmtSF  \\\n",
       "0          GLQ         706          Unf           0        150          856   \n",
       "1          ALQ         978          Unf           0        284         1262   \n",
       "2          GLQ         486          Unf           0        434          920   \n",
       "3          ALQ         216          Unf           0        540          756   \n",
       "4          GLQ         655          Unf           0        490         1145   \n",
       "\n",
       "  Heating HeatingQC CentralAir Electrical  1stFlrSF  2ndFlrSF  LowQualFinSF  \\\n",
       "0    GasA        Ex          Y      SBrkr       856       854             0   \n",
       "1    GasA        Ex          Y      SBrkr      1262         0             0   \n",
       "2    GasA        Ex          Y      SBrkr       920       866             0   \n",
       "3    GasA        Gd          Y      SBrkr       961       756             0   \n",
       "4    GasA        Ex          Y      SBrkr      1145      1053             0   \n",
       "\n",
       "   GrLivArea  BsmtFullBath  BsmtHalfBath  FullBath  HalfBath  BedroomAbvGr  \\\n",
       "0       1710             1             0         2         1             3   \n",
       "1       1262             0             1         2         0             3   \n",
       "2       1786             1             0         2         1             3   \n",
       "3       1717             1             0         1         0             3   \n",
       "4       2198             1             0         2         1             4   \n",
       "\n",
       "   KitchenAbvGr KitchenQual  TotRmsAbvGrd Functional  Fireplaces FireplaceQu  \\\n",
       "0             1          Gd             8        Typ           0         NaN   \n",
       "1             1          TA             6        Typ           1          TA   \n",
       "2             1          Gd             6        Typ           1          TA   \n",
       "3             1          Gd             7        Typ           1          Gd   \n",
       "4             1          Gd             9        Typ           1          TA   \n",
       "\n",
       "  GarageType  GarageYrBlt GarageFinish  GarageCars  GarageArea GarageQual  \\\n",
       "0     Attchd       2003.0          RFn           2         548         TA   \n",
       "1     Attchd       1976.0          RFn           2         460         TA   \n",
       "2     Attchd       2001.0          RFn           2         608         TA   \n",
       "3     Detchd       1998.0          Unf           3         642         TA   \n",
       "4     Attchd       2000.0          RFn           3         836         TA   \n",
       "\n",
       "  GarageCond PavedDrive  WoodDeckSF  OpenPorchSF  EnclosedPorch  3SsnPorch  \\\n",
       "0         TA          Y           0           61              0          0   \n",
       "1         TA          Y         298            0              0          0   \n",
       "2         TA          Y           0           42              0          0   \n",
       "3         TA          Y           0           35            272          0   \n",
       "4         TA          Y         192           84              0          0   \n",
       "\n",
       "   ScreenPorch  PoolArea PoolQC Fence MiscFeature  MiscVal  MoSold  YrSold  \\\n",
       "0            0         0    NaN   NaN         NaN        0       2    2008   \n",
       "1            0         0    NaN   NaN         NaN        0       5    2007   \n",
       "2            0         0    NaN   NaN         NaN        0       9    2008   \n",
       "3            0         0    NaN   NaN         NaN        0       2    2006   \n",
       "4            0         0    NaN   NaN         NaN        0      12    2008   \n",
       "\n",
       "  SaleType SaleCondition  SalePrice  \n",
       "0       WD        Normal     208500  \n",
       "1       WD        Normal     181500  \n",
       "2       WD        Normal     223500  \n",
       "3       WD       Abnorml     140000  \n",
       "4       WD        Normal     250000  "
      ]
     },
     "execution_count": 2,
     "metadata": {},
     "output_type": "execute_result"
    }
   ],
   "source": [
    "# load dataset\n",
    "data = pd.read_csv('../houseprice.csv')\n",
    "\n",
    "print(data.shape)\n",
    "\n",
    "data.head()"
   ]
  },
  {
   "cell_type": "markdown",
   "metadata": {},
   "source": [
    "### Types of variables (section 2)\n",
    "\n",
    "Let's go ahead and find out what types of variables there are in this dataset"
   ]
  },
  {
   "cell_type": "markdown",
   "metadata": {},
   "source": [
    "There are a mixture of categorical and numerical variables. Numerical are those of type int and float and categorical those of type object."
   ]
  },
  {
   "cell_type": "code",
   "execution_count": 5,
   "metadata": {},
   "outputs": [
    {
     "name": "stdout",
     "output_type": "stream",
     "text": [
      "Number of House Id labels:  1460\n",
      "Number of Houses in the Dataset:  1460\n"
     ]
    }
   ],
   "source": [
    "# we have an Id variable, that we shoulld not use for predictions:\n",
    "\n",
    "print('Number of House Id labels: ', len(data.Id.unique()))\n",
    "print('Number of Houses in the Dataset: ', len(data))"
   ]
  },
  {
   "cell_type": "markdown",
   "metadata": {},
   "source": [
    "Id is a unique identifier for each of the houses. Thus this is not a variable that we can use.\n",
    "\n",
    "#### Find categorical variables"
   ]
  },
  {
   "cell_type": "code",
   "execution_count": 6,
   "metadata": {},
   "outputs": [
    {
     "name": "stdout",
     "output_type": "stream",
     "text": [
      "There are 43 categorical variables\n"
     ]
    }
   ],
   "source": [
    "# find categorical variables\n",
    "categorical = [var for var in data.columns if data[var].dtype=='O']\n",
    "print('There are {} categorical variables'.format(len(categorical)))"
   ]
  },
  {
   "cell_type": "markdown",
   "metadata": {},
   "source": [
    "#### Find temporal variables\n",
    "\n",
    "There are a few variables in the dataset that are temporal. They indicate the year in which something happened. We shouldn't use these variables straightaway for model building. We should instead transform them to capture some sort of time information. Let's inspect these temporal variables:\n"
   ]
  },
  {
   "cell_type": "code",
   "execution_count": 7,
   "metadata": {},
   "outputs": [
    {
     "data": {
      "text/plain": [
       "['YearBuilt', 'YearRemodAdd', 'GarageYrBlt', 'YrSold']"
      ]
     },
     "execution_count": 7,
     "metadata": {},
     "output_type": "execute_result"
    }
   ],
   "source": [
    "# make a list of the numerical variables first\n",
    "numerical = [var for var in data.columns if data[var].dtype!='O']\n",
    "\n",
    "# list of variables that contain year information\n",
    "year_vars = [var for var in numerical if 'Yr' in var or 'Year' in var]\n",
    "\n",
    "year_vars"
   ]
  },
  {
   "cell_type": "code",
   "execution_count": 8,
   "metadata": {},
   "outputs": [
    {
     "data": {
      "text/html": [
       "<div>\n",
       "<style scoped>\n",
       "    .dataframe tbody tr th:only-of-type {\n",
       "        vertical-align: middle;\n",
       "    }\n",
       "\n",
       "    .dataframe tbody tr th {\n",
       "        vertical-align: top;\n",
       "    }\n",
       "\n",
       "    .dataframe thead th {\n",
       "        text-align: right;\n",
       "    }\n",
       "</style>\n",
       "<table border=\"1\" class=\"dataframe\">\n",
       "  <thead>\n",
       "    <tr style=\"text-align: right;\">\n",
       "      <th></th>\n",
       "      <th>YearBuilt</th>\n",
       "      <th>YearRemodAdd</th>\n",
       "      <th>GarageYrBlt</th>\n",
       "      <th>YrSold</th>\n",
       "    </tr>\n",
       "  </thead>\n",
       "  <tbody>\n",
       "    <tr>\n",
       "      <th>0</th>\n",
       "      <td>2003</td>\n",
       "      <td>2003</td>\n",
       "      <td>2003.0</td>\n",
       "      <td>2008</td>\n",
       "    </tr>\n",
       "    <tr>\n",
       "      <th>1</th>\n",
       "      <td>1976</td>\n",
       "      <td>1976</td>\n",
       "      <td>1976.0</td>\n",
       "      <td>2007</td>\n",
       "    </tr>\n",
       "    <tr>\n",
       "      <th>2</th>\n",
       "      <td>2001</td>\n",
       "      <td>2002</td>\n",
       "      <td>2001.0</td>\n",
       "      <td>2008</td>\n",
       "    </tr>\n",
       "    <tr>\n",
       "      <th>3</th>\n",
       "      <td>1915</td>\n",
       "      <td>1970</td>\n",
       "      <td>1998.0</td>\n",
       "      <td>2006</td>\n",
       "    </tr>\n",
       "    <tr>\n",
       "      <th>4</th>\n",
       "      <td>2000</td>\n",
       "      <td>2000</td>\n",
       "      <td>2000.0</td>\n",
       "      <td>2008</td>\n",
       "    </tr>\n",
       "  </tbody>\n",
       "</table>\n",
       "</div>"
      ],
      "text/plain": [
       "   YearBuilt  YearRemodAdd  GarageYrBlt  YrSold\n",
       "0       2003          2003       2003.0    2008\n",
       "1       1976          1976       1976.0    2007\n",
       "2       2001          2002       2001.0    2008\n",
       "3       1915          1970       1998.0    2006\n",
       "4       2000          2000       2000.0    2008"
      ]
     },
     "execution_count": 8,
     "metadata": {},
     "output_type": "execute_result"
    }
   ],
   "source": [
    "data[year_vars].head()"
   ]
  },
  {
   "cell_type": "markdown",
   "metadata": {},
   "source": [
    "We can see that these variables correspond to the years in which the houses were built or remodeled or a garage was built, or the house was indeed sold. It would be better if we captured the time elapsed between the time the house was built and the time the house was sold for example. We are going to do that in the feature engineering section. \n",
    "\n",
    "We have another temporal variable: MoSold, which indicates the month in which the house was sold. Let's inspect if the house price varies with the time of the year in which it is sold:"
   ]
  },
  {
   "cell_type": "code",
   "execution_count": 9,
   "metadata": {},
   "outputs": [
    {
     "data": {
      "text/plain": [
       "<matplotlib.text.Text at 0x5693e3bfd0>"
      ]
     },
     "execution_count": 9,
     "metadata": {},
     "output_type": "execute_result"
    },
    {
     "data": {
      "image/png": "[encoded data removed]",
      "text/plain": [
       "<matplotlib.figure.Figure at 0x5693ddcf60>"
      ]
     },
     "metadata": {},
     "output_type": "display_data"
    }
   ],
   "source": [
    "data.groupby('MoSold')['SalePrice'].median().plot()\n",
    "plt.title('House price variation in the year')\n",
    "plt.ylabel('mean House price')"
   ]
  },
  {
   "cell_type": "markdown",
   "metadata": {},
   "source": [
    "The price seems to vary depending on the time of the year in which the house is sold. This information will be captured when we engineer this variable later on.\n",
    "\n",
    "\n",
    "#### Find discrete variables\n",
    "\n",
    "To identify discrete variables, I will select from all the numerical ones, those that contain a finite and small number of distinct values. See below."
   ]
  },
  {
   "cell_type": "code",
   "execution_count": 9,
   "metadata": {},
   "outputs": [
    {
     "name": "stdout",
     "output_type": "stream",
     "text": [
      "MSSubClass  values:  [ 60  20  70  50 190  45  90 120  30  85  80 160  75 180  40]\n",
      "OverallQual  values:  [ 7  6  8  5  9  4 10  3  1  2]\n",
      "OverallCond  values:  [5 8 6 7 4 2 3 9 1]\n",
      "BsmtFullBath  values:  [1 0 2 3]\n",
      "BsmtHalfBath  values:  [0 1 2]\n",
      "FullBath  values:  [2 1 3 0]\n",
      "HalfBath  values:  [1 0 2]\n",
      "BedroomAbvGr  values:  [3 4 1 2 0 5 6 8]\n",
      "KitchenAbvGr  values:  [1 2 3 0]\n",
      "TotRmsAbvGrd  values:  [ 8  6  7  9  5 11  4 10 12  3  2 14]\n",
      "Fireplaces  values:  [0 1 2 3]\n",
      "GarageCars  values:  [2 3 1 0 4]\n",
      "PoolArea  values:  [  0 512 648 576 555 480 519 738]\n",
      "MoSold  values:  [ 2  5  9 12 10  8 11  4  1  7  3  6]\n",
      "\n",
      "There are 14 discrete variables\n"
     ]
    }
   ],
   "source": [
    "# let's visualise the values of the discrete variables\n",
    "discrete = []\n",
    "\n",
    "for var in numerical:\n",
    "    if len(data[var].unique())<20 and var not in year_vars:\n",
    "        print(var, ' values: ', data[var].unique())\n",
    "        discrete.append(var)\n",
    "print()\n",
    "print('There are {} discrete variables'.format(len(discrete)))"
   ]
  },
  {
   "cell_type": "markdown",
   "metadata": {},
   "source": [
    "#### Continuous variables"
   ]
  },
  {
   "cell_type": "code",
   "execution_count": 10,
   "metadata": {},
   "outputs": [
    {
     "name": "stdout",
     "output_type": "stream",
     "text": [
      "There are 18 numerical and continuous variables\n"
     ]
    }
   ],
   "source": [
    "# find continuous variables\n",
    "# let's remember to skip the Id variable and the target variable SalePrice, which are both also numerical\n",
    "\n",
    "numerical = [var for var in numerical if var not in discrete and var not in ['Id', 'SalePrice'] and var not in year_vars]\n",
    "print('There are {} numerical and continuous variables'.format(len(numerical)))"
   ]
  },
  {
   "cell_type": "markdown",
   "metadata": {},
   "source": [
    "Perfect!! Now we have inspected and have a view of the different types of variables that we have in the house price dataset. Let's move on to understand the types of problems that these variables have.\n",
    "\n",
    "### Types of problems within the variables (section 3)\n",
    "\n",
    "#### Missing values"
   ]
  },
  {
   "cell_type": "code",
   "execution_count": 11,
   "metadata": {},
   "outputs": [
    {
     "name": "stdout",
     "output_type": "stream",
     "text": [
      "LotFrontage 0.1773972602739726\n",
      "Alley 0.9376712328767123\n",
      "MasVnrType 0.005479452054794521\n",
      "MasVnrArea 0.005479452054794521\n",
      "BsmtQual 0.025342465753424658\n",
      "BsmtCond 0.025342465753424658\n",
      "BsmtExposure 0.026027397260273973\n",
      "BsmtFinType1 0.025342465753424658\n",
      "BsmtFinType2 0.026027397260273973\n",
      "Electrical 0.0006849315068493151\n",
      "FireplaceQu 0.4726027397260274\n",
      "GarageType 0.05547945205479452\n",
      "GarageYrBlt 0.05547945205479452\n",
      "GarageFinish 0.05547945205479452\n",
      "GarageQual 0.05547945205479452\n",
      "GarageCond 0.05547945205479452\n",
      "PoolQC 0.9952054794520548\n",
      "Fence 0.8075342465753425\n",
      "MiscFeature 0.963013698630137\n"
     ]
    }
   ],
   "source": [
    "# let's visualise the percentage of missing values for each variable\n",
    "for var in data.columns:\n",
    "    if data[var].isnull().sum()>0:\n",
    "        print(var, data[var].isnull().mean())"
   ]
  },
  {
   "cell_type": "markdown",
   "metadata": {},
   "source": [
    "#### Outliers"
   ]
  },
  {
   "cell_type": "code",
   "execution_count": 12,
   "metadata": {},
   "outputs": [
    {
     "data": {
      "text/plain": [
       "['LotFrontage',\n",
       " 'LotArea',\n",
       " 'MasVnrArea',\n",
       " 'BsmtFinSF1',\n",
       " 'BsmtFinSF2',\n",
       " 'BsmtUnfSF',\n",
       " 'TotalBsmtSF',\n",
       " '1stFlrSF',\n",
       " '2ndFlrSF',\n",
       " 'LowQualFinSF',\n",
       " 'GrLivArea',\n",
       " 'GarageArea',\n",
       " 'WoodDeckSF',\n",
       " 'OpenPorchSF',\n",
       " 'EnclosedPorch',\n",
       " '3SsnPorch',\n",
       " 'ScreenPorch',\n",
       " 'MiscVal']"
      ]
     },
     "execution_count": 12,
     "metadata": {},
     "output_type": "execute_result"
    }
   ],
   "source": [
    "# let's look at the numerical variables\n",
    "numerical"
   ]
  },
  {
   "cell_type": "code",
   "execution_count": 13,
   "metadata": {
    "scrolled": true
   },
   "outputs": [
    {
     "data": {
      "image/png": "[encoded data removed]",
      "text/plain": [
       "<Figure size 1080x432 with 2 Axes>"
      ]
     },
     "metadata": {
      "needs_background": "light"
     },
     "output_type": "display_data"
    },
    {
     "data": {
      "image/png": "[encoded data removed]",
      "text/plain": [
       "<Figure size 1080x432 with 2 Axes>"
      ]
     },
     "metadata": {
      "needs_background": "light"
     },
     "output_type": "display_data"
    },
    {
     "data": {
      "image/png": "[encoded data removed]",
      "text/plain": [
       "<Figure size 1080x432 with 2 Axes>"
      ]
     },
     "metadata": {
      "needs_background": "light"
     },
     "output_type": "display_data"
    },
    {
     "data": {
      "image/png": "[encoded data removed]",
      "text/plain": [
       "<Figure size 1080x432 with 2 Axes>"
      ]
     },
     "metadata": {
      "needs_background": "light"
     },
     "output_type": "display_data"
    },
    {
     "data": {
      "image/png": "[encoded data removed]",
      "text/plain": [
       "<Figure size 1080x432 with 2 Axes>"
      ]
     },
     "metadata": {
      "needs_background": "light"
     },
     "output_type": "display_data"
    },
    {
     "data": {
      "image/png": "[encoded data removed]",
      "text/plain": [
       "<Figure size 1080x432 with 2 Axes>"
      ]
     },
     "metadata": {
      "needs_background": "light"
     },
     "output_type": "display_data"
    },
    {
     "data": {
      "image/png": "[encoded data removed]",
      "text/plain": [
       "<Figure size 1080x432 with 2 Axes>"
      ]
     },
     "metadata": {
      "needs_background": "light"
     },
     "output_type": "display_data"
    },
    {
     "data": {
      "image/png": "[encoded data removed]",
      "text/plain": [
       "<Figure size 1080x432 with 2 Axes>"
      ]
     },
     "metadata": {
      "needs_background": "light"
     },
     "output_type": "display_data"
    },
    {
     "data": {
      "image/png": "[encoded data removed]",
      "text/plain": [
       "<Figure size 1080x432 with 2 Axes>"
      ]
     },
     "metadata": {
      "needs_background": "light"
     },
     "output_type": "display_data"
    },
    {
     "data": {
      "image/png": "[encoded data removed]",
      "text/plain": [
       "<Figure size 1080x432 with 2 Axes>"
      ]
     },
     "metadata": {
      "needs_background": "light"
     },
     "output_type": "display_data"
    },
    {
     "data": {
      "image/png": "[encoded data removed]",
      "text/plain": [
       "<Figure size 1080x432 with 2 Axes>"
      ]
     },
     "metadata": {
      "needs_background": "light"
     },
     "output_type": "display_data"
    },
    {
     "data": {
      "image/png": "[encoded data removed]",
      "text/plain": [
       "<Figure size 1080x432 with 2 Axes>"
      ]
     },
     "metadata": {
      "needs_background": "light"
     },
     "output_type": "display_data"
    },
    {
     "data": {
      "image/png": "[encoded data removed]",
      "text/plain": [
       "<Figure size 1080x432 with 2 Axes>"
      ]
     },
     "metadata": {
      "needs_background": "light"
     },
     "output_type": "display_data"
    },
    {
     "data": {
      "image/png": "[encoded data removed]",
      "text/plain": [
       "<Figure size 1080x432 with 2 Axes>"
      ]
     },
     "metadata": {
      "needs_background": "light"
     },
     "output_type": "display_data"
    },
    {
     "data": {
      "image/png": "[encoded data removed]",
      "text/plain": [
       "<Figure size 1080x432 with 2 Axes>"
      ]
     },
     "metadata": {
      "needs_background": "light"
     },
     "output_type": "display_data"
    },
    {
     "data": {
      "image/png": "[encoded data removed]",
      "text/plain": [
       "<Figure size 1080x432 with 2 Axes>"
      ]
     },
     "metadata": {
      "needs_background": "light"
     },
     "output_type": "display_data"
    },
    {
     "data": {
      "image/png": "[encoded data removed]",
      "text/plain": [
       "<Figure size 1080x432 with 2 Axes>"
      ]
     },
     "metadata": {
      "needs_background": "light"
     },
     "output_type": "display_data"
    },
    {
     "data": {
      "image/png": "[encoded data removed]",
      "text/plain": [
       "<Figure size 1080x432 with 2 Axes>"
      ]
     },
     "metadata": {
      "needs_background": "light"
     },
     "output_type": "display_data"
    }
   ],
   "source": [
    "# let's make boxplots to visualise outliers in the continuous variables \n",
    "# and histograms to get an idea of the distribution\n",
    "\n",
    "for var in numerical:\n",
    "    plt.figure(figsize=(15,6))\n",
    "    plt.subplot(1, 2, 1)\n",
    "    fig = data.boxplot(column=var)\n",
    "    fig.set_title('')\n",
    "    fig.set_ylabel(var)\n",
    "    \n",
    "    plt.subplot(1, 2, 2)\n",
    "    fig = data[var].hist(bins=20)\n",
    "    fig.set_ylabel('Number of houses')\n",
    "    fig.set_xlabel(var)\n",
    "\n",
    "    plt.show()"
   ]
  },
  {
   "cell_type": "markdown",
   "metadata": {},
   "source": [
    "The majority of the continuous variables seem to contain outliers. In addition, the majority of the variables are not normally distributed. If we are planning to build linear regression, we might need to tackle these to improve the model performance. To tackle the 2 aspects together, I will do discretisation. And in particular, I will use trees to find the right buckets onto which I will divide the variables."
   ]
  },
  {
   "cell_type": "markdown",
   "metadata": {},
   "source": [
    "#### Outliers in discrete variables\n",
    "\n",
    "Now, let's identify outliers in numerical discrete variables. I will call outliers, those values that are present in less than 1% of the houses. This is exactly the same as finding rare labels in categorical variables. Discrete variables, in essence can be pre-processed / engineered as if they were categorical. Keep this in mind."
   ]
  },
  {
   "cell_type": "code",
   "execution_count": 14,
   "metadata": {},
   "outputs": [
    {
     "data": {
      "image/png": "[encoded data removed]",
      "text/plain": [
       "<Figure size 432x288 with 1 Axes>"
      ]
     },
     "metadata": {
      "needs_background": "light"
     },
     "output_type": "display_data"
    },
    {
     "name": "stdout",
     "output_type": "stream",
     "text": [
      "\n"
     ]
    },
    {
     "data": {
      "image/png": "[encoded data removed]",
      "text/plain": [
       "<Figure size 432x288 with 1 Axes>"
      ]
     },
     "metadata": {
      "needs_background": "light"
     },
     "output_type": "display_data"
    },
    {
     "name": "stdout",
     "output_type": "stream",
     "text": [
      "\n"
     ]
    },
    {
     "data": {
      "image/png": "[encoded data removed]",
      "text/plain": [
       "<Figure size 432x288 with 1 Axes>"
      ]
     },
     "metadata": {
      "needs_background": "light"
     },
     "output_type": "display_data"
    },
    {
     "name": "stdout",
     "output_type": "stream",
     "text": [
      "\n"
     ]
    },
    {
     "data": {
      "image/png": "[encoded data removed]",
      "text/plain": [
       "<Figure size 432x288 with 1 Axes>"
      ]
     },
     "metadata": {
      "needs_background": "light"
     },
     "output_type": "display_data"
    },
    {
     "name": "stdout",
     "output_type": "stream",
     "text": [
      "\n"
     ]
    },
    {
     "data": {
      "image/png": "[encoded data removed]",
      "text/plain": [
       "<Figure size 432x288 with 1 Axes>"
      ]
     },
     "metadata": {
      "needs_background": "light"
     },
     "output_type": "display_data"
    },
    {
     "name": "stdout",
     "output_type": "stream",
     "text": [
      "\n"
     ]
    },
    {
     "data": {
      "image/png": "[encoded data removed]",
      "text/plain": [
       "<Figure size 432x288 with 1 Axes>"
      ]
     },
     "metadata": {
      "needs_background": "light"
     },
     "output_type": "display_data"
    },
    {
     "name": "stdout",
     "output_type": "stream",
     "text": [
      "\n"
     ]
    },
    {
     "data": {
      "image/png": "[encoded data removed]",
      "text/plain": [
       "<Figure size 432x288 with 1 Axes>"
      ]
     },
     "metadata": {
      "needs_background": "light"
     },
     "output_type": "display_data"
    },
    {
     "name": "stdout",
     "output_type": "stream",
     "text": [
      "\n"
     ]
    },
    {
     "data": {
      "image/png": "[encoded data removed]",
      "text/plain": [
       "<Figure size 432x288 with 1 Axes>"
      ]
     },
     "metadata": {
      "needs_background": "light"
     },
     "output_type": "display_data"
    },
    {
     "name": "stdout",
     "output_type": "stream",
     "text": [
      "\n"
     ]
    },
    {
     "data": {
      "image/png": "[encoded data removed]",
      "text/plain": [
       "<Figure size 432x288 with 1 Axes>"
      ]
     },
     "metadata": {
      "needs_background": "light"
     },
     "output_type": "display_data"
    },
    {
     "name": "stdout",
     "output_type": "stream",
     "text": [
      "\n"
     ]
    },
    {
     "data": {
      "image/png": "[encoded data removed]",
      "text/plain": [
       "<Figure size 432x288 with 1 Axes>"
      ]
     },
     "metadata": {
      "needs_background": "light"
     },
     "output_type": "display_data"
    },
    {
     "name": "stdout",
     "output_type": "stream",
     "text": [
      "\n"
     ]
    },
    {
     "data": {
      "image/png": "[encoded data removed]",
      "text/plain": [
       "<Figure size 432x288 with 1 Axes>"
      ]
     },
     "metadata": {
      "needs_background": "light"
     },
     "output_type": "display_data"
    },
    {
     "name": "stdout",
     "output_type": "stream",
     "text": [
      "\n"
     ]
    },
    {
     "data": {
      "image/png": "[encoded data removed]",
      "text/plain": [
       "<Figure size 432x288 with 1 Axes>"
      ]
     },
     "metadata": {
      "needs_background": "light"
     },
     "output_type": "display_data"
    },
    {
     "name": "stdout",
     "output_type": "stream",
     "text": [
      "\n"
     ]
    },
    {
     "data": {
      "image/png": "[encoded data removed]",
      "text/plain": [
       "<Figure size 432x288 with 1 Axes>"
      ]
     },
     "metadata": {
      "needs_background": "light"
     },
     "output_type": "display_data"
    },
    {
     "name": "stdout",
     "output_type": "stream",
     "text": [
      "\n"
     ]
    },
    {
     "data": {
      "image/png": "[encoded data removed]",
      "text/plain": [
       "<Figure size 432x288 with 1 Axes>"
      ]
     },
     "metadata": {
      "needs_background": "light"
     },
     "output_type": "display_data"
    },
    {
     "name": "stdout",
     "output_type": "stream",
     "text": [
      "\n"
     ]
    }
   ],
   "source": [
    "# outlies in discrete variables\n",
    "for var in discrete:\n",
    "    (data.groupby(var)[var].count() / np.float(len(data))).plot.bar()\n",
    "    plt.ylabel('Percentage of observations per label')\n",
    "    plt.title(var)\n",
    "    plt.show()\n",
    "    #print(data[var].value_counts() / np.float(len(data)))\n",
    "    print()"
   ]
  },
  {
   "cell_type": "markdown",
   "metadata": {},
   "source": [
    "Most of the discrete variables show values that are shared by a tiny proportion of houses in the dataset. For linear regression, this may not be a problem, but it most likely will be for tree methods.\n",
    "\n",
    "\n",
    "#### Number of labels: cardinality\n",
    "\n",
    "Let's go ahead now and examine our categorical variables. First I will determine whether they show high cardinality. This is, a high number of labels."
   ]
  },
  {
   "cell_type": "code",
   "execution_count": 15,
   "metadata": {},
   "outputs": [
    {
     "data": {
      "text/plain": [
       "Text(0, 0.5, 'Number of different categories')"
      ]
     },
     "execution_count": 15,
     "metadata": {},
     "output_type": "execute_result"
    },
    {
     "data": {
      "image/png": "[encoded data removed]",
      "text/plain": [
       "<Figure size 864x576 with 1 Axes>"
      ]
     },
     "metadata": {
      "needs_background": "light"
     },
     "output_type": "display_data"
    }
   ],
   "source": [
    "no_labels_ls = []\n",
    "for var in categorical:\n",
    "    no_labels_ls.append(len(data[var].unique()))\n",
    "    \n",
    " \n",
    "tmp = pd.Series(no_labels_ls)\n",
    "tmp.index = pd.Series(categorical)\n",
    "tmp.plot.bar(figsize=(12,8))\n",
    "plt.title('Number of categories in categorical variables')\n",
    "plt.xlabel('Categorical variables')\n",
    "plt.ylabel('Number of different categories')"
   ]
  },
  {
   "cell_type": "markdown",
   "metadata": {},
   "source": [
    "Most of the variables, contain only a few labels. Then, we do not have to deal with high cardinality. That is good news!"
   ]
  },
  {
   "cell_type": "markdown",
   "metadata": {},
   "source": [
    "### Separate train and test set"
   ]
  },
  {
   "cell_type": "code",
   "execution_count": 19,
   "metadata": {},
   "outputs": [
    {
     "data": {
      "text/plain": [
       "((1314, 81), (146, 81))"
      ]
     },
     "execution_count": 19,
     "metadata": {},
     "output_type": "execute_result"
    }
   ],
   "source": [
    "# Let's separate into train and test set\n",
    "\n",
    "X_train, X_test, y_train, y_test = train_test_split(data, data.SalePrice, test_size=0.1,\n",
    "                                                    random_state=0)\n",
    "X_train.shape, X_test.shape"
   ]
  },
  {
   "cell_type": "markdown",
   "metadata": {},
   "source": [
    "**Now we will move on and engineer the features of this dataset. The most important part for this course.**"
   ]
  },
  {
   "cell_type": "markdown",
   "metadata": {},
   "source": [
    "### Temporal variables (Section 12)\n",
    "\n",
    "First, we will create those temporal variables we discussed a few cells ago"
   ]
  },
  {
   "cell_type": "code",
   "execution_count": 20,
   "metadata": {
    "collapsed": true
   },
   "outputs": [],
   "source": [
    "# function to calculate elapsed time\n",
    "\n",
    "def elapsed_years(df, var):\n",
    "    # capture difference between year variable and year the house was sold\n",
    "    df[var] = df['YrSold'] - df[var]\n",
    "    return df"
   ]
  },
  {
   "cell_type": "code",
   "execution_count": 21,
   "metadata": {
    "collapsed": true
   },
   "outputs": [],
   "source": [
    "for var in ['YearBuilt', 'YearRemodAdd', 'GarageYrBlt']:\n",
    "    X_train = elapsed_years(X_train, var)\n",
    "    X_test = elapsed_years(X_test, var)\n",
    "    submission = elapsed_years(submission, var)"
   ]
  },
  {
   "cell_type": "code",
   "execution_count": 22,
   "metadata": {},
   "outputs": [
    {
     "data": {
      "text/html": [
       "<div>\n",
       "<style scoped>\n",
       "    .dataframe tbody tr th:only-of-type {\n",
       "        vertical-align: middle;\n",
       "    }\n",
       "\n",
       "    .dataframe tbody tr th {\n",
       "        vertical-align: top;\n",
       "    }\n",
       "\n",
       "    .dataframe thead th {\n",
       "        text-align: right;\n",
       "    }\n",
       "</style>\n",
       "<table border=\"1\" class=\"dataframe\">\n",
       "  <thead>\n",
       "    <tr style=\"text-align: right;\">\n",
       "      <th></th>\n",
       "      <th>YearBuilt</th>\n",
       "      <th>YearRemodAdd</th>\n",
       "      <th>GarageYrBlt</th>\n",
       "    </tr>\n",
       "  </thead>\n",
       "  <tbody>\n",
       "    <tr>\n",
       "      <th>930</th>\n",
       "      <td>2</td>\n",
       "      <td>2</td>\n",
       "      <td>2.0</td>\n",
       "    </tr>\n",
       "    <tr>\n",
       "      <th>656</th>\n",
       "      <td>49</td>\n",
       "      <td>2</td>\n",
       "      <td>49.0</td>\n",
       "    </tr>\n",
       "    <tr>\n",
       "      <th>45</th>\n",
       "      <td>5</td>\n",
       "      <td>5</td>\n",
       "      <td>5.0</td>\n",
       "    </tr>\n",
       "    <tr>\n",
       "      <th>1348</th>\n",
       "      <td>9</td>\n",
       "      <td>9</td>\n",
       "      <td>9.0</td>\n",
       "    </tr>\n",
       "    <tr>\n",
       "      <th>55</th>\n",
       "      <td>44</td>\n",
       "      <td>44</td>\n",
       "      <td>44.0</td>\n",
       "    </tr>\n",
       "  </tbody>\n",
       "</table>\n",
       "</div>"
      ],
      "text/plain": [
       "      YearBuilt  YearRemodAdd  GarageYrBlt\n",
       "930           2             2          2.0\n",
       "656          49             2         49.0\n",
       "45            5             5          5.0\n",
       "1348          9             9          9.0\n",
       "55           44            44         44.0"
      ]
     },
     "execution_count": 22,
     "metadata": {},
     "output_type": "execute_result"
    }
   ],
   "source": [
    "X_train[['YearBuilt', 'YearRemodAdd', 'GarageYrBlt']].head()"
   ]
  },
  {
   "cell_type": "markdown",
   "metadata": {},
   "source": [
    "Instead of years, now we have the amount of years passed since the house was built or remodeled and the house was sold. Next, we drop the YrSold variable from the datasets, because we already extracted its value."
   ]
  },
  {
   "cell_type": "code",
   "execution_count": 23,
   "metadata": {
    "collapsed": true
   },
   "outputs": [],
   "source": [
    "# drop YrSold\n",
    "X_train.drop('YrSold', axis=1, inplace=True)\n",
    "X_test.drop('YrSold', axis=1, inplace=True)"
   ]
  },
  {
   "cell_type": "markdown",
   "metadata": {},
   "source": [
    "### Missing data imputation (section 4)\n",
    "#### Continuous variables"
   ]
  },
  {
   "cell_type": "code",
   "execution_count": 24,
   "metadata": {},
   "outputs": [
    {
     "name": "stdout",
     "output_type": "stream",
     "text": [
      "LotFrontage 0.177321156773\n",
      "MasVnrArea 0.00456621004566\n",
      "GarageYrBlt 0.0563165905632\n"
     ]
    }
   ],
   "source": [
    "# print variables with missing data\n",
    "# keep in mind that now that we created those new temporal variables, we\n",
    "# are going to treat them as numerical and continuous as well:\n",
    "\n",
    "# remove YrSold because it is no longer in our dataset\n",
    "year_vars.remove('YrSold')\n",
    "\n",
    "# examine percentage of missing values\n",
    "for col in numerical+year_vars:\n",
    "    if X_train[col].isnull().mean()>0:\n",
    "        print(col, X_train[col].isnull().mean())"
   ]
  },
  {
   "cell_type": "markdown",
   "metadata": {},
   "source": [
    "**additional variable with NA + median imputation**"
   ]
  },
  {
   "cell_type": "code",
   "execution_count": 16,
   "metadata": {},
   "outputs": [
    {
     "ename": "NameError",
     "evalue": "name 'X_train' is not defined",
     "output_type": "error",
     "traceback": [
      "\u001b[1;31m---------------------------------------------------------------------------\u001b[0m",
      "\u001b[1;31mNameError\u001b[0m                                 Traceback (most recent call last)",
      "\u001b[1;32m<ipython-input-16-0e58b3cad9d9>\u001b[0m in \u001b[0;36m<module>\u001b[1;34m\u001b[0m\n\u001b[0;32m      1\u001b[0m \u001b[1;31m# print variables with missing data\u001b[0m\u001b[1;33m\u001b[0m\u001b[1;33m\u001b[0m\u001b[1;33m\u001b[0m\u001b[0m\n\u001b[0;32m      2\u001b[0m \u001b[1;32mfor\u001b[0m \u001b[0mcol\u001b[0m \u001b[1;32min\u001b[0m \u001b[0mcategorical\u001b[0m\u001b[1;33m:\u001b[0m\u001b[1;33m\u001b[0m\u001b[1;33m\u001b[0m\u001b[0m\n\u001b[1;32m----> 3\u001b[1;33m     \u001b[1;32mif\u001b[0m \u001b[0mX_train\u001b[0m\u001b[1;33m[\u001b[0m\u001b[0mcol\u001b[0m\u001b[1;33m]\u001b[0m\u001b[1;33m.\u001b[0m\u001b[0misnull\u001b[0m\u001b[1;33m(\u001b[0m\u001b[1;33m)\u001b[0m\u001b[1;33m.\u001b[0m\u001b[0mmean\u001b[0m\u001b[1;33m(\u001b[0m\u001b[1;33m)\u001b[0m\u001b[1;33m>\u001b[0m\u001b[1;36m0\u001b[0m\u001b[1;33m:\u001b[0m\u001b[1;33m\u001b[0m\u001b[1;33m\u001b[0m\u001b[0m\n\u001b[0m\u001b[0;32m      4\u001b[0m         \u001b[0mprint\u001b[0m\u001b[1;33m(\u001b[0m\u001b[0mcol\u001b[0m\u001b[1;33m,\u001b[0m \u001b[0mX_train\u001b[0m\u001b[1;33m[\u001b[0m\u001b[0mcol\u001b[0m\u001b[1;33m]\u001b[0m\u001b[1;33m.\u001b[0m\u001b[0misnull\u001b[0m\u001b[1;33m(\u001b[0m\u001b[1;33m)\u001b[0m\u001b[1;33m.\u001b[0m\u001b[0mmean\u001b[0m\u001b[1;33m(\u001b[0m\u001b[1;33m)\u001b[0m\u001b[1;33m)\u001b[0m\u001b[1;33m\u001b[0m\u001b[1;33m\u001b[0m\u001b[0m\n",
      "\u001b[1;31mNameError\u001b[0m: name 'X_train' is not defined"
     ]
    }
   ],
   "source": [
    "# print variables with missing data\n",
    "for col in categorical:\n",
    "    if X_train[col].isnull().mean()>0:\n",
    "        print(col, X_train[col].isnull().mean())"
   ]
  },
  {
   "cell_type": "markdown",
   "metadata": {},
   "source": [
    "**Add missing label to categorical variables**"
   ]
  },
  {
   "cell_type": "markdown",
   "metadata": {},
   "source": [
    "### Rare labels and categorical encoding (Section 6)"
   ]
  },
  {
   "cell_type": "markdown",
   "metadata": {},
   "source": [
    "### Discretisation (Section 8)\n",
    "\n",
    "In order to tackle outliers and skewed distributions at the same time, I will do discretise the variables."
   ]
  },
  {
   "cell_type": "code",
   "execution_count": 17,
   "metadata": {
    "scrolled": true
   },
   "outputs": [
    {
     "ename": "NameError",
     "evalue": "name 'X_train' is not defined",
     "output_type": "error",
     "traceback": [
      "\u001b[1;31m---------------------------------------------------------------------------\u001b[0m",
      "\u001b[1;31mNameError\u001b[0m                                 Traceback (most recent call last)",
      "\u001b[1;32m<ipython-input-17-382bc3f81231>\u001b[0m in \u001b[0;36m<module>\u001b[1;34m\u001b[0m\n\u001b[1;32m----> 1\u001b[1;33m \u001b[0mX_train\u001b[0m\u001b[1;33m[\u001b[0m\u001b[0mnumerical\u001b[0m\u001b[1;33m]\u001b[0m\u001b[1;33m.\u001b[0m\u001b[0mhist\u001b[0m\u001b[1;33m(\u001b[0m\u001b[1;33m)\u001b[0m\u001b[1;33m\u001b[0m\u001b[1;33m\u001b[0m\u001b[0m\n\u001b[0m",
      "\u001b[1;31mNameError\u001b[0m: name 'X_train' is not defined"
     ]
    }
   ],
   "source": [
    "X_train[numerical].hist()"
   ]
  },
  {
   "cell_type": "markdown",
   "metadata": {},
   "source": [
    "We can see that the mean House Price value increases with the value of the bucket. This means we managed to create a monotonic distribution between the numerical variable and the target."
   ]
  },
  {
   "cell_type": "code",
   "execution_count": 38,
   "metadata": {
    "collapsed": true
   },
   "outputs": [],
   "source": [
    "def rare_imputation(variable):\n",
    "    # find frequent labels / discrete numbers\n",
    "    temp = X_train.groupby([variable])[variable].count()/np.float(len(X_train))\n",
    "    frequent_cat = [x for x in temp.loc[temp>0.03].index.values]\n",
    "    \n",
    "    X_train[variable] = np.where(X_train[variable].isin(frequent_cat), X_train[variable], 'Rare')\n",
    "    X_test[variable] = np.where(X_test[variable].isin(frequent_cat), X_test[variable], 'Rare')\n",
    "    submission[variable] = np.where(submission[variable].isin(frequent_cat), submission[variable], 'Rare')"
   ]
  },
  {
   "cell_type": "code",
   "execution_count": 18,
   "metadata": {
    "scrolled": true
   },
   "outputs": [
    {
     "ename": "NameError",
     "evalue": "name 'X_train' is not defined",
     "output_type": "error",
     "traceback": [
      "\u001b[1;31m---------------------------------------------------------------------------\u001b[0m",
      "\u001b[1;31mNameError\u001b[0m                                 Traceback (most recent call last)",
      "\u001b[1;32m<ipython-input-18-93049e89dc01>\u001b[0m in \u001b[0;36m<module>\u001b[1;34m\u001b[0m\n\u001b[0;32m      1\u001b[0m \u001b[1;31m# let's check that it worked\u001b[0m\u001b[1;33m\u001b[0m\u001b[1;33m\u001b[0m\u001b[1;33m\u001b[0m\u001b[0m\n\u001b[0;32m      2\u001b[0m \u001b[1;32mfor\u001b[0m \u001b[0mvar\u001b[0m \u001b[1;32min\u001b[0m \u001b[0mcategorical\u001b[0m\u001b[1;33m:\u001b[0m\u001b[1;33m\u001b[0m\u001b[1;33m\u001b[0m\u001b[0m\n\u001b[1;32m----> 3\u001b[1;33m     \u001b[1;33m(\u001b[0m\u001b[0mX_train\u001b[0m\u001b[1;33m.\u001b[0m\u001b[0mgroupby\u001b[0m\u001b[1;33m(\u001b[0m\u001b[0mvar\u001b[0m\u001b[1;33m)\u001b[0m\u001b[1;33m[\u001b[0m\u001b[0mvar\u001b[0m\u001b[1;33m]\u001b[0m\u001b[1;33m.\u001b[0m\u001b[0mcount\u001b[0m\u001b[1;33m(\u001b[0m\u001b[1;33m)\u001b[0m \u001b[1;33m/\u001b[0m \u001b[0mnp\u001b[0m\u001b[1;33m.\u001b[0m\u001b[0mfloat\u001b[0m\u001b[1;33m(\u001b[0m\u001b[0mlen\u001b[0m\u001b[1;33m(\u001b[0m\u001b[0mX_train\u001b[0m\u001b[1;33m)\u001b[0m\u001b[1;33m)\u001b[0m\u001b[1;33m)\u001b[0m\u001b[1;33m.\u001b[0m\u001b[0mplot\u001b[0m\u001b[1;33m.\u001b[0m\u001b[0mbar\u001b[0m\u001b[1;33m(\u001b[0m\u001b[1;33m)\u001b[0m\u001b[1;33m\u001b[0m\u001b[1;33m\u001b[0m\u001b[0m\n\u001b[0m\u001b[0;32m      4\u001b[0m     \u001b[0mplt\u001b[0m\u001b[1;33m.\u001b[0m\u001b[0mylabel\u001b[0m\u001b[1;33m(\u001b[0m\u001b[1;34m'Percentage of observations per label'\u001b[0m\u001b[1;33m)\u001b[0m\u001b[1;33m\u001b[0m\u001b[1;33m\u001b[0m\u001b[0m\n\u001b[0;32m      5\u001b[0m     \u001b[0mplt\u001b[0m\u001b[1;33m.\u001b[0m\u001b[0mtitle\u001b[0m\u001b[1;33m(\u001b[0m\u001b[0mvar\u001b[0m\u001b[1;33m)\u001b[0m\u001b[1;33m\u001b[0m\u001b[1;33m\u001b[0m\u001b[0m\n",
      "\u001b[1;31mNameError\u001b[0m: name 'X_train' is not defined"
     ]
    }
   ],
   "source": [
    "# let's check that it worked\n",
    "for var in categorical:\n",
    "    (X_train.groupby(var)[var].count() / np.float(len(X_train))).plot.bar()\n",
    "    plt.ylabel('Percentage of observations per label')\n",
    "    plt.title(var)\n",
    "    plt.show()"
   ]
  },
  {
   "cell_type": "code",
   "execution_count": 43,
   "metadata": {
    "scrolled": true
   },
   "outputs": [
    {
     "data": {
      "image/png": "[encoded data removed]",
      "text/plain": [
       "<matplotlib.figure.Figure at 0x5694af0fd0>"
      ]
     },
     "metadata": {},
     "output_type": "display_data"
    },
    {
     "data": {
      "image/png": "[encoded data removed]",
      "text/plain": [
       "<matplotlib.figure.Figure at 0x56946babe0>"
      ]
     },
     "metadata": {},
     "output_type": "display_data"
    },
    {
     "data": {
      "image/png": "[encoded data removed]",
      "text/plain": [
       "<matplotlib.figure.Figure at 0x5694d397b8>"
      ]
     },
     "metadata": {},
     "output_type": "display_data"
    },
    {
     "data": {
      "image/png": "[encoded data removed]",
      "text/plain": [
       "<matplotlib.figure.Figure at 0x5694eacb38>"
      ]
     },
     "metadata": {},
     "output_type": "display_data"
    },
    {
     "data": {
      "image/png": "[encoded data removed]",
      "text/plain": [
       "<matplotlib.figure.Figure at 0x569442e668>"
      ]
     },
     "metadata": {},
     "output_type": "display_data"
    },
    {
     "data": {
      "image/png": "[encoded data removed]",
      "text/plain": [
       "<matplotlib.figure.Figure at 0x5694bfd6d8>"
      ]
     },
     "metadata": {},
     "output_type": "display_data"
    },
    {
     "data": {
      "image/png": "[encoded data removed]",
      "text/plain": [
       "<matplotlib.figure.Figure at 0x5694a7c2b0>"
      ]
     },
     "metadata": {},
     "output_type": "display_data"
    },
    {
     "data": {
      "image/png": "[encoded data removed]",
      "text/plain": [
       "<matplotlib.figure.Figure at 0x5694f0bbe0>"
      ]
     },
     "metadata": {},
     "output_type": "display_data"
    },
    {
     "data": {
      "image/png": "[encoded data removed]",
      "text/plain": [
       "<matplotlib.figure.Figure at 0x5694afe6d8>"
      ]
     },
     "metadata": {},
     "output_type": "display_data"
    },
    {
     "data": {
      "image/png": "[encoded data removed]",
      "text/plain": [
       "<matplotlib.figure.Figure at 0x56946d5978>"
      ]
     },
     "metadata": {},
     "output_type": "display_data"
    },
    {
     "data": {
      "image/png": "[encoded data removed]",
      "text/plain": [
       "<matplotlib.figure.Figure at 0x569496d198>"
      ]
     },
     "metadata": {},
     "output_type": "display_data"
    },
    {
     "data": {
      "image/png": "[encoded data removed]",
      "text/plain": [
       "<matplotlib.figure.Figure at 0x5694405390>"
      ]
     },
     "metadata": {},
     "output_type": "display_data"
    },
    {
     "data": {
      "image/png": "[encoded data removed]",
      "text/plain": [
       "<matplotlib.figure.Figure at 0x56946da5c0>"
      ]
     },
     "metadata": {},
     "output_type": "display_data"
    },
    {
     "data": {
      "image/png": "[encoded data removed]",
      "text/plain": [
       "<matplotlib.figure.Figure at 0x5694794a90>"
      ]
     },
     "metadata": {},
     "output_type": "display_data"
    }
   ],
   "source": [
    "# let's check that it worked\n",
    "for var in discrete:\n",
    "    (X_train.groupby(var)[var].count() / np.float(len(X_train))).plot.bar()\n",
    "    plt.ylabel('Percentage of observations per label')\n",
    "    plt.title(var)\n",
    "    plt.show()"
   ]
  },
  {
   "cell_type": "markdown",
   "metadata": {},
   "source": [
    "Fantastic, we have replaced infrequent labels in both categorical and numerical variables. We see the presence of the label rare in both!\n",
    "\n",
    "### Encode categorical and discrete variables (section 10)\n",
    "\n",
    "I will use target encoding for categorical variables. This way, the labels will be replaced by the mean of the SalePrice, and will remain in a similar scale to the one that now show our numerical variables."
   ]
  },
  {
   "cell_type": "code",
   "execution_count": 44,
   "metadata": {
    "collapsed": true
   },
   "outputs": [],
   "source": [
    "def encode_categorical_variables(var, target):\n",
    "        # make label to price dictionary\n",
    "        ordered_labels = X_train.groupby([var])[target].mean().to_dict()\n",
    "        \n",
    "        # encode variables\n",
    "        X_train[var] = X_train[var].map(ordered_labels)\n",
    "        X_test[var] = X_test[var].map(ordered_labels)\n",
    "        submission[var] = submission[var].map(ordered_labels)\n",
    "\n",
    "# encode labels in categorical vars\n",
    "for var in categorical:\n",
    "    encode_categorical_variables(var, 'SalePrice')\n",
    "    \n",
    "# encode labels in discrete vars\n",
    "for var in discrete:\n",
    "    encode_categorical_variables(var, 'SalePrice')"
   ]
  },
  {
   "cell_type": "code",
   "execution_count": 45,
   "metadata": {
    "collapsed": true
   },
   "outputs": [],
   "source": [
    "# sanity check: let's see that we did not introduce NA by accident\n",
    "for var in X_train.columns:\n",
    "    if var!='SalePrice' and submission[var].isnull().sum()>0:\n",
    "        print(var, submission[var].isnull().sum())"
   ]
  },
  {
   "cell_type": "code",
   "execution_count": 46,
   "metadata": {},
   "outputs": [
    {
     "data": {
      "text/html": [
       "<div>\n",
       "<style scoped>\n",
       "    .dataframe tbody tr th:only-of-type {\n",
       "        vertical-align: middle;\n",
       "    }\n",
       "\n",
       "    .dataframe tbody tr th {\n",
       "        vertical-align: top;\n",
       "    }\n",
       "\n",
       "    .dataframe thead th {\n",
       "        text-align: right;\n",
       "    }\n",
       "</style>\n",
       "<table border=\"1\" class=\"dataframe\">\n",
       "  <thead>\n",
       "    <tr style=\"text-align: right;\">\n",
       "      <th></th>\n",
       "      <th>Id</th>\n",
       "      <th>MSSubClass</th>\n",
       "      <th>MSZoning</th>\n",
       "      <th>LotFrontage</th>\n",
       "      <th>LotArea</th>\n",
       "      <th>Street</th>\n",
       "      <th>Alley</th>\n",
       "      <th>LotShape</th>\n",
       "      <th>LandContour</th>\n",
       "      <th>Utilities</th>\n",
       "      <th>LotConfig</th>\n",
       "      <th>LandSlope</th>\n",
       "      <th>Neighborhood</th>\n",
       "      <th>Condition1</th>\n",
       "      <th>Condition2</th>\n",
       "      <th>BldgType</th>\n",
       "      <th>HouseStyle</th>\n",
       "      <th>OverallQual</th>\n",
       "      <th>OverallCond</th>\n",
       "      <th>YearBuilt</th>\n",
       "      <th>YearRemodAdd</th>\n",
       "      <th>RoofStyle</th>\n",
       "      <th>RoofMatl</th>\n",
       "      <th>Exterior1st</th>\n",
       "      <th>Exterior2nd</th>\n",
       "      <th>MasVnrType</th>\n",
       "      <th>MasVnrArea</th>\n",
       "      <th>ExterQual</th>\n",
       "      <th>ExterCond</th>\n",
       "      <th>Foundation</th>\n",
       "      <th>BsmtQual</th>\n",
       "      <th>BsmtCond</th>\n",
       "      <th>BsmtExposure</th>\n",
       "      <th>BsmtFinType1</th>\n",
       "      <th>BsmtFinSF1</th>\n",
       "      <th>BsmtFinType2</th>\n",
       "      <th>BsmtFinSF2</th>\n",
       "      <th>BsmtUnfSF</th>\n",
       "      <th>TotalBsmtSF</th>\n",
       "      <th>Heating</th>\n",
       "      <th>HeatingQC</th>\n",
       "      <th>CentralAir</th>\n",
       "      <th>Electrical</th>\n",
       "      <th>1stFlrSF</th>\n",
       "      <th>2ndFlrSF</th>\n",
       "      <th>LowQualFinSF</th>\n",
       "      <th>GrLivArea</th>\n",
       "      <th>BsmtFullBath</th>\n",
       "      <th>BsmtHalfBath</th>\n",
       "      <th>FullBath</th>\n",
       "      <th>HalfBath</th>\n",
       "      <th>BedroomAbvGr</th>\n",
       "      <th>KitchenAbvGr</th>\n",
       "      <th>KitchenQual</th>\n",
       "      <th>TotRmsAbvGrd</th>\n",
       "      <th>Functional</th>\n",
       "      <th>Fireplaces</th>\n",
       "      <th>FireplaceQu</th>\n",
       "      <th>GarageType</th>\n",
       "      <th>GarageYrBlt</th>\n",
       "      <th>GarageFinish</th>\n",
       "      <th>GarageCars</th>\n",
       "      <th>GarageArea</th>\n",
       "      <th>GarageQual</th>\n",
       "      <th>GarageCond</th>\n",
       "      <th>PavedDrive</th>\n",
       "      <th>WoodDeckSF</th>\n",
       "      <th>OpenPorchSF</th>\n",
       "      <th>EnclosedPorch</th>\n",
       "      <th>3SsnPorch</th>\n",
       "      <th>ScreenPorch</th>\n",
       "      <th>PoolArea</th>\n",
       "      <th>PoolQC</th>\n",
       "      <th>Fence</th>\n",
       "      <th>MiscFeature</th>\n",
       "      <th>MiscVal</th>\n",
       "      <th>MoSold</th>\n",
       "      <th>SaleType</th>\n",
       "      <th>SaleCondition</th>\n",
       "      <th>SalePrice</th>\n",
       "      <th>LotFrontage_NA</th>\n",
       "      <th>GarageYrBlt_NA</th>\n",
       "    </tr>\n",
       "  </thead>\n",
       "  <tbody>\n",
       "    <tr>\n",
       "      <th>930</th>\n",
       "      <td>931</td>\n",
       "      <td>185843.232218</td>\n",
       "      <td>191356.98166</td>\n",
       "      <td>167762.37606</td>\n",
       "      <td>158953.135556</td>\n",
       "      <td>181219.432391</td>\n",
       "      <td>183647.568532</td>\n",
       "      <td>204901.363636</td>\n",
       "      <td>229102.255814</td>\n",
       "      <td>181073.785225</td>\n",
       "      <td>176923.341336</td>\n",
       "      <td>179949.742534</td>\n",
       "      <td>203489.946939</td>\n",
       "      <td>184202.50044</td>\n",
       "      <td>181114.067536</td>\n",
       "      <td>185740.182894</td>\n",
       "      <td>176486.047546</td>\n",
       "      <td>273483.000000</td>\n",
       "      <td>203106.269126</td>\n",
       "      <td>2</td>\n",
       "      <td>2</td>\n",
       "      <td>171319.443683</td>\n",
       "      <td>179722.971296</td>\n",
       "      <td>215247.326134</td>\n",
       "      <td>216064.221239</td>\n",
       "      <td>155917.553571</td>\n",
       "      <td>163654.383041</td>\n",
       "      <td>231040.800000</td>\n",
       "      <td>184094.602253</td>\n",
       "      <td>225871.299130</td>\n",
       "      <td>203881.873188</td>\n",
       "      <td>183805.015293</td>\n",
       "      <td>203036.095960</td>\n",
       "      <td>236866.435484</td>\n",
       "      <td>168932.967391</td>\n",
       "      <td>184463.10168</td>\n",
       "      <td>182044.330197</td>\n",
       "      <td>223591.230769</td>\n",
       "      <td>276886.258772</td>\n",
       "      <td>182115.031931</td>\n",
       "      <td>215075.475976</td>\n",
       "      <td>186569.561275</td>\n",
       "      <td>187320.733445</td>\n",
       "      <td>259723.935154</td>\n",
       "      <td>172078.614815</td>\n",
       "      <td>180816.740289</td>\n",
       "      <td>136612.858407</td>\n",
       "      <td>165147.890464</td>\n",
       "      <td>181297.887994</td>\n",
       "      <td>212795.308696</td>\n",
       "      <td>162838.57265</td>\n",
       "      <td>181029.186111</td>\n",
       "      <td>183542.560606</td>\n",
       "      <td>213391.308429</td>\n",
       "      <td>195928.690789</td>\n",
       "      <td>183618.068684</td>\n",
       "      <td>141047.961353</td>\n",
       "      <td>141047.961353</td>\n",
       "      <td>202501.549872</td>\n",
       "      <td>2.0</td>\n",
       "      <td>239303.034810</td>\n",
       "      <td>309977.853659</td>\n",
       "      <td>264085.159722</td>\n",
       "      <td>187768.181664</td>\n",
       "      <td>188346.234454</td>\n",
       "      <td>186926.069109</td>\n",
       "      <td>185741.375000</td>\n",
       "      <td>176651.410256</td>\n",
       "      <td>187252.10559</td>\n",
       "      <td>180574.090417</td>\n",
       "      <td>178797.429397</td>\n",
       "      <td>180898.631498</td>\n",
       "      <td>180898.631498</td>\n",
       "      <td>187715.285981</td>\n",
       "      <td>182136.371338</td>\n",
       "      <td>182097.497627</td>\n",
       "      <td>184207.900000</td>\n",
       "      <td>173346.078671</td>\n",
       "      <td>175368.825368</td>\n",
       "      <td>201000</td>\n",
       "      <td>0</td>\n",
       "      <td>0</td>\n",
       "    </tr>\n",
       "    <tr>\n",
       "      <th>656</th>\n",
       "      <td>657</td>\n",
       "      <td>185843.232218</td>\n",
       "      <td>191356.98166</td>\n",
       "      <td>167762.37606</td>\n",
       "      <td>158953.135556</td>\n",
       "      <td>181219.432391</td>\n",
       "      <td>183647.568532</td>\n",
       "      <td>204901.363636</td>\n",
       "      <td>180454.298052</td>\n",
       "      <td>181073.785225</td>\n",
       "      <td>176923.341336</td>\n",
       "      <td>179949.742534</td>\n",
       "      <td>146653.696517</td>\n",
       "      <td>184202.50044</td>\n",
       "      <td>181114.067536</td>\n",
       "      <td>185740.182894</td>\n",
       "      <td>176486.047546</td>\n",
       "      <td>133745.805634</td>\n",
       "      <td>159751.766304</td>\n",
       "      <td>49</td>\n",
       "      <td>2</td>\n",
       "      <td>171319.443683</td>\n",
       "      <td>179722.971296</td>\n",
       "      <td>161838.040609</td>\n",
       "      <td>166403.519126</td>\n",
       "      <td>205447.897436</td>\n",
       "      <td>163654.383041</td>\n",
       "      <td>231040.800000</td>\n",
       "      <td>184094.602253</td>\n",
       "      <td>150529.160558</td>\n",
       "      <td>141171.125637</td>\n",
       "      <td>183805.015293</td>\n",
       "      <td>166205.981395</td>\n",
       "      <td>161723.106061</td>\n",
       "      <td>168932.967391</td>\n",
       "      <td>184463.10168</td>\n",
       "      <td>182044.330197</td>\n",
       "      <td>184535.337349</td>\n",
       "      <td>160918.336096</td>\n",
       "      <td>182115.031931</td>\n",
       "      <td>215075.475976</td>\n",
       "      <td>186569.561275</td>\n",
       "      <td>187320.733445</td>\n",
       "      <td>158460.594515</td>\n",
       "      <td>172078.614815</td>\n",
       "      <td>180816.740289</td>\n",
       "      <td>136612.858407</td>\n",
       "      <td>203574.293893</td>\n",
       "      <td>181297.887994</td>\n",
       "      <td>135514.882453</td>\n",
       "      <td>212163.63843</td>\n",
       "      <td>181029.186111</td>\n",
       "      <td>183542.560606</td>\n",
       "      <td>213391.308429</td>\n",
       "      <td>141752.929461</td>\n",
       "      <td>183618.068684</td>\n",
       "      <td>141047.961353</td>\n",
       "      <td>141047.961353</td>\n",
       "      <td>202501.549872</td>\n",
       "      <td>49.0</td>\n",
       "      <td>202789.618799</td>\n",
       "      <td>128360.834835</td>\n",
       "      <td>157729.877193</td>\n",
       "      <td>187768.181664</td>\n",
       "      <td>188346.234454</td>\n",
       "      <td>186926.069109</td>\n",
       "      <td>158535.130246</td>\n",
       "      <td>144431.555366</td>\n",
       "      <td>187252.10559</td>\n",
       "      <td>180574.090417</td>\n",
       "      <td>178797.429397</td>\n",
       "      <td>180898.631498</td>\n",
       "      <td>180898.631498</td>\n",
       "      <td>145283.748092</td>\n",
       "      <td>182136.371338</td>\n",
       "      <td>182097.497627</td>\n",
       "      <td>185207.736364</td>\n",
       "      <td>173346.078671</td>\n",
       "      <td>175368.825368</td>\n",
       "      <td>145500</td>\n",
       "      <td>0</td>\n",
       "      <td>0</td>\n",
       "    </tr>\n",
       "    <tr>\n",
       "      <th>45</th>\n",
       "      <td>46</td>\n",
       "      <td>200763.148148</td>\n",
       "      <td>191356.98166</td>\n",
       "      <td>167762.37606</td>\n",
       "      <td>158953.135556</td>\n",
       "      <td>181219.432391</td>\n",
       "      <td>183647.568532</td>\n",
       "      <td>164928.283474</td>\n",
       "      <td>180454.298052</td>\n",
       "      <td>181073.785225</td>\n",
       "      <td>176923.341336</td>\n",
       "      <td>179949.742534</td>\n",
       "      <td>315191.901408</td>\n",
       "      <td>184202.50044</td>\n",
       "      <td>181114.067536</td>\n",
       "      <td>182123.300971</td>\n",
       "      <td>176486.047546</td>\n",
       "      <td>294348.576923</td>\n",
       "      <td>203106.269126</td>\n",
       "      <td>5</td>\n",
       "      <td>5</td>\n",
       "      <td>219039.383142</td>\n",
       "      <td>179722.971296</td>\n",
       "      <td>148333.844920</td>\n",
       "      <td>148397.961538</td>\n",
       "      <td>205447.897436</td>\n",
       "      <td>242979.107639</td>\n",
       "      <td>371951.531915</td>\n",
       "      <td>184094.602253</td>\n",
       "      <td>225871.299130</td>\n",
       "      <td>327072.598131</td>\n",
       "      <td>183805.015293</td>\n",
       "      <td>166205.981395</td>\n",
       "      <td>236866.435484</td>\n",
       "      <td>168932.967391</td>\n",
       "      <td>184463.10168</td>\n",
       "      <td>182044.330197</td>\n",
       "      <td>223591.230769</td>\n",
       "      <td>276886.258772</td>\n",
       "      <td>182115.031931</td>\n",
       "      <td>215075.475976</td>\n",
       "      <td>186569.561275</td>\n",
       "      <td>187320.733445</td>\n",
       "      <td>259723.935154</td>\n",
       "      <td>172078.614815</td>\n",
       "      <td>180816.740289</td>\n",
       "      <td>228402.298742</td>\n",
       "      <td>203574.293893</td>\n",
       "      <td>181297.887994</td>\n",
       "      <td>212795.308696</td>\n",
       "      <td>162838.57265</td>\n",
       "      <td>158790.238390</td>\n",
       "      <td>183542.560606</td>\n",
       "      <td>324619.989011</td>\n",
       "      <td>161003.847645</td>\n",
       "      <td>183618.068684</td>\n",
       "      <td>212674.463918</td>\n",
       "      <td>228513.814159</td>\n",
       "      <td>202501.549872</td>\n",
       "      <td>5.0</td>\n",
       "      <td>202789.618799</td>\n",
       "      <td>184038.209459</td>\n",
       "      <td>157729.877193</td>\n",
       "      <td>187768.181664</td>\n",
       "      <td>188346.234454</td>\n",
       "      <td>186926.069109</td>\n",
       "      <td>221973.968750</td>\n",
       "      <td>222076.920408</td>\n",
       "      <td>187252.10559</td>\n",
       "      <td>180574.090417</td>\n",
       "      <td>178797.429397</td>\n",
       "      <td>180898.631498</td>\n",
       "      <td>180898.631498</td>\n",
       "      <td>187715.285981</td>\n",
       "      <td>182136.371338</td>\n",
       "      <td>182097.497627</td>\n",
       "      <td>178312.000000</td>\n",
       "      <td>173346.078671</td>\n",
       "      <td>175368.825368</td>\n",
       "      <td>319900</td>\n",
       "      <td>0</td>\n",
       "      <td>0</td>\n",
       "    </tr>\n",
       "    <tr>\n",
       "      <th>1348</th>\n",
       "      <td>1349</td>\n",
       "      <td>185843.232218</td>\n",
       "      <td>191356.98166</td>\n",
       "      <td>167762.37606</td>\n",
       "      <td>229056.903382</td>\n",
       "      <td>181219.432391</td>\n",
       "      <td>183647.568532</td>\n",
       "      <td>244560.733333</td>\n",
       "      <td>205055.882353</td>\n",
       "      <td>181073.785225</td>\n",
       "      <td>176923.341336</td>\n",
       "      <td>179949.742534</td>\n",
       "      <td>186277.673077</td>\n",
       "      <td>184202.50044</td>\n",
       "      <td>181114.067536</td>\n",
       "      <td>185740.182894</td>\n",
       "      <td>176486.047546</td>\n",
       "      <td>208414.329825</td>\n",
       "      <td>203106.269126</td>\n",
       "      <td>9</td>\n",
       "      <td>9</td>\n",
       "      <td>171319.443683</td>\n",
       "      <td>179722.971296</td>\n",
       "      <td>215247.326134</td>\n",
       "      <td>216064.221239</td>\n",
       "      <td>155917.553571</td>\n",
       "      <td>163654.383041</td>\n",
       "      <td>231040.800000</td>\n",
       "      <td>184094.602253</td>\n",
       "      <td>225871.299130</td>\n",
       "      <td>203881.873188</td>\n",
       "      <td>183805.015293</td>\n",
       "      <td>263518.033333</td>\n",
       "      <td>236866.435484</td>\n",
       "      <td>303758.906780</td>\n",
       "      <td>184463.10168</td>\n",
       "      <td>182044.330197</td>\n",
       "      <td>184535.337349</td>\n",
       "      <td>276886.258772</td>\n",
       "      <td>182115.031931</td>\n",
       "      <td>215075.475976</td>\n",
       "      <td>186569.561275</td>\n",
       "      <td>187320.733445</td>\n",
       "      <td>259723.935154</td>\n",
       "      <td>172078.614815</td>\n",
       "      <td>180816.740289</td>\n",
       "      <td>228402.298742</td>\n",
       "      <td>203574.293893</td>\n",
       "      <td>181297.887994</td>\n",
       "      <td>212795.308696</td>\n",
       "      <td>162838.57265</td>\n",
       "      <td>181029.186111</td>\n",
       "      <td>183542.560606</td>\n",
       "      <td>213391.308429</td>\n",
       "      <td>141752.929461</td>\n",
       "      <td>183618.068684</td>\n",
       "      <td>212674.463918</td>\n",
       "      <td>208760.500000</td>\n",
       "      <td>202501.549872</td>\n",
       "      <td>9.0</td>\n",
       "      <td>202789.618799</td>\n",
       "      <td>184038.209459</td>\n",
       "      <td>157729.877193</td>\n",
       "      <td>187768.181664</td>\n",
       "      <td>188346.234454</td>\n",
       "      <td>186926.069109</td>\n",
       "      <td>221973.968750</td>\n",
       "      <td>166268.000000</td>\n",
       "      <td>187252.10559</td>\n",
       "      <td>180574.090417</td>\n",
       "      <td>178797.429397</td>\n",
       "      <td>180898.631498</td>\n",
       "      <td>180898.631498</td>\n",
       "      <td>187715.285981</td>\n",
       "      <td>182136.371338</td>\n",
       "      <td>182097.497627</td>\n",
       "      <td>185207.736364</td>\n",
       "      <td>173346.078671</td>\n",
       "      <td>175368.825368</td>\n",
       "      <td>215000</td>\n",
       "      <td>1</td>\n",
       "      <td>0</td>\n",
       "    </tr>\n",
       "    <tr>\n",
       "      <th>55</th>\n",
       "      <td>56</td>\n",
       "      <td>185843.232218</td>\n",
       "      <td>191356.98166</td>\n",
       "      <td>236725.29249</td>\n",
       "      <td>158953.135556</td>\n",
       "      <td>181219.432391</td>\n",
       "      <td>183647.568532</td>\n",
       "      <td>204901.363636</td>\n",
       "      <td>180454.298052</td>\n",
       "      <td>181073.785225</td>\n",
       "      <td>176923.341336</td>\n",
       "      <td>179949.742534</td>\n",
       "      <td>146653.696517</td>\n",
       "      <td>184202.50044</td>\n",
       "      <td>181114.067536</td>\n",
       "      <td>185740.182894</td>\n",
       "      <td>176486.047546</td>\n",
       "      <td>161073.247024</td>\n",
       "      <td>203106.269126</td>\n",
       "      <td>44</td>\n",
       "      <td>44</td>\n",
       "      <td>171319.443683</td>\n",
       "      <td>179722.971296</td>\n",
       "      <td>161838.040609</td>\n",
       "      <td>168534.169118</td>\n",
       "      <td>205447.897436</td>\n",
       "      <td>242979.107639</td>\n",
       "      <td>144503.578624</td>\n",
       "      <td>184094.602253</td>\n",
       "      <td>150529.160558</td>\n",
       "      <td>141171.125637</td>\n",
       "      <td>183805.015293</td>\n",
       "      <td>166205.981395</td>\n",
       "      <td>149726.007407</td>\n",
       "      <td>168932.967391</td>\n",
       "      <td>184463.10168</td>\n",
       "      <td>182044.330197</td>\n",
       "      <td>165782.797872</td>\n",
       "      <td>160918.336096</td>\n",
       "      <td>182115.031931</td>\n",
       "      <td>156509.321429</td>\n",
       "      <td>186569.561275</td>\n",
       "      <td>187320.733445</td>\n",
       "      <td>158460.594515</td>\n",
       "      <td>172078.614815</td>\n",
       "      <td>180816.740289</td>\n",
       "      <td>136612.858407</td>\n",
       "      <td>165147.890464</td>\n",
       "      <td>181297.887994</td>\n",
       "      <td>212795.308696</td>\n",
       "      <td>162838.57265</td>\n",
       "      <td>181029.186111</td>\n",
       "      <td>183542.560606</td>\n",
       "      <td>140142.552711</td>\n",
       "      <td>195928.690789</td>\n",
       "      <td>183618.068684</td>\n",
       "      <td>212674.463918</td>\n",
       "      <td>228513.814159</td>\n",
       "      <td>202501.549872</td>\n",
       "      <td>44.0</td>\n",
       "      <td>202789.618799</td>\n",
       "      <td>184038.209459</td>\n",
       "      <td>157729.877193</td>\n",
       "      <td>187768.181664</td>\n",
       "      <td>188346.234454</td>\n",
       "      <td>186926.069109</td>\n",
       "      <td>158535.130246</td>\n",
       "      <td>144431.555366</td>\n",
       "      <td>187252.10559</td>\n",
       "      <td>249923.400000</td>\n",
       "      <td>178797.429397</td>\n",
       "      <td>180898.631498</td>\n",
       "      <td>180898.631498</td>\n",
       "      <td>187715.285981</td>\n",
       "      <td>182136.371338</td>\n",
       "      <td>182097.497627</td>\n",
       "      <td>184207.900000</td>\n",
       "      <td>173346.078671</td>\n",
       "      <td>175368.825368</td>\n",
       "      <td>180500</td>\n",
       "      <td>0</td>\n",
       "      <td>0</td>\n",
       "    </tr>\n",
       "  </tbody>\n",
       "</table>\n",
       "</div>"
      ],
      "text/plain": [
       "        Id     MSSubClass      MSZoning   LotFrontage        LotArea  \\\n",
       "930    931  185843.232218  191356.98166  167762.37606  158953.135556   \n",
       "656    657  185843.232218  191356.98166  167762.37606  158953.135556   \n",
       "45      46  200763.148148  191356.98166  167762.37606  158953.135556   \n",
       "1348  1349  185843.232218  191356.98166  167762.37606  229056.903382   \n",
       "55      56  185843.232218  191356.98166  236725.29249  158953.135556   \n",
       "\n",
       "             Street          Alley       LotShape    LandContour  \\\n",
       "930   181219.432391  183647.568532  204901.363636  229102.255814   \n",
       "656   181219.432391  183647.568532  204901.363636  180454.298052   \n",
       "45    181219.432391  183647.568532  164928.283474  180454.298052   \n",
       "1348  181219.432391  183647.568532  244560.733333  205055.882353   \n",
       "55    181219.432391  183647.568532  204901.363636  180454.298052   \n",
       "\n",
       "          Utilities      LotConfig      LandSlope   Neighborhood  \\\n",
       "930   181073.785225  176923.341336  179949.742534  203489.946939   \n",
       "656   181073.785225  176923.341336  179949.742534  146653.696517   \n",
       "45    181073.785225  176923.341336  179949.742534  315191.901408   \n",
       "1348  181073.785225  176923.341336  179949.742534  186277.673077   \n",
       "55    181073.785225  176923.341336  179949.742534  146653.696517   \n",
       "\n",
       "        Condition1     Condition2       BldgType     HouseStyle  \\\n",
       "930   184202.50044  181114.067536  185740.182894  176486.047546   \n",
       "656   184202.50044  181114.067536  185740.182894  176486.047546   \n",
       "45    184202.50044  181114.067536  182123.300971  176486.047546   \n",
       "1348  184202.50044  181114.067536  185740.182894  176486.047546   \n",
       "55    184202.50044  181114.067536  185740.182894  176486.047546   \n",
       "\n",
       "        OverallQual    OverallCond  YearBuilt  YearRemodAdd      RoofStyle  \\\n",
       "930   273483.000000  203106.269126          2             2  171319.443683   \n",
       "656   133745.805634  159751.766304         49             2  171319.443683   \n",
       "45    294348.576923  203106.269126          5             5  219039.383142   \n",
       "1348  208414.329825  203106.269126          9             9  171319.443683   \n",
       "55    161073.247024  203106.269126         44            44  171319.443683   \n",
       "\n",
       "           RoofMatl    Exterior1st    Exterior2nd     MasVnrType  \\\n",
       "930   179722.971296  215247.326134  216064.221239  155917.553571   \n",
       "656   179722.971296  161838.040609  166403.519126  205447.897436   \n",
       "45    179722.971296  148333.844920  148397.961538  205447.897436   \n",
       "1348  179722.971296  215247.326134  216064.221239  155917.553571   \n",
       "55    179722.971296  161838.040609  168534.169118  205447.897436   \n",
       "\n",
       "         MasVnrArea      ExterQual      ExterCond     Foundation  \\\n",
       "930   163654.383041  231040.800000  184094.602253  225871.299130   \n",
       "656   163654.383041  231040.800000  184094.602253  150529.160558   \n",
       "45    242979.107639  371951.531915  184094.602253  225871.299130   \n",
       "1348  163654.383041  231040.800000  184094.602253  225871.299130   \n",
       "55    242979.107639  144503.578624  184094.602253  150529.160558   \n",
       "\n",
       "           BsmtQual       BsmtCond   BsmtExposure   BsmtFinType1  \\\n",
       "930   203881.873188  183805.015293  203036.095960  236866.435484   \n",
       "656   141171.125637  183805.015293  166205.981395  161723.106061   \n",
       "45    327072.598131  183805.015293  166205.981395  236866.435484   \n",
       "1348  203881.873188  183805.015293  263518.033333  236866.435484   \n",
       "55    141171.125637  183805.015293  166205.981395  149726.007407   \n",
       "\n",
       "         BsmtFinSF1  BsmtFinType2     BsmtFinSF2      BsmtUnfSF  \\\n",
       "930   168932.967391  184463.10168  182044.330197  223591.230769   \n",
       "656   168932.967391  184463.10168  182044.330197  184535.337349   \n",
       "45    168932.967391  184463.10168  182044.330197  223591.230769   \n",
       "1348  303758.906780  184463.10168  182044.330197  184535.337349   \n",
       "55    168932.967391  184463.10168  182044.330197  165782.797872   \n",
       "\n",
       "        TotalBsmtSF        Heating      HeatingQC     CentralAir  \\\n",
       "930   276886.258772  182115.031931  215075.475976  186569.561275   \n",
       "656   160918.336096  182115.031931  215075.475976  186569.561275   \n",
       "45    276886.258772  182115.031931  215075.475976  186569.561275   \n",
       "1348  276886.258772  182115.031931  215075.475976  186569.561275   \n",
       "55    160918.336096  182115.031931  156509.321429  186569.561275   \n",
       "\n",
       "         Electrical       1stFlrSF       2ndFlrSF   LowQualFinSF  \\\n",
       "930   187320.733445  259723.935154  172078.614815  180816.740289   \n",
       "656   187320.733445  158460.594515  172078.614815  180816.740289   \n",
       "45    187320.733445  259723.935154  172078.614815  180816.740289   \n",
       "1348  187320.733445  259723.935154  172078.614815  180816.740289   \n",
       "55    187320.733445  158460.594515  172078.614815  180816.740289   \n",
       "\n",
       "          GrLivArea   BsmtFullBath   BsmtHalfBath       FullBath  \\\n",
       "930   136612.858407  165147.890464  181297.887994  212795.308696   \n",
       "656   136612.858407  203574.293893  181297.887994  135514.882453   \n",
       "45    228402.298742  203574.293893  181297.887994  212795.308696   \n",
       "1348  228402.298742  203574.293893  181297.887994  212795.308696   \n",
       "55    136612.858407  165147.890464  181297.887994  212795.308696   \n",
       "\n",
       "          HalfBath   BedroomAbvGr   KitchenAbvGr    KitchenQual  \\\n",
       "930   162838.57265  181029.186111  183542.560606  213391.308429   \n",
       "656   212163.63843  181029.186111  183542.560606  213391.308429   \n",
       "45    162838.57265  158790.238390  183542.560606  324619.989011   \n",
       "1348  162838.57265  181029.186111  183542.560606  213391.308429   \n",
       "55    162838.57265  181029.186111  183542.560606  140142.552711   \n",
       "\n",
       "       TotRmsAbvGrd     Functional     Fireplaces    FireplaceQu  \\\n",
       "930   195928.690789  183618.068684  141047.961353  141047.961353   \n",
       "656   141752.929461  183618.068684  141047.961353  141047.961353   \n",
       "45    161003.847645  183618.068684  212674.463918  228513.814159   \n",
       "1348  141752.929461  183618.068684  212674.463918  208760.500000   \n",
       "55    195928.690789  183618.068684  212674.463918  228513.814159   \n",
       "\n",
       "         GarageType  GarageYrBlt   GarageFinish     GarageCars     GarageArea  \\\n",
       "930   202501.549872          2.0  239303.034810  309977.853659  264085.159722   \n",
       "656   202501.549872         49.0  202789.618799  128360.834835  157729.877193   \n",
       "45    202501.549872          5.0  202789.618799  184038.209459  157729.877193   \n",
       "1348  202501.549872          9.0  202789.618799  184038.209459  157729.877193   \n",
       "55    202501.549872         44.0  202789.618799  184038.209459  157729.877193   \n",
       "\n",
       "         GarageQual     GarageCond     PavedDrive     WoodDeckSF  \\\n",
       "930   187768.181664  188346.234454  186926.069109  185741.375000   \n",
       "656   187768.181664  188346.234454  186926.069109  158535.130246   \n",
       "45    187768.181664  188346.234454  186926.069109  221973.968750   \n",
       "1348  187768.181664  188346.234454  186926.069109  221973.968750   \n",
       "55    187768.181664  188346.234454  186926.069109  158535.130246   \n",
       "\n",
       "        OpenPorchSF  EnclosedPorch      3SsnPorch    ScreenPorch  \\\n",
       "930   176651.410256   187252.10559  180574.090417  178797.429397   \n",
       "656   144431.555366   187252.10559  180574.090417  178797.429397   \n",
       "45    222076.920408   187252.10559  180574.090417  178797.429397   \n",
       "1348  166268.000000   187252.10559  180574.090417  178797.429397   \n",
       "55    144431.555366   187252.10559  249923.400000  178797.429397   \n",
       "\n",
       "           PoolArea         PoolQC          Fence    MiscFeature  \\\n",
       "930   180898.631498  180898.631498  187715.285981  182136.371338   \n",
       "656   180898.631498  180898.631498  145283.748092  182136.371338   \n",
       "45    180898.631498  180898.631498  187715.285981  182136.371338   \n",
       "1348  180898.631498  180898.631498  187715.285981  182136.371338   \n",
       "55    180898.631498  180898.631498  187715.285981  182136.371338   \n",
       "\n",
       "            MiscVal         MoSold       SaleType  SaleCondition  SalePrice  \\\n",
       "930   182097.497627  184207.900000  173346.078671  175368.825368     201000   \n",
       "656   182097.497627  185207.736364  173346.078671  175368.825368     145500   \n",
       "45    182097.497627  178312.000000  173346.078671  175368.825368     319900   \n",
       "1348  182097.497627  185207.736364  173346.078671  175368.825368     215000   \n",
       "55    182097.497627  184207.900000  173346.078671  175368.825368     180500   \n",
       "\n",
       "      LotFrontage_NA  GarageYrBlt_NA  \n",
       "930                0               0  \n",
       "656                0               0  \n",
       "45                 0               0  \n",
       "1348               1               0  \n",
       "55                 0               0  "
      ]
     },
     "execution_count": 46,
     "metadata": {},
     "output_type": "execute_result"
    }
   ],
   "source": [
    "#let's inspect the dataset\n",
    "X_train.head()"
   ]
  },
  {
   "cell_type": "markdown",
   "metadata": {},
   "source": [
    "We can see that the labels have now been replaced by the mean house price.\n",
    "\n",
    "### Feature scaling (section 13)"
   ]
  },
  {
   "cell_type": "code",
   "execution_count": 47,
   "metadata": {},
   "outputs": [
    {
     "data": {
      "text/html": [
       "<div>\n",
       "<style scoped>\n",
       "    .dataframe tbody tr th:only-of-type {\n",
       "        vertical-align: middle;\n",
       "    }\n",
       "\n",
       "    .dataframe tbody tr th {\n",
       "        vertical-align: top;\n",
       "    }\n",
       "\n",
       "    .dataframe thead th {\n",
       "        text-align: right;\n",
       "    }\n",
       "</style>\n",
       "<table border=\"1\" class=\"dataframe\">\n",
       "  <thead>\n",
       "    <tr style=\"text-align: right;\">\n",
       "      <th></th>\n",
       "      <th>Id</th>\n",
       "      <th>MSSubClass</th>\n",
       "      <th>MSZoning</th>\n",
       "      <th>LotFrontage</th>\n",
       "      <th>LotArea</th>\n",
       "      <th>Street</th>\n",
       "      <th>Alley</th>\n",
       "      <th>LotShape</th>\n",
       "      <th>LandContour</th>\n",
       "      <th>Utilities</th>\n",
       "      <th>LotConfig</th>\n",
       "      <th>LandSlope</th>\n",
       "      <th>Neighborhood</th>\n",
       "      <th>Condition1</th>\n",
       "      <th>Condition2</th>\n",
       "      <th>BldgType</th>\n",
       "      <th>HouseStyle</th>\n",
       "      <th>OverallQual</th>\n",
       "      <th>OverallCond</th>\n",
       "      <th>YearBuilt</th>\n",
       "      <th>YearRemodAdd</th>\n",
       "      <th>RoofStyle</th>\n",
       "      <th>RoofMatl</th>\n",
       "      <th>Exterior1st</th>\n",
       "      <th>Exterior2nd</th>\n",
       "      <th>MasVnrType</th>\n",
       "      <th>MasVnrArea</th>\n",
       "      <th>ExterQual</th>\n",
       "      <th>ExterCond</th>\n",
       "      <th>Foundation</th>\n",
       "      <th>BsmtQual</th>\n",
       "      <th>BsmtCond</th>\n",
       "      <th>BsmtExposure</th>\n",
       "      <th>BsmtFinType1</th>\n",
       "      <th>BsmtFinSF1</th>\n",
       "      <th>BsmtFinType2</th>\n",
       "      <th>BsmtFinSF2</th>\n",
       "      <th>BsmtUnfSF</th>\n",
       "      <th>TotalBsmtSF</th>\n",
       "      <th>Heating</th>\n",
       "      <th>HeatingQC</th>\n",
       "      <th>CentralAir</th>\n",
       "      <th>Electrical</th>\n",
       "      <th>1stFlrSF</th>\n",
       "      <th>2ndFlrSF</th>\n",
       "      <th>LowQualFinSF</th>\n",
       "      <th>GrLivArea</th>\n",
       "      <th>BsmtFullBath</th>\n",
       "      <th>BsmtHalfBath</th>\n",
       "      <th>FullBath</th>\n",
       "      <th>HalfBath</th>\n",
       "      <th>BedroomAbvGr</th>\n",
       "      <th>KitchenAbvGr</th>\n",
       "      <th>KitchenQual</th>\n",
       "      <th>TotRmsAbvGrd</th>\n",
       "      <th>Functional</th>\n",
       "      <th>Fireplaces</th>\n",
       "      <th>FireplaceQu</th>\n",
       "      <th>GarageType</th>\n",
       "      <th>GarageYrBlt</th>\n",
       "      <th>GarageFinish</th>\n",
       "      <th>GarageCars</th>\n",
       "      <th>GarageArea</th>\n",
       "      <th>GarageQual</th>\n",
       "      <th>GarageCond</th>\n",
       "      <th>PavedDrive</th>\n",
       "      <th>WoodDeckSF</th>\n",
       "      <th>OpenPorchSF</th>\n",
       "      <th>EnclosedPorch</th>\n",
       "      <th>3SsnPorch</th>\n",
       "      <th>ScreenPorch</th>\n",
       "      <th>PoolArea</th>\n",
       "      <th>PoolQC</th>\n",
       "      <th>Fence</th>\n",
       "      <th>MiscFeature</th>\n",
       "      <th>MiscVal</th>\n",
       "      <th>MoSold</th>\n",
       "      <th>SaleType</th>\n",
       "      <th>SaleCondition</th>\n",
       "      <th>SalePrice</th>\n",
       "      <th>LotFrontage_NA</th>\n",
       "      <th>GarageYrBlt_NA</th>\n",
       "    </tr>\n",
       "  </thead>\n",
       "  <tbody>\n",
       "    <tr>\n",
       "      <th>count</th>\n",
       "      <td>1314.000000</td>\n",
       "      <td>1314.000000</td>\n",
       "      <td>1314.000000</td>\n",
       "      <td>1314.000000</td>\n",
       "      <td>1314.000000</td>\n",
       "      <td>1314.000000</td>\n",
       "      <td>1314.000000</td>\n",
       "      <td>1314.000000</td>\n",
       "      <td>1314.000000</td>\n",
       "      <td>1314.000000</td>\n",
       "      <td>1314.000000</td>\n",
       "      <td>1314.000000</td>\n",
       "      <td>1314.000000</td>\n",
       "      <td>1314.000000</td>\n",
       "      <td>1314.000000</td>\n",
       "      <td>1314.000000</td>\n",
       "      <td>1314.000000</td>\n",
       "      <td>1314.000000</td>\n",
       "      <td>1314.000000</td>\n",
       "      <td>1314.000000</td>\n",
       "      <td>1314.000000</td>\n",
       "      <td>1314.000000</td>\n",
       "      <td>1314.000000</td>\n",
       "      <td>1314.000000</td>\n",
       "      <td>1314.000000</td>\n",
       "      <td>1314.000000</td>\n",
       "      <td>1314.000000</td>\n",
       "      <td>1314.000000</td>\n",
       "      <td>1314.000000</td>\n",
       "      <td>1314.000000</td>\n",
       "      <td>1314.000000</td>\n",
       "      <td>1314.000000</td>\n",
       "      <td>1314.000000</td>\n",
       "      <td>1314.000000</td>\n",
       "      <td>1314.000000</td>\n",
       "      <td>1314.000000</td>\n",
       "      <td>1314.000000</td>\n",
       "      <td>1314.000000</td>\n",
       "      <td>1314.000000</td>\n",
       "      <td>1314.000000</td>\n",
       "      <td>1314.000000</td>\n",
       "      <td>1314.000000</td>\n",
       "      <td>1314.000000</td>\n",
       "      <td>1314.000000</td>\n",
       "      <td>1314.000000</td>\n",
       "      <td>1314.000000</td>\n",
       "      <td>1314.000000</td>\n",
       "      <td>1314.000000</td>\n",
       "      <td>1314.000000</td>\n",
       "      <td>1314.000000</td>\n",
       "      <td>1314.000000</td>\n",
       "      <td>1314.000000</td>\n",
       "      <td>1314.000000</td>\n",
       "      <td>1314.000000</td>\n",
       "      <td>1314.000000</td>\n",
       "      <td>1314.000000</td>\n",
       "      <td>1314.000000</td>\n",
       "      <td>1314.000000</td>\n",
       "      <td>1314.000000</td>\n",
       "      <td>1314.000000</td>\n",
       "      <td>1314.000000</td>\n",
       "      <td>1314.000000</td>\n",
       "      <td>1314.000000</td>\n",
       "      <td>1314.000000</td>\n",
       "      <td>1314.000000</td>\n",
       "      <td>1314.000000</td>\n",
       "      <td>1314.000000</td>\n",
       "      <td>1314.000000</td>\n",
       "      <td>1314.000000</td>\n",
       "      <td>1314.000000</td>\n",
       "      <td>1314.000000</td>\n",
       "      <td>1314.000000</td>\n",
       "      <td>1314.000000</td>\n",
       "      <td>1314.000000</td>\n",
       "      <td>1314.000000</td>\n",
       "      <td>1314.000000</td>\n",
       "      <td>1314.000000</td>\n",
       "      <td>1314.000000</td>\n",
       "      <td>1314.000000</td>\n",
       "      <td>1314.000000</td>\n",
       "      <td>1314.000000</td>\n",
       "      <td>1314.000000</td>\n",
       "    </tr>\n",
       "    <tr>\n",
       "      <th>mean</th>\n",
       "      <td>736.230594</td>\n",
       "      <td>181040.624049</td>\n",
       "      <td>181040.624049</td>\n",
       "      <td>181040.624049</td>\n",
       "      <td>181040.624049</td>\n",
       "      <td>181040.624049</td>\n",
       "      <td>181040.624049</td>\n",
       "      <td>181040.624049</td>\n",
       "      <td>181040.624049</td>\n",
       "      <td>181040.624049</td>\n",
       "      <td>181040.624049</td>\n",
       "      <td>181040.624049</td>\n",
       "      <td>181040.624049</td>\n",
       "      <td>181040.624049</td>\n",
       "      <td>181040.624049</td>\n",
       "      <td>181040.624049</td>\n",
       "      <td>181040.624049</td>\n",
       "      <td>181040.624049</td>\n",
       "      <td>181040.624049</td>\n",
       "      <td>36.874429</td>\n",
       "      <td>23.031202</td>\n",
       "      <td>181040.624049</td>\n",
       "      <td>181040.624049</td>\n",
       "      <td>181040.624049</td>\n",
       "      <td>181040.624049</td>\n",
       "      <td>181040.624049</td>\n",
       "      <td>181040.624049</td>\n",
       "      <td>181040.624049</td>\n",
       "      <td>181040.624049</td>\n",
       "      <td>181040.624049</td>\n",
       "      <td>181040.624049</td>\n",
       "      <td>181040.624049</td>\n",
       "      <td>181040.624049</td>\n",
       "      <td>181040.624049</td>\n",
       "      <td>181040.624049</td>\n",
       "      <td>181040.624049</td>\n",
       "      <td>181040.624049</td>\n",
       "      <td>181040.624049</td>\n",
       "      <td>181040.624049</td>\n",
       "      <td>181040.624049</td>\n",
       "      <td>181040.624049</td>\n",
       "      <td>181040.624049</td>\n",
       "      <td>181040.624049</td>\n",
       "      <td>181040.624049</td>\n",
       "      <td>181040.624049</td>\n",
       "      <td>181040.624049</td>\n",
       "      <td>181040.624049</td>\n",
       "      <td>181040.624049</td>\n",
       "      <td>181040.624049</td>\n",
       "      <td>181040.624049</td>\n",
       "      <td>181040.624049</td>\n",
       "      <td>181040.624049</td>\n",
       "      <td>181040.624049</td>\n",
       "      <td>181040.624049</td>\n",
       "      <td>181040.624049</td>\n",
       "      <td>181040.624049</td>\n",
       "      <td>181040.624049</td>\n",
       "      <td>181040.624049</td>\n",
       "      <td>181040.624049</td>\n",
       "      <td>29.426180</td>\n",
       "      <td>181040.624049</td>\n",
       "      <td>181040.624049</td>\n",
       "      <td>181040.624049</td>\n",
       "      <td>181040.624049</td>\n",
       "      <td>181040.624049</td>\n",
       "      <td>181040.624049</td>\n",
       "      <td>181040.624049</td>\n",
       "      <td>181040.624049</td>\n",
       "      <td>181040.624049</td>\n",
       "      <td>181040.624049</td>\n",
       "      <td>181040.624049</td>\n",
       "      <td>181040.624049</td>\n",
       "      <td>181040.624049</td>\n",
       "      <td>181040.624049</td>\n",
       "      <td>181040.624049</td>\n",
       "      <td>181040.624049</td>\n",
       "      <td>181040.624049</td>\n",
       "      <td>181040.624049</td>\n",
       "      <td>181040.624049</td>\n",
       "      <td>181040.624049</td>\n",
       "      <td>0.177321</td>\n",
       "      <td>0.056317</td>\n",
       "    </tr>\n",
       "    <tr>\n",
       "      <th>std</th>\n",
       "      <td>422.410752</td>\n",
       "      <td>38808.314261</td>\n",
       "      <td>26199.490720</td>\n",
       "      <td>27202.168491</td>\n",
       "      <td>32578.624196</td>\n",
       "      <td>2894.262502</td>\n",
       "      <td>11596.886609</td>\n",
       "      <td>22203.246215</td>\n",
       "      <td>12496.527972</td>\n",
       "      <td>1202.064041</td>\n",
       "      <td>12252.421306</td>\n",
       "      <td>4473.563558</td>\n",
       "      <td>46324.135172</td>\n",
       "      <td>12378.889534</td>\n",
       "      <td>799.639940</td>\n",
       "      <td>14443.396437</td>\n",
       "      <td>22118.086370</td>\n",
       "      <td>55373.367775</td>\n",
       "      <td>25689.624796</td>\n",
       "      <td>30.424945</td>\n",
       "      <td>20.674420</td>\n",
       "      <td>18987.049945</td>\n",
       "      <td>9465.046408</td>\n",
       "      <td>31222.482231</td>\n",
       "      <td>29849.145703</td>\n",
       "      <td>34692.124836</td>\n",
       "      <td>32828.304387</td>\n",
       "      <td>55307.593633</td>\n",
       "      <td>11738.300408</td>\n",
       "      <td>40048.407098</td>\n",
       "      <td>54135.969770</td>\n",
       "      <td>18564.012040</td>\n",
       "      <td>31474.766214</td>\n",
       "      <td>37025.161496</td>\n",
       "      <td>38561.152257</td>\n",
       "      <td>8936.859617</td>\n",
       "      <td>12458.876505</td>\n",
       "      <td>26757.025792</td>\n",
       "      <td>43932.929977</td>\n",
       "      <td>7031.636148</td>\n",
       "      <td>35121.370816</td>\n",
       "      <td>20397.476096</td>\n",
       "      <td>19824.089401</td>\n",
       "      <td>42166.629312</td>\n",
       "      <td>31408.069863</td>\n",
       "      <td>8115.593269</td>\n",
       "      <td>45888.734488</td>\n",
       "      <td>19155.180393</td>\n",
       "      <td>1231.986901</td>\n",
       "      <td>43969.360794</td>\n",
       "      <td>23778.354096</td>\n",
       "      <td>18218.274540</td>\n",
       "      <td>11460.774121</td>\n",
       "      <td>53401.249548</td>\n",
       "      <td>39020.198392</td>\n",
       "      <td>9452.511123</td>\n",
       "      <td>38521.652511</td>\n",
       "      <td>38773.307482</td>\n",
       "      <td>39521.671622</td>\n",
       "      <td>24.168823</td>\n",
       "      <td>43879.853129</td>\n",
       "      <td>56100.658727</td>\n",
       "      <td>44014.821429</td>\n",
       "      <td>22988.130523</td>\n",
       "      <td>22934.186102</td>\n",
       "      <td>19330.485641</td>\n",
       "      <td>32056.720234</td>\n",
       "      <td>37326.620936</td>\n",
       "      <td>19655.245498</td>\n",
       "      <td>7426.510849</td>\n",
       "      <td>14425.004989</td>\n",
       "      <td>2097.293089</td>\n",
       "      <td>2097.293089</td>\n",
       "      <td>15505.675991</td>\n",
       "      <td>5456.509673</td>\n",
       "      <td>6464.119661</td>\n",
       "      <td>6799.785827</td>\n",
       "      <td>29337.716048</td>\n",
       "      <td>30218.520557</td>\n",
       "      <td>79048.006112</td>\n",
       "      <td>0.382086</td>\n",
       "      <td>0.230620</td>\n",
       "    </tr>\n",
       "    <tr>\n",
       "      <th>min</th>\n",
       "      <td>1.000000</td>\n",
       "      <td>95695.328125</td>\n",
       "      <td>109623.615385</td>\n",
       "      <td>167762.376060</td>\n",
       "      <td>158953.135556</td>\n",
       "      <td>134228.600000</td>\n",
       "      <td>121321.200000</td>\n",
       "      <td>164928.283474</td>\n",
       "      <td>141920.660714</td>\n",
       "      <td>137500.000000</td>\n",
       "      <td>176723.837209</td>\n",
       "      <td>179949.742534</td>\n",
       "      <td>123620.113636</td>\n",
       "      <td>135882.500000</td>\n",
       "      <td>172340.909091</td>\n",
       "      <td>129857.142857</td>\n",
       "      <td>143097.007092</td>\n",
       "      <td>108330.644231</td>\n",
       "      <td>121000.627451</td>\n",
       "      <td>0.000000</td>\n",
       "      <td>-1.000000</td>\n",
       "      <td>171319.443683</td>\n",
       "      <td>179722.971296</td>\n",
       "      <td>145220.323944</td>\n",
       "      <td>148186.092896</td>\n",
       "      <td>155917.553571</td>\n",
       "      <td>163654.383041</td>\n",
       "      <td>86291.769231</td>\n",
       "      <td>108955.466667</td>\n",
       "      <td>122864.724138</td>\n",
       "      <td>109060.984848</td>\n",
       "      <td>100258.941176</td>\n",
       "      <td>105251.636364</td>\n",
       "      <td>102525.125000</td>\n",
       "      <td>168932.967391</td>\n",
       "      <td>152873.228261</td>\n",
       "      <td>132849.055556</td>\n",
       "      <td>84500.000000</td>\n",
       "      <td>160918.336096</td>\n",
       "      <td>135055.966667</td>\n",
       "      <td>87000.000000</td>\n",
       "      <td>105847.077778</td>\n",
       "      <td>108120.548387</td>\n",
       "      <td>158460.594515</td>\n",
       "      <td>172078.614815</td>\n",
       "      <td>180816.740289</td>\n",
       "      <td>136612.858407</td>\n",
       "      <td>165147.890464</td>\n",
       "      <td>160850.500000</td>\n",
       "      <td>135514.882453</td>\n",
       "      <td>162838.572650</td>\n",
       "      <td>158790.238390</td>\n",
       "      <td>115500.000000</td>\n",
       "      <td>105460.621622</td>\n",
       "      <td>123305.635294</td>\n",
       "      <td>146400.901099</td>\n",
       "      <td>141047.961353</td>\n",
       "      <td>141047.961353</td>\n",
       "      <td>101143.243243</td>\n",
       "      <td>0.000000</td>\n",
       "      <td>101143.243243</td>\n",
       "      <td>101143.243243</td>\n",
       "      <td>157729.877193</td>\n",
       "      <td>101143.243243</td>\n",
       "      <td>101143.243243</td>\n",
       "      <td>114329.784091</td>\n",
       "      <td>105080.000000</td>\n",
       "      <td>79000.000000</td>\n",
       "      <td>94082.947368</td>\n",
       "      <td>135000.000000</td>\n",
       "      <td>157273.913043</td>\n",
       "      <td>180898.631498</td>\n",
       "      <td>180898.631498</td>\n",
       "      <td>135415.000000</td>\n",
       "      <td>153687.891304</td>\n",
       "      <td>55993.000000</td>\n",
       "      <td>171991.093750</td>\n",
       "      <td>153982.709677</td>\n",
       "      <td>141974.306818</td>\n",
       "      <td>34900.000000</td>\n",
       "      <td>0.000000</td>\n",
       "      <td>0.000000</td>\n",
       "    </tr>\n",
       "    <tr>\n",
       "      <th>25%</th>\n",
       "      <td>371.250000</td>\n",
       "      <td>143122.939394</td>\n",
       "      <td>191356.981660</td>\n",
       "      <td>167762.376060</td>\n",
       "      <td>158953.135556</td>\n",
       "      <td>181219.432391</td>\n",
       "      <td>183647.568532</td>\n",
       "      <td>164928.283474</td>\n",
       "      <td>180454.298052</td>\n",
       "      <td>181073.785225</td>\n",
       "      <td>176923.341336</td>\n",
       "      <td>179949.742534</td>\n",
       "      <td>146653.696517</td>\n",
       "      <td>184202.500440</td>\n",
       "      <td>181114.067536</td>\n",
       "      <td>185740.182894</td>\n",
       "      <td>176486.047546</td>\n",
       "      <td>133745.805634</td>\n",
       "      <td>154307.645022</td>\n",
       "      <td>8.000000</td>\n",
       "      <td>4.000000</td>\n",
       "      <td>171319.443683</td>\n",
       "      <td>179722.971296</td>\n",
       "      <td>148333.844920</td>\n",
       "      <td>148397.961538</td>\n",
       "      <td>155917.553571</td>\n",
       "      <td>163654.383041</td>\n",
       "      <td>144503.578624</td>\n",
       "      <td>184094.602253</td>\n",
       "      <td>150529.160558</td>\n",
       "      <td>141171.125637</td>\n",
       "      <td>183805.015293</td>\n",
       "      <td>166205.981395</td>\n",
       "      <td>154168.750000</td>\n",
       "      <td>168932.967391</td>\n",
       "      <td>184463.101680</td>\n",
       "      <td>182044.330197</td>\n",
       "      <td>165782.797872</td>\n",
       "      <td>160918.336096</td>\n",
       "      <td>182115.031931</td>\n",
       "      <td>142719.246032</td>\n",
       "      <td>186569.561275</td>\n",
       "      <td>187320.733445</td>\n",
       "      <td>158460.594515</td>\n",
       "      <td>172078.614815</td>\n",
       "      <td>180816.740289</td>\n",
       "      <td>136612.858407</td>\n",
       "      <td>165147.890464</td>\n",
       "      <td>181297.887994</td>\n",
       "      <td>135514.882453</td>\n",
       "      <td>162838.572650</td>\n",
       "      <td>175787.413043</td>\n",
       "      <td>183542.560606</td>\n",
       "      <td>140142.552711</td>\n",
       "      <td>161003.847645</td>\n",
       "      <td>183618.068684</td>\n",
       "      <td>141047.961353</td>\n",
       "      <td>141047.961353</td>\n",
       "      <td>134890.670520</td>\n",
       "      <td>7.000000</td>\n",
       "      <td>142540.844732</td>\n",
       "      <td>128360.834835</td>\n",
       "      <td>157729.877193</td>\n",
       "      <td>187768.181664</td>\n",
       "      <td>188346.234454</td>\n",
       "      <td>186926.069109</td>\n",
       "      <td>158535.130246</td>\n",
       "      <td>144431.555366</td>\n",
       "      <td>187252.105590</td>\n",
       "      <td>180574.090417</td>\n",
       "      <td>178797.429397</td>\n",
       "      <td>180898.631498</td>\n",
       "      <td>180898.631498</td>\n",
       "      <td>187715.285981</td>\n",
       "      <td>182136.371338</td>\n",
       "      <td>182097.497627</td>\n",
       "      <td>178312.000000</td>\n",
       "      <td>173346.078671</td>\n",
       "      <td>175368.825368</td>\n",
       "      <td>129925.000000</td>\n",
       "      <td>0.000000</td>\n",
       "      <td>0.000000</td>\n",
       "    </tr>\n",
       "    <tr>\n",
       "      <th>50%</th>\n",
       "      <td>741.000000</td>\n",
       "      <td>185843.232218</td>\n",
       "      <td>191356.981660</td>\n",
       "      <td>167762.376060</td>\n",
       "      <td>158953.135556</td>\n",
       "      <td>181219.432391</td>\n",
       "      <td>183647.568532</td>\n",
       "      <td>164928.283474</td>\n",
       "      <td>180454.298052</td>\n",
       "      <td>181073.785225</td>\n",
       "      <td>176923.341336</td>\n",
       "      <td>179949.742534</td>\n",
       "      <td>190292.187500</td>\n",
       "      <td>184202.500440</td>\n",
       "      <td>181114.067536</td>\n",
       "      <td>185740.182894</td>\n",
       "      <td>176486.047546</td>\n",
       "      <td>161073.247024</td>\n",
       "      <td>203106.269126</td>\n",
       "      <td>35.500000</td>\n",
       "      <td>14.500000</td>\n",
       "      <td>171319.443683</td>\n",
       "      <td>179722.971296</td>\n",
       "      <td>177009.460784</td>\n",
       "      <td>166403.519126</td>\n",
       "      <td>155917.553571</td>\n",
       "      <td>163654.383041</td>\n",
       "      <td>144503.578624</td>\n",
       "      <td>184094.602253</td>\n",
       "      <td>150529.160558</td>\n",
       "      <td>203881.873188</td>\n",
       "      <td>183805.015293</td>\n",
       "      <td>166205.981395</td>\n",
       "      <td>169992.442748</td>\n",
       "      <td>168932.967391</td>\n",
       "      <td>184463.101680</td>\n",
       "      <td>182044.330197</td>\n",
       "      <td>184535.337349</td>\n",
       "      <td>160918.336096</td>\n",
       "      <td>182115.031931</td>\n",
       "      <td>215075.475976</td>\n",
       "      <td>186569.561275</td>\n",
       "      <td>187320.733445</td>\n",
       "      <td>158460.594515</td>\n",
       "      <td>172078.614815</td>\n",
       "      <td>180816.740289</td>\n",
       "      <td>136612.858407</td>\n",
       "      <td>165147.890464</td>\n",
       "      <td>181297.887994</td>\n",
       "      <td>212795.308696</td>\n",
       "      <td>162838.572650</td>\n",
       "      <td>181029.186111</td>\n",
       "      <td>183542.560606</td>\n",
       "      <td>140142.552711</td>\n",
       "      <td>161003.847645</td>\n",
       "      <td>183618.068684</td>\n",
       "      <td>212674.463918</td>\n",
       "      <td>204990.063380</td>\n",
       "      <td>202501.549872</td>\n",
       "      <td>28.000000</td>\n",
       "      <td>202789.618799</td>\n",
       "      <td>184038.209459</td>\n",
       "      <td>157729.877193</td>\n",
       "      <td>187768.181664</td>\n",
       "      <td>188346.234454</td>\n",
       "      <td>186926.069109</td>\n",
       "      <td>158535.130246</td>\n",
       "      <td>176651.410256</td>\n",
       "      <td>187252.105590</td>\n",
       "      <td>180574.090417</td>\n",
       "      <td>178797.429397</td>\n",
       "      <td>180898.631498</td>\n",
       "      <td>180898.631498</td>\n",
       "      <td>187715.285981</td>\n",
       "      <td>182136.371338</td>\n",
       "      <td>182097.497627</td>\n",
       "      <td>178591.063291</td>\n",
       "      <td>173346.078671</td>\n",
       "      <td>175368.825368</td>\n",
       "      <td>163000.000000</td>\n",
       "      <td>0.000000</td>\n",
       "      <td>0.000000</td>\n",
       "    </tr>\n",
       "    <tr>\n",
       "      <th>75%</th>\n",
       "      <td>1104.750000</td>\n",
       "      <td>200763.148148</td>\n",
       "      <td>191356.981660</td>\n",
       "      <td>167762.376060</td>\n",
       "      <td>229056.903382</td>\n",
       "      <td>181219.432391</td>\n",
       "      <td>183647.568532</td>\n",
       "      <td>204901.363636</td>\n",
       "      <td>180454.298052</td>\n",
       "      <td>181073.785225</td>\n",
       "      <td>176923.341336</td>\n",
       "      <td>179949.742534</td>\n",
       "      <td>203489.946939</td>\n",
       "      <td>184202.500440</td>\n",
       "      <td>181114.067536</td>\n",
       "      <td>185740.182894</td>\n",
       "      <td>209653.571072</td>\n",
       "      <td>208414.329825</td>\n",
       "      <td>203106.269126</td>\n",
       "      <td>55.000000</td>\n",
       "      <td>41.000000</td>\n",
       "      <td>171319.443683</td>\n",
       "      <td>179722.971296</td>\n",
       "      <td>215247.326134</td>\n",
       "      <td>216064.221239</td>\n",
       "      <td>205447.897436</td>\n",
       "      <td>163654.383041</td>\n",
       "      <td>231040.800000</td>\n",
       "      <td>184094.602253</td>\n",
       "      <td>225871.299130</td>\n",
       "      <td>203881.873188</td>\n",
       "      <td>183805.015293</td>\n",
       "      <td>190811.854369</td>\n",
       "      <td>236866.435484</td>\n",
       "      <td>168932.967391</td>\n",
       "      <td>184463.101680</td>\n",
       "      <td>182044.330197</td>\n",
       "      <td>184535.337349</td>\n",
       "      <td>160918.336096</td>\n",
       "      <td>182115.031931</td>\n",
       "      <td>215075.475976</td>\n",
       "      <td>186569.561275</td>\n",
       "      <td>187320.733445</td>\n",
       "      <td>158460.594515</td>\n",
       "      <td>172078.614815</td>\n",
       "      <td>180816.740289</td>\n",
       "      <td>228402.298742</td>\n",
       "      <td>203574.293893</td>\n",
       "      <td>181297.887994</td>\n",
       "      <td>212795.308696</td>\n",
       "      <td>212163.638430</td>\n",
       "      <td>181029.186111</td>\n",
       "      <td>183542.560606</td>\n",
       "      <td>213391.308429</td>\n",
       "      <td>195928.690789</td>\n",
       "      <td>183618.068684</td>\n",
       "      <td>212674.463918</td>\n",
       "      <td>228513.814159</td>\n",
       "      <td>202501.549872</td>\n",
       "      <td>46.000000</td>\n",
       "      <td>202789.618799</td>\n",
       "      <td>184038.209459</td>\n",
       "      <td>157729.877193</td>\n",
       "      <td>187768.181664</td>\n",
       "      <td>188346.234454</td>\n",
       "      <td>186926.069109</td>\n",
       "      <td>204506.972222</td>\n",
       "      <td>222076.920408</td>\n",
       "      <td>187252.105590</td>\n",
       "      <td>180574.090417</td>\n",
       "      <td>178797.429397</td>\n",
       "      <td>180898.631498</td>\n",
       "      <td>180898.631498</td>\n",
       "      <td>187715.285981</td>\n",
       "      <td>182136.371338</td>\n",
       "      <td>182097.497627</td>\n",
       "      <td>185207.736364</td>\n",
       "      <td>173346.078671</td>\n",
       "      <td>175368.825368</td>\n",
       "      <td>215000.000000</td>\n",
       "      <td>0.000000</td>\n",
       "      <td>0.000000</td>\n",
       "    </tr>\n",
       "    <tr>\n",
       "      <th>max</th>\n",
       "      <td>1460.000000</td>\n",
       "      <td>239978.659176</td>\n",
       "      <td>216421.163636</td>\n",
       "      <td>236725.292490</td>\n",
       "      <td>229056.903382</td>\n",
       "      <td>181219.432391</td>\n",
       "      <td>183647.568532</td>\n",
       "      <td>244560.733333</td>\n",
       "      <td>229102.255814</td>\n",
       "      <td>181073.785225</td>\n",
       "      <td>226302.767442</td>\n",
       "      <td>204379.230769</td>\n",
       "      <td>315191.901408</td>\n",
       "      <td>193805.151515</td>\n",
       "      <td>181114.067536</td>\n",
       "      <td>185740.182894</td>\n",
       "      <td>209653.571072</td>\n",
       "      <td>294348.576923</td>\n",
       "      <td>203106.269126</td>\n",
       "      <td>136.000000</td>\n",
       "      <td>60.000000</td>\n",
       "      <td>219039.383142</td>\n",
       "      <td>248978.800000</td>\n",
       "      <td>229540.206897</td>\n",
       "      <td>227821.614035</td>\n",
       "      <td>265005.925620</td>\n",
       "      <td>242979.107639</td>\n",
       "      <td>371951.531915</td>\n",
       "      <td>184094.602253</td>\n",
       "      <td>225871.299130</td>\n",
       "      <td>327072.598131</td>\n",
       "      <td>215164.066667</td>\n",
       "      <td>263518.033333</td>\n",
       "      <td>236866.435484</td>\n",
       "      <td>303758.906780</td>\n",
       "      <td>184463.101680</td>\n",
       "      <td>375000.000000</td>\n",
       "      <td>475000.000000</td>\n",
       "      <td>276886.258772</td>\n",
       "      <td>182115.031931</td>\n",
       "      <td>215075.475976</td>\n",
       "      <td>186569.561275</td>\n",
       "      <td>187320.733445</td>\n",
       "      <td>259723.935154</td>\n",
       "      <td>291028.919192</td>\n",
       "      <td>475000.000000</td>\n",
       "      <td>228402.298742</td>\n",
       "      <td>218549.071429</td>\n",
       "      <td>181297.887994</td>\n",
       "      <td>311118.405405</td>\n",
       "      <td>212163.638430</td>\n",
       "      <td>218700.507772</td>\n",
       "      <td>183542.560606</td>\n",
       "      <td>324619.989011</td>\n",
       "      <td>287468.659091</td>\n",
       "      <td>183618.068684</td>\n",
       "      <td>252000.000000</td>\n",
       "      <td>228513.814159</td>\n",
       "      <td>254447.626506</td>\n",
       "      <td>107.000000</td>\n",
       "      <td>239303.034810</td>\n",
       "      <td>309977.853659</td>\n",
       "      <td>264085.159722</td>\n",
       "      <td>214835.294118</td>\n",
       "      <td>188346.234454</td>\n",
       "      <td>186926.069109</td>\n",
       "      <td>582933.000000</td>\n",
       "      <td>382316.666667</td>\n",
       "      <td>430000.000000</td>\n",
       "      <td>392500.000000</td>\n",
       "      <td>475000.000000</td>\n",
       "      <td>211995.000000</td>\n",
       "      <td>211995.000000</td>\n",
       "      <td>187715.285981</td>\n",
       "      <td>182136.371338</td>\n",
       "      <td>182097.497627</td>\n",
       "      <td>196411.967742</td>\n",
       "      <td>278079.055556</td>\n",
       "      <td>276460.600000</td>\n",
       "      <td>755000.000000</td>\n",
       "      <td>1.000000</td>\n",
       "      <td>1.000000</td>\n",
       "    </tr>\n",
       "  </tbody>\n",
       "</table>\n",
       "</div>"
      ],
      "text/plain": [
       "                Id     MSSubClass       MSZoning    LotFrontage  \\\n",
       "count  1314.000000    1314.000000    1314.000000    1314.000000   \n",
       "mean    736.230594  181040.624049  181040.624049  181040.624049   \n",
       "std     422.410752   38808.314261   26199.490720   27202.168491   \n",
       "min       1.000000   95695.328125  109623.615385  167762.376060   \n",
       "25%     371.250000  143122.939394  191356.981660  167762.376060   \n",
       "50%     741.000000  185843.232218  191356.981660  167762.376060   \n",
       "75%    1104.750000  200763.148148  191356.981660  167762.376060   \n",
       "max    1460.000000  239978.659176  216421.163636  236725.292490   \n",
       "\n",
       "             LotArea         Street          Alley       LotShape  \\\n",
       "count    1314.000000    1314.000000    1314.000000    1314.000000   \n",
       "mean   181040.624049  181040.624049  181040.624049  181040.624049   \n",
       "std     32578.624196    2894.262502   11596.886609   22203.246215   \n",
       "min    158953.135556  134228.600000  121321.200000  164928.283474   \n",
       "25%    158953.135556  181219.432391  183647.568532  164928.283474   \n",
       "50%    158953.135556  181219.432391  183647.568532  164928.283474   \n",
       "75%    229056.903382  181219.432391  183647.568532  204901.363636   \n",
       "max    229056.903382  181219.432391  183647.568532  244560.733333   \n",
       "\n",
       "         LandContour      Utilities      LotConfig      LandSlope  \\\n",
       "count    1314.000000    1314.000000    1314.000000    1314.000000   \n",
       "mean   181040.624049  181040.624049  181040.624049  181040.624049   \n",
       "std     12496.527972    1202.064041   12252.421306    4473.563558   \n",
       "min    141920.660714  137500.000000  176723.837209  179949.742534   \n",
       "25%    180454.298052  181073.785225  176923.341336  179949.742534   \n",
       "50%    180454.298052  181073.785225  176923.341336  179949.742534   \n",
       "75%    180454.298052  181073.785225  176923.341336  179949.742534   \n",
       "max    229102.255814  181073.785225  226302.767442  204379.230769   \n",
       "\n",
       "        Neighborhood     Condition1     Condition2       BldgType  \\\n",
       "count    1314.000000    1314.000000    1314.000000    1314.000000   \n",
       "mean   181040.624049  181040.624049  181040.624049  181040.624049   \n",
       "std     46324.135172   12378.889534     799.639940   14443.396437   \n",
       "min    123620.113636  135882.500000  172340.909091  129857.142857   \n",
       "25%    146653.696517  184202.500440  181114.067536  185740.182894   \n",
       "50%    190292.187500  184202.500440  181114.067536  185740.182894   \n",
       "75%    203489.946939  184202.500440  181114.067536  185740.182894   \n",
       "max    315191.901408  193805.151515  181114.067536  185740.182894   \n",
       "\n",
       "          HouseStyle    OverallQual    OverallCond    YearBuilt  YearRemodAdd  \\\n",
       "count    1314.000000    1314.000000    1314.000000  1314.000000   1314.000000   \n",
       "mean   181040.624049  181040.624049  181040.624049    36.874429     23.031202   \n",
       "std     22118.086370   55373.367775   25689.624796    30.424945     20.674420   \n",
       "min    143097.007092  108330.644231  121000.627451     0.000000     -1.000000   \n",
       "25%    176486.047546  133745.805634  154307.645022     8.000000      4.000000   \n",
       "50%    176486.047546  161073.247024  203106.269126    35.500000     14.500000   \n",
       "75%    209653.571072  208414.329825  203106.269126    55.000000     41.000000   \n",
       "max    209653.571072  294348.576923  203106.269126   136.000000     60.000000   \n",
       "\n",
       "           RoofStyle       RoofMatl    Exterior1st    Exterior2nd  \\\n",
       "count    1314.000000    1314.000000    1314.000000    1314.000000   \n",
       "mean   181040.624049  181040.624049  181040.624049  181040.624049   \n",
       "std     18987.049945    9465.046408   31222.482231   29849.145703   \n",
       "min    171319.443683  179722.971296  145220.323944  148186.092896   \n",
       "25%    171319.443683  179722.971296  148333.844920  148397.961538   \n",
       "50%    171319.443683  179722.971296  177009.460784  166403.519126   \n",
       "75%    171319.443683  179722.971296  215247.326134  216064.221239   \n",
       "max    219039.383142  248978.800000  229540.206897  227821.614035   \n",
       "\n",
       "          MasVnrType     MasVnrArea      ExterQual      ExterCond  \\\n",
       "count    1314.000000    1314.000000    1314.000000    1314.000000   \n",
       "mean   181040.624049  181040.624049  181040.624049  181040.624049   \n",
       "std     34692.124836   32828.304387   55307.593633   11738.300408   \n",
       "min    155917.553571  163654.383041   86291.769231  108955.466667   \n",
       "25%    155917.553571  163654.383041  144503.578624  184094.602253   \n",
       "50%    155917.553571  163654.383041  144503.578624  184094.602253   \n",
       "75%    205447.897436  163654.383041  231040.800000  184094.602253   \n",
       "max    265005.925620  242979.107639  371951.531915  184094.602253   \n",
       "\n",
       "          Foundation       BsmtQual       BsmtCond   BsmtExposure  \\\n",
       "count    1314.000000    1314.000000    1314.000000    1314.000000   \n",
       "mean   181040.624049  181040.624049  181040.624049  181040.624049   \n",
       "std     40048.407098   54135.969770   18564.012040   31474.766214   \n",
       "min    122864.724138  109060.984848  100258.941176  105251.636364   \n",
       "25%    150529.160558  141171.125637  183805.015293  166205.981395   \n",
       "50%    150529.160558  203881.873188  183805.015293  166205.981395   \n",
       "75%    225871.299130  203881.873188  183805.015293  190811.854369   \n",
       "max    225871.299130  327072.598131  215164.066667  263518.033333   \n",
       "\n",
       "        BsmtFinType1     BsmtFinSF1   BsmtFinType2     BsmtFinSF2  \\\n",
       "count    1314.000000    1314.000000    1314.000000    1314.000000   \n",
       "mean   181040.624049  181040.624049  181040.624049  181040.624049   \n",
       "std     37025.161496   38561.152257    8936.859617   12458.876505   \n",
       "min    102525.125000  168932.967391  152873.228261  132849.055556   \n",
       "25%    154168.750000  168932.967391  184463.101680  182044.330197   \n",
       "50%    169992.442748  168932.967391  184463.101680  182044.330197   \n",
       "75%    236866.435484  168932.967391  184463.101680  182044.330197   \n",
       "max    236866.435484  303758.906780  184463.101680  375000.000000   \n",
       "\n",
       "           BsmtUnfSF    TotalBsmtSF        Heating      HeatingQC  \\\n",
       "count    1314.000000    1314.000000    1314.000000    1314.000000   \n",
       "mean   181040.624049  181040.624049  181040.624049  181040.624049   \n",
       "std     26757.025792   43932.929977    7031.636148   35121.370816   \n",
       "min     84500.000000  160918.336096  135055.966667   87000.000000   \n",
       "25%    165782.797872  160918.336096  182115.031931  142719.246032   \n",
       "50%    184535.337349  160918.336096  182115.031931  215075.475976   \n",
       "75%    184535.337349  160918.336096  182115.031931  215075.475976   \n",
       "max    475000.000000  276886.258772  182115.031931  215075.475976   \n",
       "\n",
       "          CentralAir     Electrical       1stFlrSF       2ndFlrSF  \\\n",
       "count    1314.000000    1314.000000    1314.000000    1314.000000   \n",
       "mean   181040.624049  181040.624049  181040.624049  181040.624049   \n",
       "std     20397.476096   19824.089401   42166.629312   31408.069863   \n",
       "min    105847.077778  108120.548387  158460.594515  172078.614815   \n",
       "25%    186569.561275  187320.733445  158460.594515  172078.614815   \n",
       "50%    186569.561275  187320.733445  158460.594515  172078.614815   \n",
       "75%    186569.561275  187320.733445  158460.594515  172078.614815   \n",
       "max    186569.561275  187320.733445  259723.935154  291028.919192   \n",
       "\n",
       "        LowQualFinSF      GrLivArea   BsmtFullBath   BsmtHalfBath  \\\n",
       "count    1314.000000    1314.000000    1314.000000    1314.000000   \n",
       "mean   181040.624049  181040.624049  181040.624049  181040.624049   \n",
       "std      8115.593269   45888.734488   19155.180393    1231.986901   \n",
       "min    180816.740289  136612.858407  165147.890464  160850.500000   \n",
       "25%    180816.740289  136612.858407  165147.890464  181297.887994   \n",
       "50%    180816.740289  136612.858407  165147.890464  181297.887994   \n",
       "75%    180816.740289  228402.298742  203574.293893  181297.887994   \n",
       "max    475000.000000  228402.298742  218549.071429  181297.887994   \n",
       "\n",
       "            FullBath       HalfBath   BedroomAbvGr   KitchenAbvGr  \\\n",
       "count    1314.000000    1314.000000    1314.000000    1314.000000   \n",
       "mean   181040.624049  181040.624049  181040.624049  181040.624049   \n",
       "std     43969.360794   23778.354096   18218.274540   11460.774121   \n",
       "min    135514.882453  162838.572650  158790.238390  115500.000000   \n",
       "25%    135514.882453  162838.572650  175787.413043  183542.560606   \n",
       "50%    212795.308696  162838.572650  181029.186111  183542.560606   \n",
       "75%    212795.308696  212163.638430  181029.186111  183542.560606   \n",
       "max    311118.405405  212163.638430  218700.507772  183542.560606   \n",
       "\n",
       "         KitchenQual   TotRmsAbvGrd     Functional     Fireplaces  \\\n",
       "count    1314.000000    1314.000000    1314.000000    1314.000000   \n",
       "mean   181040.624049  181040.624049  181040.624049  181040.624049   \n",
       "std     53401.249548   39020.198392    9452.511123   38521.652511   \n",
       "min    105460.621622  123305.635294  146400.901099  141047.961353   \n",
       "25%    140142.552711  161003.847645  183618.068684  141047.961353   \n",
       "50%    140142.552711  161003.847645  183618.068684  212674.463918   \n",
       "75%    213391.308429  195928.690789  183618.068684  212674.463918   \n",
       "max    324619.989011  287468.659091  183618.068684  252000.000000   \n",
       "\n",
       "         FireplaceQu     GarageType  GarageYrBlt   GarageFinish  \\\n",
       "count    1314.000000    1314.000000  1314.000000    1314.000000   \n",
       "mean   181040.624049  181040.624049    29.426180  181040.624049   \n",
       "std     38773.307482   39521.671622    24.168823   43879.853129   \n",
       "min    141047.961353  101143.243243     0.000000  101143.243243   \n",
       "25%    141047.961353  134890.670520     7.000000  142540.844732   \n",
       "50%    204990.063380  202501.549872    28.000000  202789.618799   \n",
       "75%    228513.814159  202501.549872    46.000000  202789.618799   \n",
       "max    228513.814159  254447.626506   107.000000  239303.034810   \n",
       "\n",
       "          GarageCars     GarageArea     GarageQual     GarageCond  \\\n",
       "count    1314.000000    1314.000000    1314.000000    1314.000000   \n",
       "mean   181040.624049  181040.624049  181040.624049  181040.624049   \n",
       "std     56100.658727   44014.821429   22988.130523   22934.186102   \n",
       "min    101143.243243  157729.877193  101143.243243  101143.243243   \n",
       "25%    128360.834835  157729.877193  187768.181664  188346.234454   \n",
       "50%    184038.209459  157729.877193  187768.181664  188346.234454   \n",
       "75%    184038.209459  157729.877193  187768.181664  188346.234454   \n",
       "max    309977.853659  264085.159722  214835.294118  188346.234454   \n",
       "\n",
       "          PavedDrive     WoodDeckSF    OpenPorchSF  EnclosedPorch  \\\n",
       "count    1314.000000    1314.000000    1314.000000    1314.000000   \n",
       "mean   181040.624049  181040.624049  181040.624049  181040.624049   \n",
       "std     19330.485641   32056.720234   37326.620936   19655.245498   \n",
       "min    114329.784091  105080.000000   79000.000000   94082.947368   \n",
       "25%    186926.069109  158535.130246  144431.555366  187252.105590   \n",
       "50%    186926.069109  158535.130246  176651.410256  187252.105590   \n",
       "75%    186926.069109  204506.972222  222076.920408  187252.105590   \n",
       "max    186926.069109  582933.000000  382316.666667  430000.000000   \n",
       "\n",
       "           3SsnPorch    ScreenPorch       PoolArea         PoolQC  \\\n",
       "count    1314.000000    1314.000000    1314.000000    1314.000000   \n",
       "mean   181040.624049  181040.624049  181040.624049  181040.624049   \n",
       "std      7426.510849   14425.004989    2097.293089    2097.293089   \n",
       "min    135000.000000  157273.913043  180898.631498  180898.631498   \n",
       "25%    180574.090417  178797.429397  180898.631498  180898.631498   \n",
       "50%    180574.090417  178797.429397  180898.631498  180898.631498   \n",
       "75%    180574.090417  178797.429397  180898.631498  180898.631498   \n",
       "max    392500.000000  475000.000000  211995.000000  211995.000000   \n",
       "\n",
       "               Fence    MiscFeature        MiscVal         MoSold  \\\n",
       "count    1314.000000    1314.000000    1314.000000    1314.000000   \n",
       "mean   181040.624049  181040.624049  181040.624049  181040.624049   \n",
       "std     15505.675991    5456.509673    6464.119661    6799.785827   \n",
       "min    135415.000000  153687.891304   55993.000000  171991.093750   \n",
       "25%    187715.285981  182136.371338  182097.497627  178312.000000   \n",
       "50%    187715.285981  182136.371338  182097.497627  178591.063291   \n",
       "75%    187715.285981  182136.371338  182097.497627  185207.736364   \n",
       "max    187715.285981  182136.371338  182097.497627  196411.967742   \n",
       "\n",
       "            SaleType  SaleCondition      SalePrice  LotFrontage_NA  \\\n",
       "count    1314.000000    1314.000000    1314.000000     1314.000000   \n",
       "mean   181040.624049  181040.624049  181040.624049        0.177321   \n",
       "std     29337.716048   30218.520557   79048.006112        0.382086   \n",
       "min    153982.709677  141974.306818   34900.000000        0.000000   \n",
       "25%    173346.078671  175368.825368  129925.000000        0.000000   \n",
       "50%    173346.078671  175368.825368  163000.000000        0.000000   \n",
       "75%    173346.078671  175368.825368  215000.000000        0.000000   \n",
       "max    278079.055556  276460.600000  755000.000000        1.000000   \n",
       "\n",
       "       GarageYrBlt_NA  \n",
       "count     1314.000000  \n",
       "mean         0.056317  \n",
       "std          0.230620  \n",
       "min          0.000000  \n",
       "25%          0.000000  \n",
       "50%          0.000000  \n",
       "75%          0.000000  \n",
       "max          1.000000  "
      ]
     },
     "execution_count": 47,
     "metadata": {},
     "output_type": "execute_result"
    }
   ],
   "source": [
    "X_train.describe()"
   ]
  },
  {
   "cell_type": "markdown",
   "metadata": {},
   "source": [
    "We can see that because, we used the SalePrice target  to encode both our numerical continuous and discrete and categorical variables, all our variables show the mean house price as mean value. The standard deviation however, varies, following the nature of the original variable."
   ]
  },
  {
   "cell_type": "code",
   "execution_count": 48,
   "metadata": {},
   "outputs": [
    {
     "name": "stdout",
     "output_type": "stream",
     "text": [
      "total number of variables to use for training:  80\n"
     ]
    }
   ],
   "source": [
    "# let's create a list of the training variables\n",
    "training_vars = [var for var in X_train.columns if var not in ['Id', 'SalePrice']]\n",
    "\n",
    "print('total number of variables to use for training: ', len(training_vars))"
   ]
  },
  {
   "cell_type": "code",
   "execution_count": 49,
   "metadata": {
    "scrolled": true
   },
   "outputs": [
    {
     "data": {
      "text/plain": [
       "['MSSubClass',\n",
       " 'MSZoning',\n",
       " 'LotFrontage',\n",
       " 'LotArea',\n",
       " 'Street',\n",
       " 'Alley',\n",
       " 'LotShape',\n",
       " 'LandContour',\n",
       " 'Utilities',\n",
       " 'LotConfig',\n",
       " 'LandSlope',\n",
       " 'Neighborhood',\n",
       " 'Condition1',\n",
       " 'Condition2',\n",
       " 'BldgType',\n",
       " 'HouseStyle',\n",
       " 'OverallQual',\n",
       " 'OverallCond',\n",
       " 'YearBuilt',\n",
       " 'YearRemodAdd',\n",
       " 'RoofStyle',\n",
       " 'RoofMatl',\n",
       " 'Exterior1st',\n",
       " 'Exterior2nd',\n",
       " 'MasVnrType',\n",
       " 'MasVnrArea',\n",
       " 'ExterQual',\n",
       " 'ExterCond',\n",
       " 'Foundation',\n",
       " 'BsmtQual',\n",
       " 'BsmtCond',\n",
       " 'BsmtExposure',\n",
       " 'BsmtFinType1',\n",
       " 'BsmtFinSF1',\n",
       " 'BsmtFinType2',\n",
       " 'BsmtFinSF2',\n",
       " 'BsmtUnfSF',\n",
       " 'TotalBsmtSF',\n",
       " 'Heating',\n",
       " 'HeatingQC',\n",
       " 'CentralAir',\n",
       " 'Electrical',\n",
       " '1stFlrSF',\n",
       " '2ndFlrSF',\n",
       " 'LowQualFinSF',\n",
       " 'GrLivArea',\n",
       " 'BsmtFullBath',\n",
       " 'BsmtHalfBath',\n",
       " 'FullBath',\n",
       " 'HalfBath',\n",
       " 'BedroomAbvGr',\n",
       " 'KitchenAbvGr',\n",
       " 'KitchenQual',\n",
       " 'TotRmsAbvGrd',\n",
       " 'Functional',\n",
       " 'Fireplaces',\n",
       " 'FireplaceQu',\n",
       " 'GarageType',\n",
       " 'GarageYrBlt',\n",
       " 'GarageFinish',\n",
       " 'GarageCars',\n",
       " 'GarageArea',\n",
       " 'GarageQual',\n",
       " 'GarageCond',\n",
       " 'PavedDrive',\n",
       " 'WoodDeckSF',\n",
       " 'OpenPorchSF',\n",
       " 'EnclosedPorch',\n",
       " '3SsnPorch',\n",
       " 'ScreenPorch',\n",
       " 'PoolArea',\n",
       " 'PoolQC',\n",
       " 'Fence',\n",
       " 'MiscFeature',\n",
       " 'MiscVal',\n",
       " 'MoSold',\n",
       " 'SaleType',\n",
       " 'SaleCondition',\n",
       " 'LotFrontage_NA',\n",
       " 'GarageYrBlt_NA']"
      ]
     },
     "execution_count": 49,
     "metadata": {},
     "output_type": "execute_result"
    }
   ],
   "source": [
    "training_vars"
   ]
  },
  {
   "cell_type": "code",
   "execution_count": 50,
   "metadata": {},
   "outputs": [
    {
     "data": {
      "text/plain": [
       "MinMaxScaler(copy=True, feature_range=(0, 1))"
      ]
     },
     "execution_count": 50,
     "metadata": {},
     "output_type": "execute_result"
    }
   ],
   "source": [
    "# fit scaler\n",
    "scaler = MinMaxScaler() # create an instance\n",
    "scaler.fit(X_train[training_vars]) #  fit  the scaler to the train set for later use"
   ]
  },
  {
   "cell_type": "markdown",
   "metadata": {},
   "source": [
    "The scaler is now ready, we can use it in a machine learning algorithm when required. See below.\n",
    "\n",
    "### Machine Learning algorithm building\n",
    "\n",
    "**Note**\n",
    "\n",
    "The distribution of SalePrice is also skewed, so I will fit the model to the log transformation of the house price.\n",
    "\n",
    "Then, to evaluate the models, we need to convert it back to prices.\n",
    "\n",
    "#### xgboost"
   ]
  },
  {
   "cell_type": "code",
   "execution_count": 51,
   "metadata": {},
   "outputs": [
    {
     "name": "stdout",
     "output_type": "stream",
     "text": [
      "xgb train mse: 411750478.1958386\n",
      "xgb train rmse: 20291.635670784122\n",
      "\n",
      "xgb test mse: 1248980709.6125262\n",
      "xgb test rmse: 35340.921176626485\n"
     ]
    }
   ],
   "source": [
    "xgb_model = xgb.XGBRegressor()\n",
    "\n",
    "eval_set = [(X_test[training_vars], np.log(y_test))]\n",
    "xgb_model.fit(X_train[training_vars], np.log(y_train), eval_set=eval_set, verbose=False)\n",
    "\n",
    "pred = xgb_model.predict(X_train[training_vars])\n",
    "print('xgb train mse: {}'.format(mean_squared_error(y_train, np.exp(pred))))\n",
    "print('xgb train rmse: {}'.format(sqrt(mean_squared_error(y_train, np.exp(pred)))))\n",
    "print()\n",
    "pred = xgb_model.predict(X_test[training_vars])\n",
    "print('xgb test mse: {}'.format(mean_squared_error(y_test, np.exp(pred))))\n",
    "print('xgb test rmse: {}'.format(sqrt(mean_squared_error(y_test, np.exp(pred)))))"
   ]
  },
  {
   "cell_type": "markdown",
   "metadata": {},
   "source": [
    "This model shows some over-fitting. Compare the rmse for train and test."
   ]
  },
  {
   "cell_type": "markdown",
   "metadata": {},
   "source": [
    "#### Random Forests"
   ]
  },
  {
   "cell_type": "code",
   "execution_count": 52,
   "metadata": {},
   "outputs": [
    {
     "name": "stdout",
     "output_type": "stream",
     "text": [
      "rf train mse: 598802726.1189518\n",
      "rf train rmse: 24470.445973029422\n",
      "\n",
      "rf test mse: 1427331220.8651788\n",
      "rf test rmse: 37780.037332765816\n"
     ]
    }
   ],
   "source": [
    "rf_model = RandomForestRegressor(n_estimators=800, max_depth=6)\n",
    "rf_model.fit(X_train[training_vars], np.log(y_train))\n",
    "\n",
    "pred = rf_model.predict(X_train[training_vars])\n",
    "print('rf train mse: {}'.format(mean_squared_error(y_train, np.exp(pred))))\n",
    "print('rf train rmse: {}'.format(sqrt(mean_squared_error(y_train, np.exp(pred)))))\n",
    "\n",
    "print()\n",
    "pred = rf_model.predict(X_test[training_vars])\n",
    "print('rf test mse: {}'.format(mean_squared_error(y_test, np.exp(pred))))\n",
    "print('rf test rmse: {}'.format(sqrt(mean_squared_error(y_test, np.exp(pred)))))"
   ]
  },
  {
   "cell_type": "markdown",
   "metadata": {},
   "source": [
    "This model shows some over-fitting. Compare the rmse for train and test."
   ]
  },
  {
   "cell_type": "markdown",
   "metadata": {},
   "source": [
    "#### Support vector machine"
   ]
  },
  {
   "cell_type": "code",
   "execution_count": 53,
   "metadata": {},
   "outputs": [
    {
     "name": "stdout",
     "output_type": "stream",
     "text": [
      "SVR train mse: 6893198624.090748\n",
      "SVR train rmse: 83025.28906357838\n",
      "\n",
      "SVR test mse: 7462041362.741304\n",
      "SVR test rmse: 86383.10808683203\n"
     ]
    }
   ],
   "source": [
    "SVR_model = SVR()\n",
    "SVR_model.fit(scaler.transform(X_train[training_vars]), np.log(y_train))\n",
    "\n",
    "pred = SVR_model.predict(X_train[training_vars])\n",
    "print('SVR train mse: {}'.format(mean_squared_error(y_train, np.exp(pred))))\n",
    "print('SVR train rmse: {}'.format(sqrt(mean_squared_error(y_train, np.exp(pred)))))\n",
    "\n",
    "print()\n",
    "pred = SVR_model.predict(X_test[training_vars])\n",
    "print('SVR test mse: {}'.format(mean_squared_error(y_test, np.exp(pred))))\n",
    "print('SVR test rmse: {}'.format(sqrt(mean_squared_error(y_test, np.exp(pred)))))"
   ]
  },
  {
   "cell_type": "markdown",
   "metadata": {},
   "source": [
    "#### Regularised linear regression"
   ]
  },
  {
   "cell_type": "code",
   "execution_count": 54,
   "metadata": {},
   "outputs": [
    {
     "name": "stdout",
     "output_type": "stream",
     "text": [
      "Lasso Linear Model train mse: 1141198152.8570888\n",
      "Lasso Linear Model train rmse: 33781.62448517076\n",
      "\n",
      "Lasso Linear Model test mse: 1564309979.8790731\n",
      "Lasso Linear Model test rmse: 39551.358761477124\n"
     ]
    }
   ],
   "source": [
    "lin_model = Lasso(random_state=2909, alpha=0.005)\n",
    "lin_model.fit(scaler.transform(X_train[training_vars]), np.log(y_train))\n",
    "\n",
    "pred = lin_model.predict(scaler.transform(X_train[training_vars]))\n",
    "print('Lasso Linear Model train mse: {}'.format(mean_squared_error(y_train, np.exp(pred))))\n",
    "print('Lasso Linear Model train rmse: {}'.format(sqrt(mean_squared_error(y_train, np.exp(pred)))))\n",
    "\n",
    "print()\n",
    "pred = lin_model.predict(scaler.transform(X_test[training_vars]))\n",
    "print('Lasso Linear Model test mse: {}'.format(mean_squared_error(y_test, np.exp(pred))))\n",
    "print('Lasso Linear Model test rmse: {}'.format(sqrt(mean_squared_error(y_test, np.exp(pred)))))"
   ]
  },
  {
   "cell_type": "markdown",
   "metadata": {},
   "source": [
    "The best model is the Lasso, so I will submit only that one for Kaggle.\n",
    "\n",
    "### Submission to Kaggle"
   ]
  },
  {
   "cell_type": "code",
   "execution_count": 55,
   "metadata": {
    "collapsed": true
   },
   "outputs": [],
   "source": [
    "# make predictions for the submission dataset\n",
    "final_pred = pred = lin_model.predict(scaler.transform(submission[training_vars]))"
   ]
  },
  {
   "cell_type": "code",
   "execution_count": 56,
   "metadata": {},
   "outputs": [
    {
     "data": {
      "text/html": [
       "<div>\n",
       "<style scoped>\n",
       "    .dataframe tbody tr th:only-of-type {\n",
       "        vertical-align: middle;\n",
       "    }\n",
       "\n",
       "    .dataframe tbody tr th {\n",
       "        vertical-align: top;\n",
       "    }\n",
       "\n",
       "    .dataframe thead th {\n",
       "        text-align: right;\n",
       "    }\n",
       "</style>\n",
       "<table border=\"1\" class=\"dataframe\">\n",
       "  <thead>\n",
       "    <tr style=\"text-align: right;\">\n",
       "      <th></th>\n",
       "      <th>Id</th>\n",
       "      <th>SalePrice</th>\n",
       "    </tr>\n",
       "  </thead>\n",
       "  <tbody>\n",
       "    <tr>\n",
       "      <th>0</th>\n",
       "      <td>1461</td>\n",
       "      <td>114441.226248</td>\n",
       "    </tr>\n",
       "    <tr>\n",
       "      <th>1</th>\n",
       "      <td>1462</td>\n",
       "      <td>133481.140066</td>\n",
       "    </tr>\n",
       "    <tr>\n",
       "      <th>2</th>\n",
       "      <td>1463</td>\n",
       "      <td>205078.922503</td>\n",
       "    </tr>\n",
       "    <tr>\n",
       "      <th>3</th>\n",
       "      <td>1464</td>\n",
       "      <td>203355.657256</td>\n",
       "    </tr>\n",
       "    <tr>\n",
       "      <th>4</th>\n",
       "      <td>1465</td>\n",
       "      <td>155992.304115</td>\n",
       "    </tr>\n",
       "  </tbody>\n",
       "</table>\n",
       "</div>"
      ],
      "text/plain": [
       "     Id      SalePrice\n",
       "0  1461  114441.226248\n",
       "1  1462  133481.140066\n",
       "2  1463  205078.922503\n",
       "3  1464  203355.657256\n",
       "4  1465  155992.304115"
      ]
     },
     "execution_count": 56,
     "metadata": {},
     "output_type": "execute_result"
    }
   ],
   "source": [
    "temp = pd.concat([submission.Id, pd.Series(np.exp(final_pred))], axis=1)\n",
    "temp.columns = ['Id', 'SalePrice']\n",
    "temp.head()"
   ]
  },
  {
   "cell_type": "code",
   "execution_count": 57,
   "metadata": {
    "collapsed": true
   },
   "outputs": [],
   "source": [
    "temp.to_csv('submit_housesale.csv', index=False)"
   ]
  }
 ],
 "metadata": {
  "kernelspec": {
   "display_name": "Python 3",
   "language": "python",
   "name": "python3"
  },
  "language_info": {
   "codemirror_mode": {
    "name": "ipython",
    "version": 3
   },
   "file_extension": ".py",
   "mimetype": "text/x-python",
   "name": "python",
   "nbconvert_exporter": "python",
   "pygments_lexer": "ipython3",
   "version": "3.7.3"
  },
  "toc": {
   "nav_menu": {},
   "number_sections": true,
   "sideBar": true,
   "skip_h1_title": false,
   "toc_cell": false,
   "toc_position": {
    "height": "583px",
    "left": "0px",
    "right": "1324px",
    "top": "107px",
    "width": "212px"
   },
   "toc_section_display": "block",
   "toc_window_display": true
  }
 },
 "nbformat": 4,
 "nbformat_minor": 2
}
