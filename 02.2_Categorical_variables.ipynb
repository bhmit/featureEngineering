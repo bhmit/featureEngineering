{
 "cells": [
  {
   "cell_type": "markdown",
   "metadata": {},
   "source": [
    "## What is a Variable?\n",
    "\n",
    "A variable is any characteristics, number, or quantity that can be measured or counted. For example:\n",
    "\n",
    "- Age (21, 35, 62, ...)\n",
    "- Gender (male, female)\n",
    "- Income (GBP 20000, GBP 35000, GBP 45000, ...)\n",
    "- House price (GBP 350000, GBP 570000, ...)\n",
    "- Country of birth (China, Russia, Costa Rica, ...)\n",
    "- Eye colour (brown, green, blue, ...)\n",
    "- Vehicle make (Ford, VolksWagen, ...)\n",
    "\n",
    "...are examples of variables. They are called 'variable' because the value they take may vary (and it usually does) in a population. \n",
    "\n",
    "Most variables in a data set can be classified into one of two major types:\n",
    "\n",
    "**Numerical variables** and **categorical variables**\n",
    "\n",
    "In this notebook, I will discuss Categorical variables\n",
    "\n",
    "===================================================================================\n",
    "\n",
    "\n",
    "## Categorical variables\n",
    "\n",
    "\n",
    "The values of a categorical variable are selected from a group of **categories**, also called **labels**. Examples are gender (male or female) and marital status (never married, married, divorced or widowed).\n",
    "Other examples of categorical variables include:\n",
    "\n",
    "- Intended use of loan (debt-consolidation, car purchase, wedding expenses, ...)\n",
    "- Mobile network provider (Vodafone, Orange, ...)\n",
    "- Postcode\n",
    "\n",
    "Categorical variables can be further categorised into ordinal and nominal variables.\n",
    "\n",
    "### Ordinal categorical variables\n",
    "\n",
    "Categorical variable in which categories can be meaningfully ordered are called ordinal. For example:\n",
    "\n",
    "- Student's grade in an exam (A, B, C or Fail).\n",
    "- Days of the week can be ordinal with Monday = 1 and Sunday = 7.\n",
    "- Educational level, with the categories Elementary school,  High school, College graduate and PhD ranked from 1 to 4. \n",
    "\n",
    "### Nominal categorical variable\n",
    "\n",
    "There isn't an intrinsic order of the labels. For example, country of birth (Argentina, England, Germany) is nominal. Other examples of nominal variables include:\n",
    "\n",
    "- Postcode\n",
    "- Vehicle make (Citroen, Peugeot, ...)\n",
    "\n",
    "There is nothing that indicates an intrinsic order of the labels, and in principle, they are all equal.\n",
    "\n",
    "\n",
    "**To be considered:**\n",
    "\n",
    "Sometimes categorical variables are coded as numbers when the data are recorded (e.g. gender may be coded as 0 for males and 1 for females). The variable is still categorical, despite the use of numbers.\n",
    "\n",
    "In a similar way, individuals in a survey may be coded with a number that uniquely identifies them (for example to avoid storing personal information for confidentiality). This number is really a label, and the variable then categorical. The number has no meaning other than making it possible to uniquely identify the observation (in this case the interviewed subject).\n",
    "\n",
    "Ideally, when we work with a dataset in a business scenario, the data will come with a dictionary that indicates if the numbers in the variables are to be considered as categories or if they are numerical. And if the numbers are categoriies, the dictionary would explain what they intend to represent.\n",
    "\n",
    "=============================================================================\n",
    "\n",
    "## Real Life example: Peer to peer lending (Finance)\n",
    "\n",
    "### Lending Club\n",
    "\n",
    "**Lending Club** is a peer-to-peer Lending company based in the US. They match people looking to invest money with people looking to borrow money. When investors invest their money through Lending Club, this money is passed onto borrowers, and when borrowers pay their loans back, the capital plus the interest passes on back to the investors. It is a win for everybody as they can get typically lower loan rates and higher investor returns.\n",
    "\n",
    "If you want to learn more about Lending Club follow this [link](https://www.lendingclub.com/).\n",
    "\n",
    "The Lending Club dataset contains complete loan data for all loans issued through 2007-2015, including the current loan status (Current, Late, Fully Paid, etc.) and latest payment information. Features include credit scores, number of finance inquiries, address including zip codes and state, and collections among others. Collections indicates whether the customer has missed one or more payments and the team is trying to recover their money.\n",
    "\n",
    "The file is a matrix of about 890 thousand observations and 75 variables. More detail on this dataset can be found in [Kaggle's website](https://www.kaggle.com/wendykan/lending-club-loan-data)\n",
    "\n",
    "Let's go ahead and have a look at the variables!"
   ]
  },
  {
   "cell_type": "markdown",
   "metadata": {},
   "source": [
    "====================================================================================================\n",
    "\n",
    "To download the Lending Club loan book from Kaggle go to this [website](https://www.kaggle.com/wendykan/lending-club-loan-data)\n",
    "\n",
    "Scroll down to the bottom of the page, and click on the link 'loan.csv', and then click the 'download' blue button towards the right of the screen, to download the dataset.\n",
    "Unzip it, and save it to a directory of your choice.\n",
    "\n",
    "**Note that you need to be logged in to Kaggle in order to download the datasets**.\n",
    "\n",
    "If you save it in the same directory from which you are running this notebook, then you can load it the same way I will load it below.\n",
    "\n",
    "===================================================================================================="
   ]
  },
  {
   "cell_type": "code",
   "execution_count": 2,
   "metadata": {
    "collapsed": true
   },
   "outputs": [],
   "source": [
    "import pandas as pd\n",
    "\n",
    "import matplotlib.pyplot as plt\n",
    "%matplotlib inline"
   ]
  },
  {
   "cell_type": "code",
   "execution_count": 3,
   "metadata": {},
   "outputs": [
    {
     "data": {
      "text/html": [
       "<div>\n",
       "<style scoped>\n",
       "    .dataframe tbody tr th:only-of-type {\n",
       "        vertical-align: middle;\n",
       "    }\n",
       "\n",
       "    .dataframe tbody tr th {\n",
       "        vertical-align: top;\n",
       "    }\n",
       "\n",
       "    .dataframe thead th {\n",
       "        text-align: right;\n",
       "    }\n",
       "</style>\n",
       "<table border=\"1\" class=\"dataframe\">\n",
       "  <thead>\n",
       "    <tr style=\"text-align: right;\">\n",
       "      <th></th>\n",
       "      <th>id</th>\n",
       "      <th>home_ownership</th>\n",
       "      <th>loan_status</th>\n",
       "      <th>purpose</th>\n",
       "    </tr>\n",
       "  </thead>\n",
       "  <tbody>\n",
       "    <tr>\n",
       "      <th>131079</th>\n",
       "      <td>5554979</td>\n",
       "      <td>RENT</td>\n",
       "      <td>Current</td>\n",
       "      <td>debt_consolidation</td>\n",
       "    </tr>\n",
       "    <tr>\n",
       "      <th>384935</th>\n",
       "      <td>16552323</td>\n",
       "      <td>OWN</td>\n",
       "      <td>Current</td>\n",
       "      <td>car</td>\n",
       "    </tr>\n",
       "    <tr>\n",
       "      <th>73585</th>\n",
       "      <td>8185454</td>\n",
       "      <td>RENT</td>\n",
       "      <td>Fully Paid</td>\n",
       "      <td>credit_card</td>\n",
       "    </tr>\n",
       "    <tr>\n",
       "      <th>660814</th>\n",
       "      <td>56180166</td>\n",
       "      <td>RENT</td>\n",
       "      <td>Current</td>\n",
       "      <td>debt_consolidation</td>\n",
       "    </tr>\n",
       "    <tr>\n",
       "      <th>349757</th>\n",
       "      <td>16772363</td>\n",
       "      <td>RENT</td>\n",
       "      <td>Current</td>\n",
       "      <td>credit_card</td>\n",
       "    </tr>\n",
       "  </tbody>\n",
       "</table>\n",
       "</div>"
      ],
      "text/plain": [
       "              id home_ownership loan_status             purpose\n",
       "131079   5554979           RENT     Current  debt_consolidation\n",
       "384935  16552323            OWN     Current                 car\n",
       "73585    8185454           RENT  Fully Paid         credit_card\n",
       "660814  56180166           RENT     Current  debt_consolidation\n",
       "349757  16772363           RENT     Current         credit_card"
      ]
     },
     "execution_count": 3,
     "metadata": {},
     "output_type": "execute_result"
    }
   ],
   "source": [
    "# let's load the dataset with just a few columns and a few rows,\n",
    "# to speed things up\n",
    "\n",
    "use_cols = ['id', 'purpose', 'loan_status', 'home_ownership']\n",
    "\n",
    "data = pd.read_csv(\n",
    "    'loan.csv', usecols=use_cols).sample(\n",
    "        10000, random_state=44)  # set a seed for reproducibility\n",
    "\n",
    "data.head()"
   ]
  },
  {
   "cell_type": "code",
   "execution_count": 4,
   "metadata": {},
   "outputs": [
    {
     "data": {
      "text/plain": [
       "array(['RENT', 'OWN', 'MORTGAGE', 'OTHER'], dtype=object)"
      ]
     },
     "execution_count": 4,
     "metadata": {},
     "output_type": "execute_result"
    }
   ],
   "source": [
    "# let's inspect the variable home ownership,\n",
    "# which indicates whether the borrowers own their home\n",
    "# or if they are renting for example, among other things.\n",
    "\n",
    "data.home_ownership.unique()"
   ]
  },
  {
   "cell_type": "code",
   "execution_count": 5,
   "metadata": {},
   "outputs": [
    {
     "data": {
      "text/plain": [
       "<matplotlib.text.Text at 0xa76ffd630>"
      ]
     },
     "execution_count": 5,
     "metadata": {},
     "output_type": "execute_result"
    },
    {
     "data": {
      "image/png": "[encoded data removed]",
      "text/plain": [
       "<matplotlib.figure.Figure at 0xa75ebafd0>"
      ]
     },
     "metadata": {},
     "output_type": "display_data"
    }
   ],
   "source": [
    "# let's make a bar plot, with the number of loans\n",
    "# for each category of home ownership\n",
    "\n",
    "fig = data['home_ownership'].value_counts().plot.bar()\n",
    "fig.set_title('Home Ownership')\n",
    "fig.set_ylabel('Number of customers')"
   ]
  },
  {
   "cell_type": "markdown",
   "metadata": {},
   "source": [
    "The majority of the borrowers either own their house on a mortgage or rent their property. A few borrowers own their home completely. The category 'Other' seems to be empty. To be completely sure, we could print the numbers as below."
   ]
  },
  {
   "cell_type": "code",
   "execution_count": 6,
   "metadata": {},
   "outputs": [
    {
     "data": {
      "text/plain": [
       "MORTGAGE    4957\n",
       "RENT        4055\n",
       "OWN          986\n",
       "OTHER          2\n",
       "Name: home_ownership, dtype: int64"
      ]
     },
     "execution_count": 6,
     "metadata": {},
     "output_type": "execute_result"
    }
   ],
   "source": [
    "data['home_ownership'].value_counts()"
   ]
  },
  {
   "cell_type": "markdown",
   "metadata": {},
   "source": [
    "There are 2 borrowers that have other arrangements for their property. For example, they could live with their parents, or live in a hotel."
   ]
  },
  {
   "cell_type": "code",
   "execution_count": 7,
   "metadata": {},
   "outputs": [
    {
     "data": {
      "text/plain": [
       "array(['debt_consolidation', 'car', 'credit_card', 'small_business',\n",
       "       'house', 'moving', 'other', 'home_improvement', 'medical',\n",
       "       'major_purchase', 'vacation', 'educational', 'wedding',\n",
       "       'renewable_energy'], dtype=object)"
      ]
     },
     "execution_count": 7,
     "metadata": {},
     "output_type": "execute_result"
    }
   ],
   "source": [
    "# the \"purpose\" variable is another categorical variable\n",
    "# that indicates how the borrowers intend to use the\n",
    "# money they are borrowing, for example to improve their\n",
    "# house, or to cancel previous debt.\n",
    "\n",
    "data.purpose.unique()"
   ]
  },
  {
   "cell_type": "code",
   "execution_count": 8,
   "metadata": {},
   "outputs": [
    {
     "data": {
      "text/plain": [
       "<matplotlib.text.Text at 0xa77131f98>"
      ]
     },
     "execution_count": 8,
     "metadata": {},
     "output_type": "execute_result"
    },
    {
     "data": {
      "image/png": "[encoded data removed]",
      "text/plain": [
       "<matplotlib.figure.Figure at 0xa770eb8d0>"
      ]
     },
     "metadata": {},
     "output_type": "display_data"
    }
   ],
   "source": [
    "# let's make a bar plot with the number of borrowers\n",
    "# within each category\n",
    "\n",
    "fig = data['purpose'].value_counts().plot.bar()\n",
    "fig.set_title('Loan Purpose')\n",
    "fig.set_ylabel('Number of customers')"
   ]
  },
  {
   "cell_type": "markdown",
   "metadata": {},
   "source": [
    "The majority of the borrowers intend to use the loan for 'debt consolidation' or to repay their 'credit cards'. This is quite common. What the borrowers intend to do is, to consolidate all the debt that they have on different financial items, in one single debt, the new loan that they will take from Lending Club in this case. This loan will usually provide an advantage to the borrower, either in the form of lower interest rates than a credit card, for example, or longer repayment period."
   ]
  },
  {
   "cell_type": "code",
   "execution_count": 9,
   "metadata": {},
   "outputs": [
    {
     "data": {
      "text/plain": [
       "array(['Current', 'Fully Paid', 'Default', 'Charged Off',\n",
       "       'Late (31-120 days)', 'Issued', 'In Grace Period',\n",
       "       'Does not meet the credit policy. Status:Fully Paid',\n",
       "       'Does not meet the credit policy. Status:Charged Off',\n",
       "       'Late (16-30 days)'], dtype=object)"
      ]
     },
     "execution_count": 9,
     "metadata": {},
     "output_type": "execute_result"
    }
   ],
   "source": [
    "# let's look at one additional categorical variable,\n",
    "# \"loan status\", which represents the current status\n",
    "# of the loan. This is whether the loan is still active\n",
    "# and being repaid, or if it was defaulted,\n",
    "# or if it was fully paid among other things.\n",
    "\n",
    "data.loan_status.unique()"
   ]
  },
  {
   "cell_type": "code",
   "execution_count": 10,
   "metadata": {},
   "outputs": [
    {
     "data": {
      "text/plain": [
       "<matplotlib.text.Text at 0xa771f7b00>"
      ]
     },
     "execution_count": 10,
     "metadata": {},
     "output_type": "execute_result"
    },
    {
     "data": {
      "image/png": "[encoded data removed]",
      "text/plain": [
       "<matplotlib.figure.Figure at 0xa7712c160>"
      ]
     },
     "metadata": {},
     "output_type": "display_data"
    }
   ],
   "source": [
    "# let's make a bar plot with the number of borrowers\n",
    "# within each category\n",
    "\n",
    "fig = data['loan_status'].value_counts().plot.bar()\n",
    "fig.set_title('Status of the Loan')\n",
    "fig.set_ylabel('Number of customers')"
   ]
  },
  {
   "cell_type": "markdown",
   "metadata": {},
   "source": [
    "We can see that the majority of the loans are active (current) and a big number have been 'Fully paid'. The remaining labels have the following meaning:\n",
    "- Late (16-30 days): customer missed a payment\n",
    "- Late (31-120 days): customer is behind in payments for more than a month\n",
    "- Charged off: the company declared that they will not be able to recover the money for that loan ( money is typically lost)\n",
    "- Issued: loan was granted but money not yet sent to borrower\n",
    "- In Grace Period: window of time agreed with customer to wait for payment, usually, when customer is behind in their payments"
   ]
  },
  {
   "cell_type": "code",
   "execution_count": 11,
   "metadata": {},
   "outputs": [
    {
     "data": {
      "text/plain": [
       "131079     5554979\n",
       "384935    16552323\n",
       "73585      8185454\n",
       "660814    56180166\n",
       "349757    16772363\n",
       "Name: id, dtype: int64"
      ]
     },
     "execution_count": 11,
     "metadata": {},
     "output_type": "execute_result"
    }
   ],
   "source": [
    "# finally, let's look at a variable that is numerical,\n",
    "# but its numbers have no real meaning, and therefore\n",
    "# should be better considered as a categorical one.\n",
    "\n",
    "data['id'].head()"
   ]
  },
  {
   "cell_type": "markdown",
   "metadata": {},
   "source": [
    "In this case, each id represents one customer. This number is assigned in order to identify the customer if needed, while \n",
    "maintaining confidentiality."
   ]
  },
  {
   "cell_type": "code",
   "execution_count": 12,
   "metadata": {},
   "outputs": [
    {
     "data": {
      "text/plain": [
       "10000"
      ]
     },
     "execution_count": 12,
     "metadata": {},
     "output_type": "execute_result"
    }
   ],
   "source": [
    "# The variable has as many different id values as customers,\n",
    "# in this case 10000, because we loaded randomly \n",
    "# 10000 rows/customers from the original dataset.\n",
    "\n",
    "len(data['id'].unique())"
   ]
  },
  {
   "cell_type": "markdown",
   "metadata": {
    "collapsed": true
   },
   "source": [
    "**That is all for this demonstration. I hope you enjoyed the notebook, and see you in the next one.**"
   ]
  }
 ],
 "metadata": {
  "kernelspec": {
   "display_name": "Python 3",
   "language": "python",
   "name": "python3"
  },
  "language_info": {
   "codemirror_mode": {
    "name": "ipython",
    "version": 3
   },
   "file_extension": ".py",
   "mimetype": "text/x-python",
   "name": "python",
   "nbconvert_exporter": "python",
   "pygments_lexer": "ipython3",
   "version": "3.5.3"
  },
  "toc": {
   "nav_menu": {},
   "number_sections": true,
   "sideBar": true,
   "skip_h1_title": false,
   "toc_cell": false,
   "toc_position": {},
   "toc_section_display": "block",
   "toc_window_display": true
  }
 },
 "nbformat": 4,
 "nbformat_minor": 1
}
